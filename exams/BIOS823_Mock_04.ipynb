{
 "cells": [
  {
   "cell_type": "markdown",
   "metadata": {},
   "source": [
    "**1**. (25 points)\n",
    "\n",
    "- Write a **recursive** function that returns the length of the hailstone sequence staring with a positive integer $n$.  (15 points)\n",
    "\n",
    "The hailstone sequence is defined by the following rules:\n",
    "```\n",
    "- If n is 1, stop\n",
    "- If n is even, divide by 2 and repeat\n",
    "- If n is odd, multiply by 3 and add 1 and repeat\n",
    "```\n",
    "For example, the hailstone sequence starting with $n = 3$ has length 8:\n",
    "```\n",
    "- 3, 10, 5, 16, 8, 4, 2, 1\n",
    "```\n",
    "\n",
    "Use the `functools` package to avoid duplicate function calls.\n",
    "\n",
    "- Find the number that gives the longest sequence for starting numbers less than 100,000. Report the number and the length of the generated sequence. (10 points)\n"
   ]
  },
  {
   "cell_type": "code",
   "execution_count": null,
   "metadata": {},
   "outputs": [],
   "source": [
    "\n",
    "\n",
    "\n"
   ]
  },
  {
   "cell_type": "markdown",
   "metadata": {},
   "source": [
    "**2**. (25 points)\n",
    "\n",
    "- Create a `pnadas` DataFrame called `df` from the data set at https://bit.ly/2ksKr8f, taking care to only read in the `time` and `value` columns. (5 points)\n",
    "- Fill all rows with missing values with the value from the last non-missing value (i.e. forward fill) (5 points)\n",
    "- Convert to a `pandas` Series `s` using `time` as the index (5 points)\n",
    "- Create a new series `s1` with the rolling average using a shifting window of size 7 and a minimum period of 1 (5 points)\n",
    "- Report the `time` and value for the largest rolling average (5 points)"
   ]
  },
  {
   "cell_type": "code",
   "execution_count": 5,
   "metadata": {},
   "outputs": [],
   "source": [
    "\n",
    "\n",
    "\n"
   ]
  },
  {
   "cell_type": "markdown",
   "metadata": {},
   "source": [
    "**3**. (25 points)\n",
    "\n",
    "- Get information in JSON format about startship 23 from the Star Wars API https://swapi.co/api using the `requests` package (5 points)\n",
    "- Report the time interval between `created` and `edited` in minutes using the `pendulum` package. It is also ok if you prefer to do this using the standard `datetime` library (5 points)\n",
    "- Replace the URL values stored at the `films` key with the titles of the actual films (5 points)\n",
    "- Save the new JSON (with film titles and not URLs) to a file `ship.json` (5 points)\n",
    "- Read in the JSON file you have just saved as a Python dictionary (5 points)"
   ]
  },
  {
   "cell_type": "code",
   "execution_count": null,
   "metadata": {},
   "outputs": [],
   "source": [
    "\n",
    "\n",
    "\n"
   ]
  },
  {
   "cell_type": "markdown",
   "metadata": {},
   "source": [
    "**4**. (25 points)\n",
    "\n",
    "Use SQL to answer the following questions using the SQLite3 database `anemia.db`:\n",
    "\n",
    "- Show the tables (not indexes) and their schema (in SQL) in the anemia database (5 points)\n",
    "- Count the number of male and female patients (5 points)\n",
    "- Find the average age of male and female patients (as of right now) (5 points)\n",
    "- Show the sex, hb and name of patients with severe anemia ordered by severity. Severe anemia is defined as\n",
    "    - Hb < 7 if female\n",
    "    - Hb < 8 if male\n",
    "    \n",
    "(10 points)\n",
    "\n",
    "You many assume `pid` is the PRIMARY KEY and the FOREIGN KEY in the appropriate tables. \n",
    "   \n",
    "Note: Hb is short for hemoglobin levels.\n",
    "\n",
    "Hint: In SQLite3, you can use `DATE('now')` to get today's date."
   ]
  },
  {
   "cell_type": "code",
   "execution_count": 24,
   "metadata": {},
   "outputs": [],
   "source": [
    "%load_ext sql"
   ]
  },
  {
   "cell_type": "code",
   "execution_count": 25,
   "metadata": {},
   "outputs": [
    {
     "data": {
      "text/plain": [
       "'Connected: None@anemia.db'"
      ]
     },
     "execution_count": 25,
     "metadata": {},
     "output_type": "execute_result"
    }
   ],
   "source": [
    "%sql sqlite:///anemia.db"
   ]
  },
  {
   "cell_type": "code",
   "execution_count": null,
   "metadata": {},
   "outputs": [],
   "source": [
    "\n",
    "\n",
    "\n"
   ]
  }
 ],
 "metadata": {
  "kernelspec": {
   "display_name": "Python 3",
   "language": "python",
   "name": "python3"
  },
  "language_info": {
   "codemirror_mode": {
    "name": "ipython",
    "version": 3
   },
   "file_extension": ".py",
   "mimetype": "text/x-python",
   "name": "python",
   "nbconvert_exporter": "python",
   "pygments_lexer": "ipython3",
   "version": "3.8.5"
  }
 },
 "nbformat": 4,
 "nbformat_minor": 2
}
