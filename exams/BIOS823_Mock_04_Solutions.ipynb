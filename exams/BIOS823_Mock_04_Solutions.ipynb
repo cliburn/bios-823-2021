{
 "cells": [
  {
   "cell_type": "markdown",
   "metadata": {},
   "source": [
    "**1**. (25 points)\n",
    "\n",
    "- Write a **recursive** function that returns the length of the hailstone sequence staring with a positive integer $n$.  (15 points)\n",
    "\n",
    "The hailstone sequence is defined by the following rules:\n",
    "```\n",
    "- If n is 1, stop\n",
    "- If n is even, divide by 2 and repeat\n",
    "- If n is odd, multiply by 3 and add 1 and repeat\n",
    "```\n",
    "For example, the hailstone sequence starting with $n = 3$ has length 8:\n",
    "```\n",
    "- 3, 10, 5, 16, 8, 4, 2, 1\n",
    "```\n",
    "\n",
    "Use the `functools` package to avoid duplicate function calls.\n",
    "\n",
    "- Find the number that gives the longest sequence for starting numbers less than 100,000. Report the number and the length of the generated sequence. (10 points)\n"
   ]
  },
  {
   "cell_type": "code",
   "execution_count": 1,
   "metadata": {},
   "outputs": [],
   "source": [
    "from functools import lru_cache"
   ]
  },
  {
   "cell_type": "code",
   "execution_count": 2,
   "metadata": {},
   "outputs": [],
   "source": [
    "@lru_cache(None)\n",
    "def hailstone(n, k=1):\n",
    "    \"\"\"Reprots length of hailstone (Collatz) sequence startign with n.\"\"\"\n",
    "    if n == 1:\n",
    "        return k\n",
    "    else:\n",
    "        if n % 2 == 0:\n",
    "            return hailstone(n // 2, k+1)\n",
    "        else:\n",
    "            return hailstone(n*3 + 1, k+1)"
   ]
  },
  {
   "cell_type": "code",
   "execution_count": 3,
   "metadata": {},
   "outputs": [],
   "source": [
    "best = [0, 0]\n",
    "for i in range(1, 100000):\n",
    "    s = hailstone(i)\n",
    "    if s > best[1]:\n",
    "        best = (i, s)"
   ]
  },
  {
   "cell_type": "code",
   "execution_count": 4,
   "metadata": {},
   "outputs": [
    {
     "data": {
      "text/plain": [
       "(77031, 351)"
      ]
     },
     "execution_count": 4,
     "metadata": {},
     "output_type": "execute_result"
    }
   ],
   "source": [
    "best"
   ]
  },
  {
   "cell_type": "markdown",
   "metadata": {},
   "source": [
    "An alternative solution."
   ]
  },
  {
   "cell_type": "code",
   "execution_count": 5,
   "metadata": {},
   "outputs": [],
   "source": [
    "@lru_cache(None)\n",
    "def hailstone_alt(n):\n",
    "    \"\"\"Reprots length of hailstone (Collatz) sequence startign with n.\"\"\"\n",
    "    if n == 1:\n",
    "        return 1\n",
    "    else:\n",
    "        if n % 2 == 0:\n",
    "            return 1 + hailstone_alt(n // 2)\n",
    "        else:\n",
    "            return 1 + hailstone_alt(n*3 + 1)"
   ]
  },
  {
   "cell_type": "code",
   "execution_count": 6,
   "metadata": {},
   "outputs": [
    {
     "data": {
      "text/plain": [
       "8"
      ]
     },
     "execution_count": 6,
     "metadata": {},
     "output_type": "execute_result"
    }
   ],
   "source": [
    "hailstone_alt(3)"
   ]
  },
  {
   "cell_type": "code",
   "execution_count": 7,
   "metadata": {},
   "outputs": [],
   "source": [
    "best = [0, 0]\n",
    "for i in range(1, 100000):\n",
    "    s = hailstone_alt(i)\n",
    "    if s > best[1]:\n",
    "        best = (i, s)"
   ]
  },
  {
   "cell_type": "code",
   "execution_count": 8,
   "metadata": {},
   "outputs": [
    {
     "data": {
      "text/plain": [
       "(77031, 351)"
      ]
     },
     "execution_count": 8,
     "metadata": {},
     "output_type": "execute_result"
    }
   ],
   "source": [
    "best"
   ]
  },
  {
   "cell_type": "markdown",
   "metadata": {},
   "source": [
    "**2**. (25 points)\n",
    "\n",
    "- Create a `pnadas` DataFrame called `df` from the data set at https://bit.ly/2ksKr8f, taking care to only read in the `time` and `value` columns. (5 points)\n",
    "- Fill all rows with missing values with the value from the last non-missing value (i.e. forward fill) (5 points)\n",
    "- Convert to a `pandas` Series `s` using `time` as the index (5 points)\n",
    "- Create a new series `s1` with the rolling average using a shifting window of size 7 and a minimum period of 1 (5 points)\n",
    "- Report the `time` and value for the largest rolling average (5 points)"
   ]
  },
  {
   "cell_type": "code",
   "execution_count": 9,
   "metadata": {},
   "outputs": [],
   "source": [
    "import pandas as pd"
   ]
  },
  {
   "cell_type": "code",
   "execution_count": 10,
   "metadata": {},
   "outputs": [],
   "source": [
    "df = pd.read_csv('https://bit.ly/2ksKr8f', usecols=['time', 'value'])"
   ]
  },
  {
   "cell_type": "code",
   "execution_count": 11,
   "metadata": {},
   "outputs": [],
   "source": [
    "df = df.fillna(method='ffill')"
   ]
  },
  {
   "cell_type": "code",
   "execution_count": 12,
   "metadata": {},
   "outputs": [
    {
     "data": {
      "text/html": [
       "<div>\n",
       "<style scoped>\n",
       "    .dataframe tbody tr th:only-of-type {\n",
       "        vertical-align: middle;\n",
       "    }\n",
       "\n",
       "    .dataframe tbody tr th {\n",
       "        vertical-align: top;\n",
       "    }\n",
       "\n",
       "    .dataframe thead th {\n",
       "        text-align: right;\n",
       "    }\n",
       "</style>\n",
       "<table border=\"1\" class=\"dataframe\">\n",
       "  <thead>\n",
       "    <tr style=\"text-align: right;\">\n",
       "      <th></th>\n",
       "      <th>time</th>\n",
       "      <th>value</th>\n",
       "    </tr>\n",
       "  </thead>\n",
       "  <tbody>\n",
       "    <tr>\n",
       "      <td>0</td>\n",
       "      <td>1</td>\n",
       "      <td>306.25</td>\n",
       "    </tr>\n",
       "    <tr>\n",
       "      <td>1</td>\n",
       "      <td>2</td>\n",
       "      <td>299.50</td>\n",
       "    </tr>\n",
       "    <tr>\n",
       "      <td>2</td>\n",
       "      <td>3</td>\n",
       "      <td>303.45</td>\n",
       "    </tr>\n",
       "    <tr>\n",
       "      <td>3</td>\n",
       "      <td>4</td>\n",
       "      <td>296.75</td>\n",
       "    </tr>\n",
       "    <tr>\n",
       "      <td>4</td>\n",
       "      <td>5</td>\n",
       "      <td>304.40</td>\n",
       "    </tr>\n",
       "  </tbody>\n",
       "</table>\n",
       "</div>"
      ],
      "text/plain": [
       "   time   value\n",
       "0     1  306.25\n",
       "1     2  299.50\n",
       "2     3  303.45\n",
       "3     4  296.75\n",
       "4     5  304.40"
      ]
     },
     "execution_count": 12,
     "metadata": {},
     "output_type": "execute_result"
    }
   ],
   "source": [
    "df.head()"
   ]
  },
  {
   "cell_type": "markdown",
   "metadata": {},
   "source": [
    "Note: The pd.Series constructor has quite unintuitive behavior when the `index` argument is provided. See  `DataFrame_to_Series.ipynb` for this."
   ]
  },
  {
   "cell_type": "code",
   "execution_count": 13,
   "metadata": {},
   "outputs": [],
   "source": [
    "s = pd.Series(data=df['value'])\n",
    "s.index = df['time']"
   ]
  },
  {
   "cell_type": "code",
   "execution_count": 14,
   "metadata": {},
   "outputs": [
    {
     "data": {
      "text/plain": [
       "time\n",
       "1    306.25\n",
       "2    299.50\n",
       "3    303.45\n",
       "4    296.75\n",
       "5    304.40\n",
       "Name: value, dtype: float64"
      ]
     },
     "execution_count": 14,
     "metadata": {},
     "output_type": "execute_result"
    }
   ],
   "source": [
    "s.head()"
   ]
  },
  {
   "cell_type": "code",
   "execution_count": 15,
   "metadata": {},
   "outputs": [],
   "source": [
    "s1 = s.rolling(7, 1).mean()"
   ]
  },
  {
   "cell_type": "code",
   "execution_count": 16,
   "metadata": {},
   "outputs": [
    {
     "data": {
      "text/plain": [
       "time\n",
       "1    306.250000\n",
       "2    302.875000\n",
       "3    303.066667\n",
       "4    301.487500\n",
       "5    302.070000\n",
       "Name: value, dtype: float64"
      ]
     },
     "execution_count": 16,
     "metadata": {},
     "output_type": "execute_result"
    }
   ],
   "source": [
    "s1.head()"
   ]
  },
  {
   "cell_type": "code",
   "execution_count": 17,
   "metadata": {},
   "outputs": [
    {
     "data": {
      "text/plain": [
       "time\n",
       "772    505.15\n",
       "Name: value, dtype: float64"
      ]
     },
     "execution_count": 17,
     "metadata": {},
     "output_type": "execute_result"
    }
   ],
   "source": [
    "s1.sort_values(ascending=False).head(1)"
   ]
  },
  {
   "cell_type": "markdown",
   "metadata": {},
   "source": [
    "**3**. (25 points)\n",
    "\n",
    "- Get information in JSON format about startship 23 from the Star Wars API https://swapi.co/api using the `requests` package (5 points)\n",
    "- Report the time interval between `created` and `edited` in minutes using the `pendulum` package (5 points)\n",
    "- Replace the URL values stored at the `films` key with the titles of the actual films (5 points)\n",
    "- Save the new JSON (with film titles and not URLs) to a file `ship.json` (5 points)\n",
    "- Read in the JSON file you have just saved as a Python dictionary (5 points)"
   ]
  },
  {
   "cell_type": "code",
   "execution_count": 18,
   "metadata": {},
   "outputs": [],
   "source": [
    "import requests"
   ]
  },
  {
   "cell_type": "code",
   "execution_count": 19,
   "metadata": {},
   "outputs": [
    {
     "data": {
      "text/plain": [
       "{'name': 'EF76 Nebulon-B escort frigate',\n",
       " 'model': 'EF76 Nebulon-B escort frigate',\n",
       " 'manufacturer': 'Kuat Drive Yards',\n",
       " 'cost_in_credits': '8500000',\n",
       " 'length': '300',\n",
       " 'max_atmosphering_speed': '800',\n",
       " 'crew': '854',\n",
       " 'passengers': '75',\n",
       " 'cargo_capacity': '6000000',\n",
       " 'consumables': '2 years',\n",
       " 'hyperdrive_rating': '2.0',\n",
       " 'MGLT': '40',\n",
       " 'starship_class': 'Escort ship',\n",
       " 'pilots': [],\n",
       " 'films': ['https://swapi.co/api/films/2/', 'https://swapi.co/api/films/3/'],\n",
       " 'created': '2014-12-15T13:06:30.813000Z',\n",
       " 'edited': '2014-12-22T17:35:44.848329Z',\n",
       " 'url': 'https://swapi.co/api/starships/23/'}"
      ]
     },
     "execution_count": 19,
     "metadata": {},
     "output_type": "execute_result"
    }
   ],
   "source": [
    "url = 'https://swapi.co/api/starships/23'\n",
    "ship = requests.get(url).json()\n",
    "ship"
   ]
  },
  {
   "cell_type": "code",
   "execution_count": 20,
   "metadata": {},
   "outputs": [],
   "source": [
    "import pendulum"
   ]
  },
  {
   "cell_type": "code",
   "execution_count": 21,
   "metadata": {},
   "outputs": [],
   "source": [
    "created = pendulum.parse(ship['created'])"
   ]
  },
  {
   "cell_type": "code",
   "execution_count": 22,
   "metadata": {},
   "outputs": [],
   "source": [
    "edited = pendulum.parse(ship['edited'])"
   ]
  },
  {
   "cell_type": "code",
   "execution_count": 23,
   "metadata": {},
   "outputs": [
    {
     "data": {
      "text/plain": [
       "10349"
      ]
     },
     "execution_count": 23,
     "metadata": {},
     "output_type": "execute_result"
    }
   ],
   "source": [
    "(edited - created).in_minutes()"
   ]
  },
  {
   "cell_type": "code",
   "execution_count": 24,
   "metadata": {},
   "outputs": [],
   "source": [
    "films = [requests.get(film).json()['title'] for film in ship['films']]    "
   ]
  },
  {
   "cell_type": "code",
   "execution_count": 25,
   "metadata": {},
   "outputs": [
    {
     "data": {
      "text/plain": [
       "['The Empire Strikes Back', 'Return of the Jedi']"
      ]
     },
     "execution_count": 25,
     "metadata": {},
     "output_type": "execute_result"
    }
   ],
   "source": [
    "films"
   ]
  },
  {
   "cell_type": "code",
   "execution_count": 26,
   "metadata": {},
   "outputs": [],
   "source": [
    "ship['films'] = films"
   ]
  },
  {
   "cell_type": "code",
   "execution_count": 27,
   "metadata": {},
   "outputs": [],
   "source": [
    "import json"
   ]
  },
  {
   "cell_type": "code",
   "execution_count": 28,
   "metadata": {},
   "outputs": [],
   "source": [
    "with open('ship.json', 'w') as f:\n",
    "    json.dump(ship, f)"
   ]
  },
  {
   "cell_type": "code",
   "execution_count": 29,
   "metadata": {},
   "outputs": [],
   "source": [
    "with open('ship.json') as f:\n",
    "    ship = json.load(f)"
   ]
  },
  {
   "cell_type": "code",
   "execution_count": 30,
   "metadata": {},
   "outputs": [
    {
     "data": {
      "text/plain": [
       "{'name': 'EF76 Nebulon-B escort frigate',\n",
       " 'model': 'EF76 Nebulon-B escort frigate',\n",
       " 'manufacturer': 'Kuat Drive Yards',\n",
       " 'cost_in_credits': '8500000',\n",
       " 'length': '300',\n",
       " 'max_atmosphering_speed': '800',\n",
       " 'crew': '854',\n",
       " 'passengers': '75',\n",
       " 'cargo_capacity': '6000000',\n",
       " 'consumables': '2 years',\n",
       " 'hyperdrive_rating': '2.0',\n",
       " 'MGLT': '40',\n",
       " 'starship_class': 'Escort ship',\n",
       " 'pilots': [],\n",
       " 'films': ['The Empire Strikes Back', 'Return of the Jedi'],\n",
       " 'created': '2014-12-15T13:06:30.813000Z',\n",
       " 'edited': '2014-12-22T17:35:44.848329Z',\n",
       " 'url': 'https://swapi.co/api/starships/23/'}"
      ]
     },
     "execution_count": 30,
     "metadata": {},
     "output_type": "execute_result"
    }
   ],
   "source": [
    "ship"
   ]
  },
  {
   "cell_type": "markdown",
   "metadata": {},
   "source": [
    "**4**. (25 points)\n",
    "\n",
    "Use SQL to answer the following questions using the SQLite3 database `anemia.db`:\n",
    "\n",
    "- Count the number of male and female patients (5 points)\n",
    "- Find the average age of male and female patients (as of right now) (5 points)\n",
    "- Show the sex, hb and name of patients with severe anemia ordered by severity. Severe anemia is defined as\n",
    "    - Hb < 7 if female\n",
    "    - Hb < 8 if male\n",
    "    \n",
    "(15 points)\n",
    "\n",
    "You many assume `pid` is the PRIMARY KEY in the patients table and the FOREIGN KEY in the labs table. \n",
    "   \n",
    "Note: Hb is short for hemoglobin levels.\n",
    "\n",
    "Hint: In SQLite3, you can use `DATE('now')` to get today's date."
   ]
  },
  {
   "cell_type": "code",
   "execution_count": 31,
   "metadata": {},
   "outputs": [],
   "source": [
    "%load_ext sql"
   ]
  },
  {
   "cell_type": "code",
   "execution_count": 32,
   "metadata": {},
   "outputs": [
    {
     "data": {
      "text/plain": [
       "'Connected: @anemia.db'"
      ]
     },
     "execution_count": 32,
     "metadata": {},
     "output_type": "execute_result"
    }
   ],
   "source": [
    "%sql sqlite:///anemia.db"
   ]
  },
  {
   "cell_type": "code",
   "execution_count": 33,
   "metadata": {},
   "outputs": [
    {
     "name": "stdout",
     "output_type": "stream",
     "text": [
      " * sqlite:///anemia.db\n",
      "Done.\n"
     ]
    },
    {
     "data": {
      "text/html": [
       "<table>\n",
       "    <tr>\n",
       "        <th>type</th>\n",
       "        <th>name</th>\n",
       "        <th>tbl_name</th>\n",
       "        <th>rootpage</th>\n",
       "        <th>sql</th>\n",
       "    </tr>\n",
       "    <tr>\n",
       "        <td>table</td>\n",
       "        <td>labs</td>\n",
       "        <td>labs</td>\n",
       "        <td>2</td>\n",
       "        <td>CREATE TABLE labs (<br>\t&quot;index&quot; BIGINT, <br>\tlab_id BIGINT, <br>\thb FLOAT, <br>\tpid TEXT<br>)</td>\n",
       "    </tr>\n",
       "    <tr>\n",
       "        <td>table</td>\n",
       "        <td>patients</td>\n",
       "        <td>patients</td>\n",
       "        <td>15</td>\n",
       "        <td>CREATE TABLE patients (<br>\t&quot;index&quot; BIGINT, <br>\tpid TEXT, <br>\tname TEXT, <br>\tsex TEXT, <br>\tbirthday DATE<br>)</td>\n",
       "    </tr>\n",
       "</table>"
      ],
      "text/plain": [
       "[('table', 'labs', 'labs', 2, 'CREATE TABLE labs (\\n\\t\"index\" BIGINT, \\n\\tlab_id BIGINT, \\n\\thb FLOAT, \\n\\tpid TEXT\\n)'),\n",
       " ('table', 'patients', 'patients', 15, 'CREATE TABLE patients (\\n\\t\"index\" BIGINT, \\n\\tpid TEXT, \\n\\tname TEXT, \\n\\tsex TEXT, \\n\\tbirthday DATE\\n)')]"
      ]
     },
     "execution_count": 33,
     "metadata": {},
     "output_type": "execute_result"
    }
   ],
   "source": [
    "%%sql \n",
    "\n",
    "SELECT * FROM sqlite_master WHERe type='table'"
   ]
  },
  {
   "cell_type": "code",
   "execution_count": 34,
   "metadata": {},
   "outputs": [
    {
     "name": "stdout",
     "output_type": "stream",
     "text": [
      " * sqlite:///anemia.db\n",
      "Done.\n"
     ]
    },
    {
     "data": {
      "text/html": [
       "<table>\n",
       "    <tr>\n",
       "        <th>index</th>\n",
       "        <th>pid</th>\n",
       "        <th>name</th>\n",
       "        <th>sex</th>\n",
       "        <th>birthday</th>\n",
       "    </tr>\n",
       "    <tr>\n",
       "        <td>0</td>\n",
       "        <td>535-21-0780</td>\n",
       "        <td>Jeffrey Lowe</td>\n",
       "        <td>M</td>\n",
       "        <td>2005-08-15</td>\n",
       "    </tr>\n",
       "    <tr>\n",
       "        <td>1</td>\n",
       "        <td>400-64-2928</td>\n",
       "        <td>Heather Fields MD</td>\n",
       "        <td>F</td>\n",
       "        <td>1966-12-29</td>\n",
       "    </tr>\n",
       "    <tr>\n",
       "        <td>2</td>\n",
       "        <td>018-92-0541</td>\n",
       "        <td>James Lloyd</td>\n",
       "        <td>M</td>\n",
       "        <td>1959-08-28</td>\n",
       "    </tr>\n",
       "</table>"
      ],
      "text/plain": [
       "[(0, '535-21-0780', 'Jeffrey Lowe', 'M', '2005-08-15'),\n",
       " (1, '400-64-2928', 'Heather Fields MD', 'F', '1966-12-29'),\n",
       " (2, '018-92-0541', 'James Lloyd', 'M', '1959-08-28')]"
      ]
     },
     "execution_count": 34,
     "metadata": {},
     "output_type": "execute_result"
    }
   ],
   "source": [
    "%%sql\n",
    "\n",
    "SELECT * FROM patients LIMIT 3"
   ]
  },
  {
   "cell_type": "code",
   "execution_count": 35,
   "metadata": {},
   "outputs": [
    {
     "name": "stdout",
     "output_type": "stream",
     "text": [
      " * sqlite:///anemia.db\n",
      "Done.\n"
     ]
    },
    {
     "data": {
      "text/html": [
       "<table>\n",
       "    <tr>\n",
       "        <th>index</th>\n",
       "        <th>lab_id</th>\n",
       "        <th>hb</th>\n",
       "        <th>pid</th>\n",
       "    </tr>\n",
       "    <tr>\n",
       "        <td>0</td>\n",
       "        <td>712</td>\n",
       "        <td>16.9</td>\n",
       "        <td>827-62-3031</td>\n",
       "    </tr>\n",
       "    <tr>\n",
       "        <td>1</td>\n",
       "        <td>183</td>\n",
       "        <td>12.7</td>\n",
       "        <td>309-27-7072</td>\n",
       "    </tr>\n",
       "    <tr>\n",
       "        <td>2</td>\n",
       "        <td>549</td>\n",
       "        <td>18.1</td>\n",
       "        <td>382-63-3837</td>\n",
       "    </tr>\n",
       "</table>"
      ],
      "text/plain": [
       "[(0, 712, 16.9, '827-62-3031'),\n",
       " (1, 183, 12.7, '309-27-7072'),\n",
       " (2, 549, 18.1, '382-63-3837')]"
      ]
     },
     "execution_count": 35,
     "metadata": {},
     "output_type": "execute_result"
    }
   ],
   "source": [
    "%%sql\n",
    "\n",
    "SELECT * FROM labs LIMIT 3"
   ]
  },
  {
   "cell_type": "code",
   "execution_count": 36,
   "metadata": {},
   "outputs": [
    {
     "name": "stdout",
     "output_type": "stream",
     "text": [
      " * sqlite:///anemia.db\n",
      "Done.\n"
     ]
    },
    {
     "data": {
      "text/html": [
       "<table>\n",
       "    <tr>\n",
       "        <th>sex</th>\n",
       "        <th>COUNT(sex)</th>\n",
       "    </tr>\n",
       "    <tr>\n",
       "        <td>F</td>\n",
       "        <td>523</td>\n",
       "    </tr>\n",
       "    <tr>\n",
       "        <td>M</td>\n",
       "        <td>477</td>\n",
       "    </tr>\n",
       "</table>"
      ],
      "text/plain": [
       "[('F', 523), ('M', 477)]"
      ]
     },
     "execution_count": 36,
     "metadata": {},
     "output_type": "execute_result"
    }
   ],
   "source": [
    "%%sql\n",
    "\n",
    "SELECT sex, COUNT(sex)\n",
    "FROM patients\n",
    "GROUP BY sex"
   ]
  },
  {
   "cell_type": "code",
   "execution_count": 37,
   "metadata": {},
   "outputs": [
    {
     "name": "stdout",
     "output_type": "stream",
     "text": [
      " * sqlite:///anemia.db\n",
      "Done.\n"
     ]
    },
    {
     "data": {
      "text/html": [
       "<table>\n",
       "    <tr>\n",
       "        <th>date(&#x27;now&#x27;)</th>\n",
       "    </tr>\n",
       "    <tr>\n",
       "        <td>2019-10-02</td>\n",
       "    </tr>\n",
       "</table>"
      ],
      "text/plain": [
       "[('2019-10-02',)]"
      ]
     },
     "execution_count": 37,
     "metadata": {},
     "output_type": "execute_result"
    }
   ],
   "source": [
    "%%sql\n",
    "\n",
    "SELECT date('now')"
   ]
  },
  {
   "cell_type": "code",
   "execution_count": 38,
   "metadata": {},
   "outputs": [
    {
     "name": "stdout",
     "output_type": "stream",
     "text": [
      " * sqlite:///anemia.db\n",
      "Done.\n"
     ]
    },
    {
     "data": {
      "text/html": [
       "<table>\n",
       "    <tr>\n",
       "        <th>sex</th>\n",
       "        <th>round(AVG(date(&#x27;now&#x27;) - birthday), 1)</th>\n",
       "    </tr>\n",
       "    <tr>\n",
       "        <td>F</td>\n",
       "        <td>58.7</td>\n",
       "    </tr>\n",
       "    <tr>\n",
       "        <td>M</td>\n",
       "        <td>57.8</td>\n",
       "    </tr>\n",
       "</table>"
      ],
      "text/plain": [
       "[('F', 58.7), ('M', 57.8)]"
      ]
     },
     "execution_count": 38,
     "metadata": {},
     "output_type": "execute_result"
    }
   ],
   "source": [
    "%%sql\n",
    "\n",
    "SELECT sex, round(AVG(date('now') - birthday), 1)\n",
    "FROM patients\n",
    "GROUP BY sex"
   ]
  },
  {
   "cell_type": "code",
   "execution_count": 39,
   "metadata": {
    "scrolled": false
   },
   "outputs": [
    {
     "name": "stdout",
     "output_type": "stream",
     "text": [
      " * sqlite:///anemia.db\n",
      "Done.\n"
     ]
    },
    {
     "data": {
      "text/html": [
       "<table>\n",
       "    <tr>\n",
       "        <th>sex</th>\n",
       "        <th>hb</th>\n",
       "        <th>name</th>\n",
       "    </tr>\n",
       "    <tr>\n",
       "        <td>M</td>\n",
       "        <td>3.8</td>\n",
       "        <td>Eric Lee</td>\n",
       "    </tr>\n",
       "    <tr>\n",
       "        <td>M</td>\n",
       "        <td>4.6</td>\n",
       "        <td>Brian Coleman</td>\n",
       "    </tr>\n",
       "    <tr>\n",
       "        <td>M</td>\n",
       "        <td>5.9</td>\n",
       "        <td>Shawn Curry</td>\n",
       "    </tr>\n",
       "    <tr>\n",
       "        <td>F</td>\n",
       "        <td>6.3</td>\n",
       "        <td>Michelle Ross</td>\n",
       "    </tr>\n",
       "    <tr>\n",
       "        <td>F</td>\n",
       "        <td>6.4</td>\n",
       "        <td>Sharon Turner</td>\n",
       "    </tr>\n",
       "    <tr>\n",
       "        <td>M</td>\n",
       "        <td>6.4</td>\n",
       "        <td>Richard Moore</td>\n",
       "    </tr>\n",
       "    <tr>\n",
       "        <td>M</td>\n",
       "        <td>6.5</td>\n",
       "        <td>Mr. James Kennedy</td>\n",
       "    </tr>\n",
       "    <tr>\n",
       "        <td>F</td>\n",
       "        <td>6.5</td>\n",
       "        <td>Lorraine Ford</td>\n",
       "    </tr>\n",
       "    <tr>\n",
       "        <td>M</td>\n",
       "        <td>6.6</td>\n",
       "        <td>Ernest Vega</td>\n",
       "    </tr>\n",
       "    <tr>\n",
       "        <td>M</td>\n",
       "        <td>7.1</td>\n",
       "        <td>Ryan Wood</td>\n",
       "    </tr>\n",
       "    <tr>\n",
       "        <td>M</td>\n",
       "        <td>7.5</td>\n",
       "        <td>Charles Weber</td>\n",
       "    </tr>\n",
       "    <tr>\n",
       "        <td>M</td>\n",
       "        <td>7.7</td>\n",
       "        <td>Charles Simmons</td>\n",
       "    </tr>\n",
       "    <tr>\n",
       "        <td>M</td>\n",
       "        <td>7.8</td>\n",
       "        <td>Casey Nichols</td>\n",
       "    </tr>\n",
       "    <tr>\n",
       "        <td>M</td>\n",
       "        <td>7.9</td>\n",
       "        <td>Cory Cantrell</td>\n",
       "    </tr>\n",
       "</table>"
      ],
      "text/plain": [
       "[('M', 3.8, 'Eric Lee'),\n",
       " ('M', 4.6, 'Brian Coleman'),\n",
       " ('M', 5.9, 'Shawn Curry'),\n",
       " ('F', 6.3, 'Michelle Ross'),\n",
       " ('F', 6.4, 'Sharon Turner'),\n",
       " ('M', 6.4, 'Richard Moore'),\n",
       " ('M', 6.5, 'Mr. James Kennedy'),\n",
       " ('F', 6.5, 'Lorraine Ford'),\n",
       " ('M', 6.6, 'Ernest Vega'),\n",
       " ('M', 7.1, 'Ryan Wood'),\n",
       " ('M', 7.5, 'Charles Weber'),\n",
       " ('M', 7.7, 'Charles Simmons'),\n",
       " ('M', 7.8, 'Casey Nichols'),\n",
       " ('M', 7.9, 'Cory Cantrell')]"
      ]
     },
     "execution_count": 39,
     "metadata": {},
     "output_type": "execute_result"
    }
   ],
   "source": [
    "%%sql\n",
    "\n",
    "SELECT sex, hb, name\n",
    "FROM patients, labs\n",
    "WHERE patients.pid = labs.pid AND \n",
    "((sex = 'M' AND hb < 8) OR (sex = 'F' AND hb < 7))\n",
    "ORDER BY hb"
   ]
  },
  {
   "cell_type": "code",
   "execution_count": null,
   "metadata": {},
   "outputs": [],
   "source": []
  }
 ],
 "metadata": {
  "kernelspec": {
   "display_name": "Python 3",
   "language": "python",
   "name": "python3"
  },
  "language_info": {
   "codemirror_mode": {
    "name": "ipython",
    "version": 3
   },
   "file_extension": ".py",
   "mimetype": "text/x-python",
   "name": "python",
   "nbconvert_exporter": "python",
   "pygments_lexer": "ipython3",
   "version": "3.8.5"
  }
 },
 "nbformat": 4,
 "nbformat_minor": 2
}
