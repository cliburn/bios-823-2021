{
 "cells": [
  {
   "cell_type": "markdown",
   "metadata": {},
   "source": [
    "# BIOS 823 Midterm Exam\n",
    "\n",
    "- This is a closed book exam, with the exception of the 4 cheat sheets previously specified\n",
    "- There are 5 questions worth 25 points each - you may attempt all questions, but the maximum number of points you can get is 100\n",
    "- Points will be deducted for not following PEP 8 coding guidelines and poor coding practices in general\n",
    "- Points will be deducted for inefficient code - code for each question should take less than 10 seconds to execute\n",
    "\n",
    "Please print your name below to indicate that you agree to follow the **Duke Honor Code**\n",
    "\n",
    "NAME:\n",
    "\n",
    "If you do not print your name, it is an automatic 25 point deduction."
   ]
  },
  {
   "cell_type": "markdown",
   "metadata": {},
   "source": [
    "**1**. 25 points\n",
    "\n",
    "- Create the following `numpy` array $A$ using `fromfunction` (5 points)\n",
    "\n",
    "```\n",
    "array([[ 1,  2,  3,  4,  5],\n",
    "       [ 8,  9, 10, 11, 12],\n",
    "       [15, 16, 17, 18, 19],\n",
    "       [22, 23, 24, 25, 26],\n",
    "       [29, 30, 31, 32, 33],\n",
    "       [36, 37, 38, 39, 40],\n",
    "       [43, 44, 45, 46, 47]])\n",
    "```\n",
    "\n",
    "- Standardize $A$ to create $B$ (so each row has zero mean and unit standard deviation) (5 points)\n",
    "- Recreate $B$ by matrix multiplication of two vectors (5 points)\n",
    "- Find the trace of $BB^T$ (trace is sum of elements on the main diagonal) (5 points) \n",
    "- Replace all odd numbers in $A$ with 0 but keep even numbers untouched (5 points)\n",
    "\n",
    "Note:\n",
    "\n",
    "If you cannot create the matrix, load it using `A = np.load(ex1.npy)`. You will not receive credit for the first part but can still receive credit for the other parts."
   ]
  },
  {
   "cell_type": "code",
   "execution_count": 1,
   "metadata": {},
   "outputs": [],
   "source": [
    "\n",
    "\n",
    "\n"
   ]
  },
  {
   "cell_type": "markdown",
   "metadata": {},
   "source": [
    "**2**. 25 points\n",
    "\n",
    "For this question, you can assume that the input is an integer.\n",
    "\n",
    "- Write a function `is_prime` that returns True if a number is prime and false otherwise (5 points)\n",
    "- Find the number of primes between 1 million and 2 million (5 points)\n",
    "- Write a function to find the prime factorization of a number - e.g. 28 is 2 * 2 * 7 - function could return (2,2,7) (10 points) \n",
    "- Find the prime factors of 123456 (5 points)"
   ]
  },
  {
   "cell_type": "code",
   "execution_count": 34,
   "metadata": {},
   "outputs": [],
   "source": [
    "\n",
    "\n",
    "\n"
   ]
  },
  {
   "cell_type": "markdown",
   "metadata": {},
   "source": [
    "**3**. 25 points\n",
    "\n",
    "You are given this string\n",
    "\n",
    "`s = p83FR004B3NF7365hd55766zD7Hjx76260N7B1tL5R07H2Z0J73pPLz2Hzh56pP24nZ4LF8288XD1DbpH1fx6ZXbZ67V76j0j34BX`\n",
    "\n",
    "- Use regular expressions to create two lists from `s`, one consisting of contiguous letters and the other of contiguous digits. The first list would start [p,FR,...] while the second would start [83,004] (10 points)\n",
    "- Find all palindromes that are substrings of `s` with length 3 or more (15 points)"
   ]
  },
  {
   "cell_type": "code",
   "execution_count": 13,
   "metadata": {},
   "outputs": [],
   "source": [
    "s = 'p83FR004B3NF7365hd55766zD7Hjx76260N7B1tL5R07H2Z0J73pPLz2Hzh56pP24nZ4LF8288XD1DbpH1fx6ZXbZ67V76j0j34BX'"
   ]
  },
  {
   "cell_type": "code",
   "execution_count": 14,
   "metadata": {},
   "outputs": [],
   "source": [
    "\n",
    "\n"
   ]
  },
  {
   "cell_type": "markdown",
   "metadata": {},
   "source": [
    "**4**. 25 points\n",
    "\n",
    "- Read the titanic data set at https://raw.githubusercontent.com/datasciencedojo/datasets/master/titanic.csv into a pandas DataFrame (5 points)\n",
    "- Find the mean and median age by sex and Embarked, showing the result with a flat (non-hierarchical) index (5 points)\n",
    "- Insert a column Title that contains the honorific (Mr., Mrs., etc) found in the name (5 points)\n",
    "- Display a DataFrame where the column `Title` comes just before the column `Name`. For full credit, do this **without** manually rearranging column names. (5 points)\n",
    "- Using `seaborn` show violin plots of the `Age` for each `Sex`, with separate columns for `Survived` as shown below (5 points)\n",
    "\n",
    "<img src=\"violin.png\" alt=\"Drawing\" style=\"width: 200px;\"/>"
   ]
  },
  {
   "cell_type": "code",
   "execution_count": 20,
   "metadata": {},
   "outputs": [],
   "source": [
    "\n",
    "\n",
    "\n"
   ]
  },
  {
   "cell_type": "markdown",
   "metadata": {},
   "source": [
    "**5**. 25 points\n",
    "\n",
    "- Connect to the `Chinook.db` SQLite3 database using either sql magic or `sqlite3` (5 points)\n",
    "- Show the names of the tables in the database (5 points)\n",
    "- Show the first 5 rows of the `Playlist`, `PlaylistTrack` and `Track` tables (5 points)\n",
    "- How many tracks are there in the `90’s Music` playlist? For full credit, your query must use the string `90’s Music`. (10 points)"
   ]
  },
  {
   "cell_type": "code",
   "execution_count": 27,
   "metadata": {},
   "outputs": [],
   "source": [
    "\n",
    "\n",
    "\n"
   ]
  }
 ],
 "metadata": {
  "kernelspec": {
   "display_name": "Python 3",
   "language": "python",
   "name": "python3"
  },
  "language_info": {
   "codemirror_mode": {
    "name": "ipython",
    "version": 3
   },
   "file_extension": ".py",
   "mimetype": "text/x-python",
   "name": "python",
   "nbconvert_exporter": "python",
   "pygments_lexer": "ipython3",
   "version": "3.8.10"
  }
 },
 "nbformat": 4,
 "nbformat_minor": 4
}
