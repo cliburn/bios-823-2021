{
 "cells": [
  {
   "cell_type": "markdown",
   "metadata": {},
   "source": [
    "# BIOS 823 Midterm Exam\n",
    "\n",
    "- This is an open book exam\n",
    "- There are 4 questions worth 25 points each\n",
    "- There is 1 bonus question worth 10 points\n",
    "- The maximum number of points is 100\n",
    "- Points will be deducted for poor coding practices\n",
    "- Points will be deducted for inefficient code\n",
    "- The exam will be for 90 minutes only 4:45 - 6:15 PM\n",
    "\n",
    "Please print your name below to indicate that you agree to follow the **Duke Honor Code**\n",
    "\n",
    "NAME:\n",
    "\n",
    "If you do not print your name, it is an automatic 25 point deduction."
   ]
  },
  {
   "cell_type": "markdown",
   "metadata": {},
   "source": [
    "**1**. 25 points\n",
    "\n",
    "- Create the following `numpy` array $A$ using `fromfunction` (10 points)\n",
    "    - If you cannot create the matrix, load it using `A = np.load(ex1.npy)`. You will not receive credit for the first part but can still receive credit for the other parts.\n",
    "```\n",
    "array([[0, 1, 2, 3, 4],\n",
    "       [1, 0, 2, 3, 4],\n",
    "       [2, 2, 0, 3, 4],\n",
    "       [3, 3, 3, 0, 4],\n",
    "       [4, 4, 4, 4, 0]])\n",
    "```\n",
    "\n",
    "- Transform $A$ into $B$ such that all *rows* of $B$ have length 1. Check your solution. (15 points)"
   ]
  },
  {
   "cell_type": "code",
   "execution_count": null,
   "metadata": {},
   "outputs": [],
   "source": [
    "\n",
    "\n",
    "\n"
   ]
  },
  {
   "cell_type": "markdown",
   "metadata": {},
   "source": [
    "**2**. 25 points\n",
    "\n",
    "For this question, you can assume that the input is an integer.\n",
    "\n",
    "- Count the number of **palindromic** prime numbers less than 1,000,000 (10 points)\n",
    "    - Single digit primes are automatically palindromic.\n",
    "- Find all positive integers under 10,000 with the property that the integer is equal to the sum of its proper divisors. A proper divisor includes 1 but not the number itself. For example, one such integer is 6, since 6 = 1+2+3 (15 points)"
   ]
  },
  {
   "cell_type": "code",
   "execution_count": null,
   "metadata": {},
   "outputs": [],
   "source": [
    "\n",
    "\n",
    "\n"
   ]
  },
  {
   "cell_type": "markdown",
   "metadata": {},
   "source": [
    "**3**. 25 points\n",
    "\n",
    "You are given this string\n",
    "\n",
    "```\n",
    "AAAACCATCGGCTGTAGCCGACTCGCACTATCCAGGGGTAGTAACTGAACTATTGAGTCCCCAGCGTTATATGTGGTTTG\n",
    "CGAGATAACGCTGTTACGAGTACTGCCAGATACAACTACGCAATTCCGCGCAGGGTCATTAATGATTACCGTCTAGATAG\n",
    "GAGACACTAGTTAATTACTAAACCATTTCTATCGTCATAAGCGTACAGGTTCAGGGTATTGGGCGCATGTAGGATAGGCT\n",
    "TATTGCCCTCCACAGGGACTCTTCCGCTAATTGTATCATAAAACAGACTATGGCCTCCTGAGTAGACCACTGAGAGTGGT\n",
    "CAAGTAATGAGCAATTTAAGATGATTTGGAAGGCTCAAGCTTTACGGATTTGGCCGGGACCCTGAAGTCAGGGCGCACGG\n",
    "GCCTATTACTAATCCCATTCCGCATGCAACATACTGCTCATCACCGTTTATAGCTTGAACTTGTAGATGCCCGGGCACTG\n",
    "CGCGACGCTCTCCGGTGGCTTCTTTCTTTTCCGTTCCGCGCTTCAGACCCAACTAATAGGCACTCAAAGGTGGGAGGGCC\n",
    "GATGACCACCACGCATAGAGTGCACGTCATCTATGATCCGACGACTTGCCACCTGTCTACTTTAGAGTTCAAACATTCAG\n",
    "GCACTGCTGACCCGTATAGCAAGCATAAATTAGCGCAACGGGCGGCGGTGTATGCCTTTAACATTCGAGCTATACTCAGT\n",
    "CGGATAGGCTCTCGTCACTACTGGCCGGGGTCGAAAGTTGACACGGATTAGTGGATCCCTGTTTTGGGTTTAGTTTCCTC\n",
    "```\n",
    "\n",
    "This should be considered as a *single* sequence of length 800, not 10 sequences of length 80.\n",
    "\n",
    "- Use a regular expression to find the number of sequences that begin and end with `A` and have length between 6 and 8 (inclusive). For full credit, use a non-greedy regular expression. (10 points)\n",
    "- Print the 10 most common substrings of length 3 with their counts (15 points)"
   ]
  },
  {
   "cell_type": "code",
   "execution_count": null,
   "metadata": {},
   "outputs": [],
   "source": [
    "\n",
    "\n",
    "\n"
   ]
  },
  {
   "cell_type": "markdown",
   "metadata": {},
   "source": [
    "**4**. 25 points\n",
    "\n",
    "- Read the `feather` file `ex4.feather` into a `pandas` DataFrame `df1`. \n",
    "    - Note this is a 1,000,000 by 100 DataFrame\n",
    "- Create a new DataFrame `df2` from the 10 columns that have the highest mean value (5 points)\n",
    "- Create a new DataFrame `df3` from the 10 columns that have the suffix 07 (5 points)\n",
    "- Create a new DataFraem `df4` containing the min, max and average of all columns that begin with the same letter . The min, max, and average should be 3 separate rows, and the columns will be `A`, `B`, etc (15 points)\n",
    "    - The total time taken for the code should not take more than 1 minute to complete\n",
    "\n",
    "Note: You are **not** allowed to specify any column names such as `B05` directly in these questions. \n",
    "- Doing so will result in a deduction of 10 points from your final score\n",
    "\n",
    "Suggestion: You might want to work with a subset of the data until you are sure your code is correct and efficient. Otherwise you might have to wait a long time."
   ]
  },
  {
   "cell_type": "code",
   "execution_count": null,
   "metadata": {},
   "outputs": [],
   "source": [
    "\n",
    "\n",
    "\n"
   ]
  },
  {
   "cell_type": "markdown",
   "metadata": {},
   "source": [
    "**5**. Bonus question - 10 points\n",
    "\n",
    "Do this only if you have time.\n",
    "\n",
    "Connect to the `Chinnok.db` SQLite3 database. Find the names of the music tracks bought by the customer with the highest total amount in a single invoice."
   ]
  },
  {
   "cell_type": "code",
   "execution_count": null,
   "metadata": {},
   "outputs": [],
   "source": [
    "\n",
    "\n",
    "\n"
   ]
  }
 ],
 "metadata": {
  "kernelspec": {
   "display_name": "Python 3",
   "language": "python",
   "name": "python3"
  },
  "language_info": {
   "codemirror_mode": {
    "name": "ipython",
    "version": 3
   },
   "file_extension": ".py",
   "mimetype": "text/x-python",
   "name": "python",
   "nbconvert_exporter": "python",
   "pygments_lexer": "ipython3",
   "version": "3.8.10"
  }
 },
 "nbformat": 4,
 "nbformat_minor": 4
}
