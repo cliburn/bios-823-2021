{
 "cells": [
  {
   "cell_type": "markdown",
   "metadata": {},
   "source": [
    "# BIOS 823 Midterm Exam\n",
    "\n",
    "- This is an open book exam\n",
    "- There are 4 questions worth 25 points each\n",
    "- There is 1 bonus question worth 10 points\n",
    "- The maximum number of points is 100\n",
    "- Points will be deducted for poor coding practices\n",
    "- Points will be deducted for inefficient code\n",
    "- The exam will be for 90 minutes only 4:45 - 6:15 PM\n",
    "\n",
    "Please print your name below to indicate that you agree to follow the **Duke Honor Code**\n",
    "\n",
    "NAME:\n",
    "\n",
    "If you do not print your name, it is an automatic 25 point deduction."
   ]
  },
  {
   "cell_type": "markdown",
   "metadata": {},
   "source": [
    "**1**. 25 points\n",
    "\n",
    "- Create the following `numpy` array $A$ using `fromfunction` (10 points)\n",
    "    - If you cannot create the matrix, load it using `A = np.load(ex1.npy)`. You will not receive credit for the first part but can still receive credit for the other parts.\n",
    "```\n",
    "array([[0, 1, 2, 3, 4],\n",
    "       [1, 0, 2, 3, 4],\n",
    "       [2, 2, 0, 3, 4],\n",
    "       [3, 3, 3, 0, 4],\n",
    "       [4, 4, 4, 4, 0]])\n",
    "```\n",
    "\n",
    "- Transform $A$ into $B$ such that all *rows* of $B$ have length 1. Check your solution. (15 points)"
   ]
  },
  {
   "cell_type": "code",
   "execution_count": 1,
   "metadata": {},
   "outputs": [],
   "source": [
    "import numpy as np"
   ]
  },
  {
   "cell_type": "code",
   "execution_count": 2,
   "metadata": {},
   "outputs": [],
   "source": [
    "A = np.fromfunction(lambda i, j: np.where(i==j, 0, np.where(i>j, i, j)), (5,5), dtype='int')"
   ]
  },
  {
   "cell_type": "code",
   "execution_count": 3,
   "metadata": {},
   "outputs": [
    {
     "data": {
      "text/plain": [
       "array([[0, 1, 2, 3, 4],\n",
       "       [1, 0, 2, 3, 4],\n",
       "       [2, 2, 0, 3, 4],\n",
       "       [3, 3, 3, 0, 4],\n",
       "       [4, 4, 4, 4, 0]])"
      ]
     },
     "execution_count": 3,
     "metadata": {},
     "output_type": "execute_result"
    }
   ],
   "source": [
    "A"
   ]
  },
  {
   "cell_type": "code",
   "execution_count": 4,
   "metadata": {},
   "outputs": [
    {
     "data": {
      "text/plain": [
       "array([[0, 1, 2, 3, 4],\n",
       "       [1, 0, 2, 3, 4],\n",
       "       [2, 2, 0, 3, 4],\n",
       "       [3, 3, 3, 0, 4],\n",
       "       [4, 4, 4, 4, 0]])"
      ]
     },
     "execution_count": 4,
     "metadata": {},
     "output_type": "execute_result"
    }
   ],
   "source": [
    "A"
   ]
  },
  {
   "cell_type": "code",
   "execution_count": 5,
   "metadata": {},
   "outputs": [],
   "source": [
    "B = A / np.sqrt((A**2).sum(axis=1))[:, None]"
   ]
  },
  {
   "cell_type": "code",
   "execution_count": 6,
   "metadata": {},
   "outputs": [
    {
     "data": {
      "text/plain": [
       "array([[0.        , 0.18257419, 0.36514837, 0.54772256, 0.73029674],\n",
       "       [0.18257419, 0.        , 0.36514837, 0.54772256, 0.73029674],\n",
       "       [0.34815531, 0.34815531, 0.        , 0.52223297, 0.69631062],\n",
       "       [0.45749571, 0.45749571, 0.45749571, 0.        , 0.60999428],\n",
       "       [0.5       , 0.5       , 0.5       , 0.5       , 0.        ]])"
      ]
     },
     "execution_count": 6,
     "metadata": {},
     "output_type": "execute_result"
    }
   ],
   "source": [
    "B"
   ]
  },
  {
   "cell_type": "code",
   "execution_count": 7,
   "metadata": {},
   "outputs": [
    {
     "data": {
      "text/plain": [
       "array([1., 1., 1., 1., 1.])"
      ]
     },
     "execution_count": 7,
     "metadata": {},
     "output_type": "execute_result"
    }
   ],
   "source": [
    "(B**2).sum(axis=1)"
   ]
  },
  {
   "cell_type": "markdown",
   "metadata": {},
   "source": [
    "**2**. 25 points\n",
    "\n",
    "For this question, you can assume that the input is an integer.\n",
    "\n",
    "- Count the number of **palindromic** prime numbers less than 1,000,000 (10 points)\n",
    "    - Single digit primes are automatically palindromic.\n",
    "- Find all positive integers under 10,000 with the property that the integer is equal to the sum of its proper divisors. A proper divisor includes 1 but not the number itself. For example, one such integer is 6, since 6 = 1+2+3 (15 points)"
   ]
  },
  {
   "cell_type": "code",
   "execution_count": 27,
   "metadata": {},
   "outputs": [],
   "source": [
    "def is_prime(n):\n",
    "    if n==2:\n",
    "        return True\n",
    "    if (n < 2) or (n%2 == 0):\n",
    "        return False\n",
    "    for i in range(3, 1+int(np.sqrt(n)), 2):\n",
    "        if n % i == 0:\n",
    "            return False\n",
    "    return True"
   ]
  },
  {
   "cell_type": "code",
   "execution_count": 32,
   "metadata": {},
   "outputs": [
    {
     "data": {
      "text/plain": [
       "113"
      ]
     },
     "execution_count": 32,
     "metadata": {},
     "output_type": "execute_result"
    }
   ],
   "source": [
    "len([i for i in range(1, 1_000_000) if is_prime(i) and str(i) ==  str(i)[::-1]])"
   ]
  },
  {
   "cell_type": "code",
   "execution_count": 10,
   "metadata": {},
   "outputs": [],
   "source": [
    "def divisors(n):\n",
    "    return [i for i in range(1, n) if n % i == 0]"
   ]
  },
  {
   "cell_type": "code",
   "execution_count": 11,
   "metadata": {},
   "outputs": [
    {
     "data": {
      "text/plain": [
       "[6, 28, 496, 8128]"
      ]
     },
     "execution_count": 11,
     "metadata": {},
     "output_type": "execute_result"
    }
   ],
   "source": [
    "[i for i in range(1, 10000) if i == sum(divisors(i))]"
   ]
  },
  {
   "cell_type": "markdown",
   "metadata": {},
   "source": [
    "**3**. 25 points\n",
    "\n",
    "You are given this string\n",
    "\n",
    "```\n",
    "AAAACCATCGGCTGTAGCCGACTCGCACTATCCAGGGGTAGTAACTGAACTATTGAGTCCCCAGCGTTATATGTGGTTTG\n",
    "CGAGATAACGCTGTTACGAGTACTGCCAGATACAACTACGCAATTCCGCGCAGGGTCATTAATGATTACCGTCTAGATAG\n",
    "GAGACACTAGTTAATTACTAAACCATTTCTATCGTCATAAGCGTACAGGTTCAGGGTATTGGGCGCATGTAGGATAGGCT\n",
    "TATTGCCCTCCACAGGGACTCTTCCGCTAATTGTATCATAAAACAGACTATGGCCTCCTGAGTAGACCACTGAGAGTGGT\n",
    "CAAGTAATGAGCAATTTAAGATGATTTGGAAGGCTCAAGCTTTACGGATTTGGCCGGGACCCTGAAGTCAGGGCGCACGG\n",
    "GCCTATTACTAATCCCATTCCGCATGCAACATACTGCTCATCACCGTTTATAGCTTGAACTTGTAGATGCCCGGGCACTG\n",
    "CGCGACGCTCTCCGGTGGCTTCTTTCTTTTCCGTTCCGCGCTTCAGACCCAACTAATAGGCACTCAAAGGTGGGAGGGCC\n",
    "GATGACCACCACGCATAGAGTGCACGTCATCTATGATCCGACGACTTGCCACCTGTCTACTTTAGAGTTCAAACATTCAG\n",
    "GCACTGCTGACCCGTATAGCAAGCATAAATTAGCGCAACGGGCGGCGGTGTATGCCTTTAACATTCGAGCTATACTCAGT\n",
    "CGGATAGGCTCTCGTCACTACTGGCCGGGGTCGAAAGTTGACACGGATTAGTGGATCCCTGTTTTGGGTTTAGTTTCCTC\n",
    "```\n",
    "\n",
    "This should be considered as a *single* sequence of length 800, not 10 sequences of length 80.\n",
    "\n",
    "- Use a regular expression to find the number of sequences that begin and end with `A` and have length between 6 and 8 (inclusive). For full credit, use a non-greedy regular expression. (10 points)\n",
    "- Print the 10 most common substrings of length 3 with their counts (15 points)"
   ]
  },
  {
   "cell_type": "code",
   "execution_count": 12,
   "metadata": {},
   "outputs": [],
   "source": [
    "s = '''AAAACCATCGGCTGTAGCCGACTCGCACTATCCAGGGGTAGTAACTGAACTATTGAGTCCCCAGCGTTATATGTGGTTTG\n",
    "CGAGATAACGCTGTTACGAGTACTGCCAGATACAACTACGCAATTCCGCGCAGGGTCATTAATGATTACCGTCTAGATAG\n",
    "GAGACACTAGTTAATTACTAAACCATTTCTATCGTCATAAGCGTACAGGTTCAGGGTATTGGGCGCATGTAGGATAGGCT\n",
    "TATTGCCCTCCACAGGGACTCTTCCGCTAATTGTATCATAAAACAGACTATGGCCTCCTGAGTAGACCACTGAGAGTGGT\n",
    "CAAGTAATGAGCAATTTAAGATGATTTGGAAGGCTCAAGCTTTACGGATTTGGCCGGGACCCTGAAGTCAGGGCGCACGG\n",
    "GCCTATTACTAATCCCATTCCGCATGCAACATACTGCTCATCACCGTTTATAGCTTGAACTTGTAGATGCCCGGGCACTG\n",
    "CGCGACGCTCTCCGGTGGCTTCTTTCTTTTCCGTTCCGCGCTTCAGACCCAACTAATAGGCACTCAAAGGTGGGAGGGCC\n",
    "GATGACCACCACGCATAGAGTGCACGTCATCTATGATCCGACGACTTGCCACCTGTCTACTTTAGAGTTCAAACATTCAG\n",
    "GCACTGCTGACCCGTATAGCAAGCATAAATTAGCGCAACGGGCGGCGGTGTATGCCTTTAACATTCGAGCTATACTCAGT\n",
    "CGGATAGGCTCTCGTCACTACTGGCCGGGGTCGAAAGTTGACACGGATTAGTGGATCCCTGTTTTGGGTTTAGTTTCCTC'''\n",
    "s = ''.join(s.split())"
   ]
  },
  {
   "cell_type": "code",
   "execution_count": 13,
   "metadata": {},
   "outputs": [],
   "source": [
    "import re"
   ]
  },
  {
   "cell_type": "code",
   "execution_count": 14,
   "metadata": {},
   "outputs": [
    {
     "data": {
      "text/plain": [
       "60"
      ]
     },
     "execution_count": 14,
     "metadata": {},
     "output_type": "execute_result"
    }
   ],
   "source": [
    "len(re.findall('A.{4,6}?A', s))"
   ]
  },
  {
   "cell_type": "code",
   "execution_count": 15,
   "metadata": {},
   "outputs": [
    {
     "data": {
      "text/plain": [
       "[('ACT', 23),\n",
       " ('TAG', 18),\n",
       " ('ATT', 18),\n",
       " ('GGC', 17),\n",
       " ('GCA', 16),\n",
       " ('CTA', 16),\n",
       " ('GGG', 16),\n",
       " ('TTA', 16),\n",
       " ('TTT', 16),\n",
       " ('TCA', 16)]"
      ]
     },
     "execution_count": 15,
     "metadata": {},
     "output_type": "execute_result"
    }
   ],
   "source": [
    "from collections import Counter\n",
    "\n",
    "triplets = [''.join(t) for t in list(zip(s, s[1:], s[2:]))]\n",
    "c = Counter(triplets)\n",
    "c.most_common(10)"
   ]
  },
  {
   "cell_type": "markdown",
   "metadata": {},
   "source": [
    "**4**. 25 points\n",
    "\n",
    "- Read the `feather` file `ex4.feather` into a `pandas` DataFrame `df1`. \n",
    "    - Note this is a 1,000,000 by 100 DataFrame\n",
    "- Create a new DataFrame `df2` from the 10 columns that have the highest mean value (5 points)\n",
    "- Create a new DataFrame `df3` from the 10 columns that have the suffix 07 (5 points)\n",
    "- Create a new DataFraem `df4` containing the min, max and average of all columns that begin with the same letter . The min, max, and average should be 3 separate rows, and the columns will be `A`, `B`, etc (15 points)\n",
    "    - The total time taken for the code should not take more than 1 minute to complete\n",
    "\n",
    "Note: You are **not** allowed to specify any column names such as `B05` directly in these questions. \n",
    "- Doing so will result in a deduction of 10 points from your final score\n",
    "\n",
    "Suggestion: You might want to work with a subset of the data until you are sure your code is correct and efficient. Otherwise you might have to wait a long time."
   ]
  },
  {
   "cell_type": "code",
   "execution_count": 16,
   "metadata": {},
   "outputs": [],
   "source": [
    "import pandas as pd"
   ]
  },
  {
   "cell_type": "code",
   "execution_count": 17,
   "metadata": {},
   "outputs": [],
   "source": [
    "df1 = pd.read_feather('ex4.feather')"
   ]
  },
  {
   "cell_type": "code",
   "execution_count": 18,
   "metadata": {},
   "outputs": [
    {
     "data": {
      "text/html": [
       "<div>\n",
       "<style scoped>\n",
       "    .dataframe tbody tr th:only-of-type {\n",
       "        vertical-align: middle;\n",
       "    }\n",
       "\n",
       "    .dataframe tbody tr th {\n",
       "        vertical-align: top;\n",
       "    }\n",
       "\n",
       "    .dataframe thead th {\n",
       "        text-align: right;\n",
       "    }\n",
       "</style>\n",
       "<table border=\"1\" class=\"dataframe\">\n",
       "  <thead>\n",
       "    <tr style=\"text-align: right;\">\n",
       "      <th></th>\n",
       "      <th>A01</th>\n",
       "      <th>A02</th>\n",
       "      <th>A03</th>\n",
       "      <th>A04</th>\n",
       "      <th>A05</th>\n",
       "      <th>A06</th>\n",
       "      <th>A07</th>\n",
       "      <th>A08</th>\n",
       "      <th>A09</th>\n",
       "      <th>A10</th>\n",
       "      <th>...</th>\n",
       "      <th>J01</th>\n",
       "      <th>J02</th>\n",
       "      <th>J03</th>\n",
       "      <th>J04</th>\n",
       "      <th>J05</th>\n",
       "      <th>J06</th>\n",
       "      <th>J07</th>\n",
       "      <th>J08</th>\n",
       "      <th>J09</th>\n",
       "      <th>J10</th>\n",
       "    </tr>\n",
       "  </thead>\n",
       "  <tbody>\n",
       "    <tr>\n",
       "      <th>352982</th>\n",
       "      <td>15</td>\n",
       "      <td>61</td>\n",
       "      <td>83</td>\n",
       "      <td>4</td>\n",
       "      <td>7</td>\n",
       "      <td>30</td>\n",
       "      <td>22</td>\n",
       "      <td>69</td>\n",
       "      <td>48</td>\n",
       "      <td>58</td>\n",
       "      <td>...</td>\n",
       "      <td>5</td>\n",
       "      <td>83</td>\n",
       "      <td>59</td>\n",
       "      <td>37</td>\n",
       "      <td>55</td>\n",
       "      <td>79</td>\n",
       "      <td>0</td>\n",
       "      <td>91</td>\n",
       "      <td>86</td>\n",
       "      <td>65</td>\n",
       "    </tr>\n",
       "    <tr>\n",
       "      <th>164505</th>\n",
       "      <td>73</td>\n",
       "      <td>73</td>\n",
       "      <td>11</td>\n",
       "      <td>23</td>\n",
       "      <td>99</td>\n",
       "      <td>63</td>\n",
       "      <td>72</td>\n",
       "      <td>33</td>\n",
       "      <td>69</td>\n",
       "      <td>94</td>\n",
       "      <td>...</td>\n",
       "      <td>47</td>\n",
       "      <td>27</td>\n",
       "      <td>49</td>\n",
       "      <td>0</td>\n",
       "      <td>23</td>\n",
       "      <td>43</td>\n",
       "      <td>46</td>\n",
       "      <td>96</td>\n",
       "      <td>63</td>\n",
       "      <td>43</td>\n",
       "    </tr>\n",
       "    <tr>\n",
       "      <th>579420</th>\n",
       "      <td>28</td>\n",
       "      <td>49</td>\n",
       "      <td>26</td>\n",
       "      <td>75</td>\n",
       "      <td>25</td>\n",
       "      <td>73</td>\n",
       "      <td>19</td>\n",
       "      <td>45</td>\n",
       "      <td>85</td>\n",
       "      <td>96</td>\n",
       "      <td>...</td>\n",
       "      <td>53</td>\n",
       "      <td>28</td>\n",
       "      <td>65</td>\n",
       "      <td>58</td>\n",
       "      <td>51</td>\n",
       "      <td>74</td>\n",
       "      <td>49</td>\n",
       "      <td>71</td>\n",
       "      <td>90</td>\n",
       "      <td>85</td>\n",
       "    </tr>\n",
       "    <tr>\n",
       "      <th>591730</th>\n",
       "      <td>74</td>\n",
       "      <td>5</td>\n",
       "      <td>33</td>\n",
       "      <td>48</td>\n",
       "      <td>13</td>\n",
       "      <td>82</td>\n",
       "      <td>23</td>\n",
       "      <td>78</td>\n",
       "      <td>80</td>\n",
       "      <td>73</td>\n",
       "      <td>...</td>\n",
       "      <td>44</td>\n",
       "      <td>47</td>\n",
       "      <td>26</td>\n",
       "      <td>0</td>\n",
       "      <td>24</td>\n",
       "      <td>58</td>\n",
       "      <td>11</td>\n",
       "      <td>44</td>\n",
       "      <td>20</td>\n",
       "      <td>57</td>\n",
       "    </tr>\n",
       "    <tr>\n",
       "      <th>971481</th>\n",
       "      <td>67</td>\n",
       "      <td>60</td>\n",
       "      <td>23</td>\n",
       "      <td>56</td>\n",
       "      <td>33</td>\n",
       "      <td>60</td>\n",
       "      <td>28</td>\n",
       "      <td>29</td>\n",
       "      <td>65</td>\n",
       "      <td>28</td>\n",
       "      <td>...</td>\n",
       "      <td>74</td>\n",
       "      <td>59</td>\n",
       "      <td>2</td>\n",
       "      <td>93</td>\n",
       "      <td>51</td>\n",
       "      <td>50</td>\n",
       "      <td>79</td>\n",
       "      <td>46</td>\n",
       "      <td>3</td>\n",
       "      <td>48</td>\n",
       "    </tr>\n",
       "  </tbody>\n",
       "</table>\n",
       "<p>5 rows × 100 columns</p>\n",
       "</div>"
      ],
      "text/plain": [
       "        A01  A02  A03  A04  A05  A06  A07  A08  A09  A10  ...  J01  J02  J03  \\\n",
       "352982   15   61   83    4    7   30   22   69   48   58  ...    5   83   59   \n",
       "164505   73   73   11   23   99   63   72   33   69   94  ...   47   27   49   \n",
       "579420   28   49   26   75   25   73   19   45   85   96  ...   53   28   65   \n",
       "591730   74    5   33   48   13   82   23   78   80   73  ...   44   47   26   \n",
       "971481   67   60   23   56   33   60   28   29   65   28  ...   74   59    2   \n",
       "\n",
       "        J04  J05  J06  J07  J08  J09  J10  \n",
       "352982   37   55   79    0   91   86   65  \n",
       "164505    0   23   43   46   96   63   43  \n",
       "579420   58   51   74   49   71   90   85  \n",
       "591730    0   24   58   11   44   20   57  \n",
       "971481   93   51   50   79   46    3   48  \n",
       "\n",
       "[5 rows x 100 columns]"
      ]
     },
     "execution_count": 18,
     "metadata": {},
     "output_type": "execute_result"
    }
   ],
   "source": [
    "df1.sample(5)"
   ]
  },
  {
   "cell_type": "code",
   "execution_count": 19,
   "metadata": {},
   "outputs": [
    {
     "data": {
      "text/plain": [
       "(1000000, 100)"
      ]
     },
     "execution_count": 19,
     "metadata": {},
     "output_type": "execute_result"
    }
   ],
   "source": [
    "df1.shape"
   ]
  },
  {
   "cell_type": "code",
   "execution_count": 20,
   "metadata": {},
   "outputs": [
    {
     "data": {
      "text/html": [
       "<div>\n",
       "<style scoped>\n",
       "    .dataframe tbody tr th:only-of-type {\n",
       "        vertical-align: middle;\n",
       "    }\n",
       "\n",
       "    .dataframe tbody tr th {\n",
       "        vertical-align: top;\n",
       "    }\n",
       "\n",
       "    .dataframe thead th {\n",
       "        text-align: right;\n",
       "    }\n",
       "</style>\n",
       "<table border=\"1\" class=\"dataframe\">\n",
       "  <thead>\n",
       "    <tr style=\"text-align: right;\">\n",
       "      <th></th>\n",
       "      <th>H04</th>\n",
       "      <th>H02</th>\n",
       "      <th>D05</th>\n",
       "      <th>J09</th>\n",
       "      <th>C07</th>\n",
       "      <th>I10</th>\n",
       "      <th>E01</th>\n",
       "      <th>A10</th>\n",
       "      <th>E10</th>\n",
       "      <th>I09</th>\n",
       "    </tr>\n",
       "  </thead>\n",
       "  <tbody>\n",
       "    <tr>\n",
       "      <th>0</th>\n",
       "      <td>36</td>\n",
       "      <td>94</td>\n",
       "      <td>98</td>\n",
       "      <td>28</td>\n",
       "      <td>25</td>\n",
       "      <td>83</td>\n",
       "      <td>11</td>\n",
       "      <td>1</td>\n",
       "      <td>7</td>\n",
       "      <td>60</td>\n",
       "    </tr>\n",
       "    <tr>\n",
       "      <th>1</th>\n",
       "      <td>54</td>\n",
       "      <td>78</td>\n",
       "      <td>85</td>\n",
       "      <td>85</td>\n",
       "      <td>34</td>\n",
       "      <td>79</td>\n",
       "      <td>31</td>\n",
       "      <td>35</td>\n",
       "      <td>45</td>\n",
       "      <td>0</td>\n",
       "    </tr>\n",
       "    <tr>\n",
       "      <th>2</th>\n",
       "      <td>15</td>\n",
       "      <td>88</td>\n",
       "      <td>51</td>\n",
       "      <td>37</td>\n",
       "      <td>70</td>\n",
       "      <td>28</td>\n",
       "      <td>82</td>\n",
       "      <td>59</td>\n",
       "      <td>36</td>\n",
       "      <td>87</td>\n",
       "    </tr>\n",
       "    <tr>\n",
       "      <th>3</th>\n",
       "      <td>62</td>\n",
       "      <td>1</td>\n",
       "      <td>41</td>\n",
       "      <td>75</td>\n",
       "      <td>69</td>\n",
       "      <td>65</td>\n",
       "      <td>61</td>\n",
       "      <td>6</td>\n",
       "      <td>78</td>\n",
       "      <td>80</td>\n",
       "    </tr>\n",
       "    <tr>\n",
       "      <th>4</th>\n",
       "      <td>14</td>\n",
       "      <td>40</td>\n",
       "      <td>19</td>\n",
       "      <td>60</td>\n",
       "      <td>0</td>\n",
       "      <td>21</td>\n",
       "      <td>98</td>\n",
       "      <td>4</td>\n",
       "      <td>44</td>\n",
       "      <td>11</td>\n",
       "    </tr>\n",
       "  </tbody>\n",
       "</table>\n",
       "</div>"
      ],
      "text/plain": [
       "   H04  H02  D05  J09  C07  I10  E01  A10  E10  I09\n",
       "0   36   94   98   28   25   83   11    1    7   60\n",
       "1   54   78   85   85   34   79   31   35   45    0\n",
       "2   15   88   51   37   70   28   82   59   36   87\n",
       "3   62    1   41   75   69   65   61    6   78   80\n",
       "4   14   40   19   60    0   21   98    4   44   11"
      ]
     },
     "execution_count": 20,
     "metadata": {},
     "output_type": "execute_result"
    }
   ],
   "source": [
    "m = df1.mean(axis=0)\n",
    "df2 = df1[m.sort_values(ascending=False)[:10].index]\n",
    "df2.head()"
   ]
  },
  {
   "cell_type": "code",
   "execution_count": 21,
   "metadata": {},
   "outputs": [
    {
     "data": {
      "text/html": [
       "<div>\n",
       "<style scoped>\n",
       "    .dataframe tbody tr th:only-of-type {\n",
       "        vertical-align: middle;\n",
       "    }\n",
       "\n",
       "    .dataframe tbody tr th {\n",
       "        vertical-align: top;\n",
       "    }\n",
       "\n",
       "    .dataframe thead th {\n",
       "        text-align: right;\n",
       "    }\n",
       "</style>\n",
       "<table border=\"1\" class=\"dataframe\">\n",
       "  <thead>\n",
       "    <tr style=\"text-align: right;\">\n",
       "      <th></th>\n",
       "      <th>A07</th>\n",
       "      <th>B07</th>\n",
       "      <th>C07</th>\n",
       "      <th>D07</th>\n",
       "      <th>E07</th>\n",
       "      <th>F07</th>\n",
       "      <th>G07</th>\n",
       "      <th>H07</th>\n",
       "      <th>I07</th>\n",
       "      <th>J07</th>\n",
       "    </tr>\n",
       "  </thead>\n",
       "  <tbody>\n",
       "    <tr>\n",
       "      <th>0</th>\n",
       "      <td>98</td>\n",
       "      <td>63</td>\n",
       "      <td>25</td>\n",
       "      <td>71</td>\n",
       "      <td>93</td>\n",
       "      <td>83</td>\n",
       "      <td>76</td>\n",
       "      <td>4</td>\n",
       "      <td>63</td>\n",
       "      <td>12</td>\n",
       "    </tr>\n",
       "    <tr>\n",
       "      <th>1</th>\n",
       "      <td>40</td>\n",
       "      <td>68</td>\n",
       "      <td>34</td>\n",
       "      <td>98</td>\n",
       "      <td>65</td>\n",
       "      <td>62</td>\n",
       "      <td>97</td>\n",
       "      <td>61</td>\n",
       "      <td>66</td>\n",
       "      <td>29</td>\n",
       "    </tr>\n",
       "    <tr>\n",
       "      <th>2</th>\n",
       "      <td>88</td>\n",
       "      <td>85</td>\n",
       "      <td>70</td>\n",
       "      <td>4</td>\n",
       "      <td>19</td>\n",
       "      <td>51</td>\n",
       "      <td>47</td>\n",
       "      <td>36</td>\n",
       "      <td>17</td>\n",
       "      <td>64</td>\n",
       "    </tr>\n",
       "    <tr>\n",
       "      <th>3</th>\n",
       "      <td>48</td>\n",
       "      <td>0</td>\n",
       "      <td>69</td>\n",
       "      <td>25</td>\n",
       "      <td>95</td>\n",
       "      <td>23</td>\n",
       "      <td>76</td>\n",
       "      <td>13</td>\n",
       "      <td>6</td>\n",
       "      <td>74</td>\n",
       "    </tr>\n",
       "    <tr>\n",
       "      <th>4</th>\n",
       "      <td>99</td>\n",
       "      <td>12</td>\n",
       "      <td>0</td>\n",
       "      <td>78</td>\n",
       "      <td>49</td>\n",
       "      <td>33</td>\n",
       "      <td>84</td>\n",
       "      <td>67</td>\n",
       "      <td>43</td>\n",
       "      <td>84</td>\n",
       "    </tr>\n",
       "  </tbody>\n",
       "</table>\n",
       "</div>"
      ],
      "text/plain": [
       "   A07  B07  C07  D07  E07  F07  G07  H07  I07  J07\n",
       "0   98   63   25   71   93   83   76    4   63   12\n",
       "1   40   68   34   98   65   62   97   61   66   29\n",
       "2   88   85   70    4   19   51   47   36   17   64\n",
       "3   48    0   69   25   95   23   76   13    6   74\n",
       "4   99   12    0   78   49   33   84   67   43   84"
      ]
     },
     "execution_count": 21,
     "metadata": {},
     "output_type": "execute_result"
    }
   ],
   "source": [
    "df3 = df1[[c for c in df1.columns if c.endswith('07')]]\n",
    "df3.head()"
   ]
  },
  {
   "cell_type": "code",
   "execution_count": 22,
   "metadata": {},
   "outputs": [],
   "source": [
    "df4a = pd.melt(df1, id_vars=[])"
   ]
  },
  {
   "cell_type": "code",
   "execution_count": 23,
   "metadata": {},
   "outputs": [],
   "source": [
    "df4b = df4a.assign(ch=df4a.variable.str[:1]).drop('variable', axis=1)"
   ]
  },
  {
   "cell_type": "code",
   "execution_count": 24,
   "metadata": {},
   "outputs": [],
   "source": [
    "df4 = df4b.groupby('ch').agg(['min', 'max', 'mean'])"
   ]
  },
  {
   "cell_type": "code",
   "execution_count": 25,
   "metadata": {},
   "outputs": [
    {
     "data": {
      "text/html": [
       "<div>\n",
       "<style scoped>\n",
       "    .dataframe tbody tr th:only-of-type {\n",
       "        vertical-align: middle;\n",
       "    }\n",
       "\n",
       "    .dataframe tbody tr th {\n",
       "        vertical-align: top;\n",
       "    }\n",
       "\n",
       "    .dataframe thead th {\n",
       "        text-align: right;\n",
       "    }\n",
       "</style>\n",
       "<table border=\"1\" class=\"dataframe\">\n",
       "  <thead>\n",
       "    <tr style=\"text-align: right;\">\n",
       "      <th></th>\n",
       "      <th>ch</th>\n",
       "      <th>A</th>\n",
       "      <th>B</th>\n",
       "      <th>C</th>\n",
       "      <th>D</th>\n",
       "      <th>E</th>\n",
       "      <th>F</th>\n",
       "      <th>G</th>\n",
       "      <th>H</th>\n",
       "      <th>I</th>\n",
       "      <th>J</th>\n",
       "    </tr>\n",
       "  </thead>\n",
       "  <tbody>\n",
       "    <tr>\n",
       "      <th rowspan=\"3\" valign=\"top\">value</th>\n",
       "      <th>min</th>\n",
       "      <td>0.000000</td>\n",
       "      <td>0.000000</td>\n",
       "      <td>0.000000</td>\n",
       "      <td>0.000000</td>\n",
       "      <td>0.000000</td>\n",
       "      <td>0.00000</td>\n",
       "      <td>0.000000</td>\n",
       "      <td>0.000000</td>\n",
       "      <td>0.000000</td>\n",
       "      <td>0.000000</td>\n",
       "    </tr>\n",
       "    <tr>\n",
       "      <th>max</th>\n",
       "      <td>99.000000</td>\n",
       "      <td>99.000000</td>\n",
       "      <td>99.000000</td>\n",
       "      <td>99.000000</td>\n",
       "      <td>99.000000</td>\n",
       "      <td>99.00000</td>\n",
       "      <td>99.000000</td>\n",
       "      <td>99.000000</td>\n",
       "      <td>99.000000</td>\n",
       "      <td>99.000000</td>\n",
       "    </tr>\n",
       "    <tr>\n",
       "      <th>mean</th>\n",
       "      <td>49.497658</td>\n",
       "      <td>49.488565</td>\n",
       "      <td>49.499336</td>\n",
       "      <td>49.490343</td>\n",
       "      <td>49.506956</td>\n",
       "      <td>49.50521</td>\n",
       "      <td>49.483119</td>\n",
       "      <td>49.520096</td>\n",
       "      <td>49.508273</td>\n",
       "      <td>49.490887</td>\n",
       "    </tr>\n",
       "  </tbody>\n",
       "</table>\n",
       "</div>"
      ],
      "text/plain": [
       "ch                  A          B          C          D          E         F  \\\n",
       "value min    0.000000   0.000000   0.000000   0.000000   0.000000   0.00000   \n",
       "      max   99.000000  99.000000  99.000000  99.000000  99.000000  99.00000   \n",
       "      mean  49.497658  49.488565  49.499336  49.490343  49.506956  49.50521   \n",
       "\n",
       "ch                  G          H          I          J  \n",
       "value min    0.000000   0.000000   0.000000   0.000000  \n",
       "      max   99.000000  99.000000  99.000000  99.000000  \n",
       "      mean  49.483119  49.520096  49.508273  49.490887  "
      ]
     },
     "execution_count": 25,
     "metadata": {},
     "output_type": "execute_result"
    }
   ],
   "source": [
    "df4.T"
   ]
  },
  {
   "cell_type": "markdown",
   "metadata": {},
   "source": [
    "**5**. Bonus question - 10 points\n",
    "\n",
    "Do this only if you have time.\n",
    "\n",
    "Connect to the `Chinnok.db` SQLite3 database. Find the names of the music tracks bought by the customer with the highest total amount in a single invoice."
   ]
  },
  {
   "cell_type": "code",
   "execution_count": 1,
   "metadata": {},
   "outputs": [],
   "source": [
    "%load_ext sql"
   ]
  },
  {
   "cell_type": "code",
   "execution_count": 2,
   "metadata": {},
   "outputs": [],
   "source": [
    "%sql sqlite:///Chinook.db"
   ]
  },
  {
   "cell_type": "code",
   "execution_count": 3,
   "metadata": {},
   "outputs": [
    {
     "name": "stdout",
     "output_type": "stream",
     "text": [
      " * sqlite:///Chinook.db\n",
      "Done.\n"
     ]
    },
    {
     "data": {
      "text/html": [
       "<table>\n",
       "    <tr>\n",
       "        <th>Name</th>\n",
       "    </tr>\n",
       "    <tr>\n",
       "        <td>When You Gonna Learn (Digeridoo)</td>\n",
       "    </tr>\n",
       "    <tr>\n",
       "        <td>Whatever It Is, I Just Can&#x27;t Stop</td>\n",
       "    </tr>\n",
       "    <tr>\n",
       "        <td>Black Capricorn Day</td>\n",
       "    </tr>\n",
       "    <tr>\n",
       "        <td>Were Do We Go From Here</td>\n",
       "    </tr>\n",
       "    <tr>\n",
       "        <td>Light Years</td>\n",
       "    </tr>\n",
       "    <tr>\n",
       "        <td>Morning Glory</td>\n",
       "    </tr>\n",
       "    <tr>\n",
       "        <td>Get What You Need</td>\n",
       "    </tr>\n",
       "    <tr>\n",
       "        <td>Take It Or Leave It</td>\n",
       "    </tr>\n",
       "    <tr>\n",
       "        <td>Can You See Me</td>\n",
       "    </tr>\n",
       "    <tr>\n",
       "        <td>How The West Was Won And Where It Got Us</td>\n",
       "    </tr>\n",
       "    <tr>\n",
       "        <td>The Wake-Up Bomb</td>\n",
       "    </tr>\n",
       "    <tr>\n",
       "        <td>Heartland</td>\n",
       "    </tr>\n",
       "    <tr>\n",
       "        <td>The Star Spangled Banner</td>\n",
       "    </tr>\n",
       "    <tr>\n",
       "        <td>All I Want Is You</td>\n",
       "    </tr>\n",
       "    <tr>\n",
       "        <td>New Year&#x27;s Day</td>\n",
       "    </tr>\n",
       "    <tr>\n",
       "        <td>My Time After Awhile</td>\n",
       "    </tr>\n",
       "    <tr>\n",
       "        <td>Prenda Minha</td>\n",
       "    </tr>\n",
       "    <tr>\n",
       "        <td>Texto &quot;Verdade Tropical&quot;</td>\n",
       "    </tr>\n",
       "    <tr>\n",
       "        <td>Carolina</td>\n",
       "    </tr>\n",
       "    <tr>\n",
       "        <td>Linha Do Equador</td>\n",
       "    </tr>\n",
       "    <tr>\n",
       "        <td>Vida Boa</td>\n",
       "    </tr>\n",
       "    <tr>\n",
       "        <td>Revolta Olodum</td>\n",
       "    </tr>\n",
       "    <tr>\n",
       "        <td>Winterlong</td>\n",
       "    </tr>\n",
       "    <tr>\n",
       "        <td>Blissed &amp; Gone</td>\n",
       "    </tr>\n",
       "    <tr>\n",
       "        <td>Insensível</td>\n",
       "    </tr>\n",
       "    <tr>\n",
       "        <td>Collaborators</td>\n",
       "    </tr>\n",
       "    <tr>\n",
       "        <td>The Woman King</td>\n",
       "    </tr>\n",
       "    <tr>\n",
       "        <td>One Giant Leap</td>\n",
       "    </tr>\n",
       "    <tr>\n",
       "        <td>The Fix</td>\n",
       "    </tr>\n",
       "    <tr>\n",
       "        <td>Man of Science, Man of Faith (Premiere)</td>\n",
       "    </tr>\n",
       "    <tr>\n",
       "        <td>Walkabout</td>\n",
       "    </tr>\n",
       "    <tr>\n",
       "        <td>The Moth</td>\n",
       "    </tr>\n",
       "    <tr>\n",
       "        <td>Stranger In a Strange Land</td>\n",
       "    </tr>\n",
       "    <tr>\n",
       "        <td>Par Avion</td>\n",
       "    </tr>\n",
       "    <tr>\n",
       "        <td>Outlaws</td>\n",
       "    </tr>\n",
       "    <tr>\n",
       "        <td>Deus Ex Machina</td>\n",
       "    </tr>\n",
       "    <tr>\n",
       "        <td>Live Together, Die Alone, Pt. 1</td>\n",
       "    </tr>\n",
       "    <tr>\n",
       "        <td>So Cruel</td>\n",
       "    </tr>\n",
       "</table>"
      ],
      "text/plain": [
       "[('When You Gonna Learn (Digeridoo)',),\n",
       " (\"Whatever It Is, I Just Can't Stop\",),\n",
       " ('Black Capricorn Day',),\n",
       " ('Were Do We Go From Here',),\n",
       " ('Light Years',),\n",
       " ('Morning Glory',),\n",
       " ('Get What You Need',),\n",
       " ('Take It Or Leave It',),\n",
       " ('Can You See Me',),\n",
       " ('How The West Was Won And Where It Got Us',),\n",
       " ('The Wake-Up Bomb',),\n",
       " ('Heartland',),\n",
       " ('The Star Spangled Banner',),\n",
       " ('All I Want Is You',),\n",
       " (\"New Year's Day\",),\n",
       " ('My Time After Awhile',),\n",
       " ('Prenda Minha',),\n",
       " ('Texto \"Verdade Tropical\"',),\n",
       " ('Carolina',),\n",
       " ('Linha Do Equador',),\n",
       " ('Vida Boa',),\n",
       " ('Revolta Olodum',),\n",
       " ('Winterlong',),\n",
       " ('Blissed & Gone',),\n",
       " ('Insensível',),\n",
       " ('Collaborators',),\n",
       " ('The Woman King',),\n",
       " ('One Giant Leap',),\n",
       " ('The Fix',),\n",
       " ('Man of Science, Man of Faith (Premiere)',),\n",
       " ('Walkabout',),\n",
       " ('The Moth',),\n",
       " ('Stranger In a Strange Land',),\n",
       " ('Par Avion',),\n",
       " ('Outlaws',),\n",
       " ('Deus Ex Machina',),\n",
       " ('Live Together, Die Alone, Pt. 1',),\n",
       " ('So Cruel',)]"
      ]
     },
     "execution_count": 3,
     "metadata": {},
     "output_type": "execute_result"
    }
   ],
   "source": [
    "%%sql\n",
    "\n",
    "SELECT Track.Name\n",
    "FROM InvoiceLine, Invoice, Customer, Track\n",
    "WHERE Invoice.CustomerId = Customer.CustomerId\n",
    "AND InvoiceLine.InvoiceId = Invoice.InvoiceId\n",
    "AND InvoiceLine.TrackId = Track.TrackId\n",
    "AND Customer.CustomerId IN (\n",
    "    SELECT Invoice.CustomerId\n",
    "    FROM Invoice\n",
    "    ORDER BY Total DESC\n",
    "    LIMIT 1\n",
    ")"
   ]
  },
  {
   "cell_type": "code",
   "execution_count": null,
   "metadata": {},
   "outputs": [],
   "source": []
  }
 ],
 "metadata": {
  "kernelspec": {
   "display_name": "Python 3",
   "language": "python",
   "name": "python3"
  },
  "language_info": {
   "codemirror_mode": {
    "name": "ipython",
    "version": 3
   },
   "file_extension": ".py",
   "mimetype": "text/x-python",
   "name": "python",
   "nbconvert_exporter": "python",
   "pygments_lexer": "ipython3",
   "version": "3.8.10"
  }
 },
 "nbformat": 4,
 "nbformat_minor": 4
}
