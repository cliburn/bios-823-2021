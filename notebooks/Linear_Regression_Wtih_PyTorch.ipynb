{
 "cells": [
  {
   "cell_type": "markdown",
   "metadata": {},
   "source": [
    "# Linear regression with Torch"
   ]
  },
  {
   "cell_type": "code",
   "execution_count": 1,
   "metadata": {},
   "outputs": [],
   "source": [
    "import torch\n",
    "from torch import optim, nn"
   ]
  },
  {
   "cell_type": "code",
   "execution_count": 2,
   "metadata": {},
   "outputs": [],
   "source": [
    "from utils_torch import train_test_split"
   ]
  },
  {
   "cell_type": "markdown",
   "metadata": {},
   "source": [
    "## Data set"
   ]
  },
  {
   "cell_type": "code",
   "execution_count": 3,
   "metadata": {},
   "outputs": [],
   "source": [
    "y = [0.5,  14.0, 15.0, 28.0, 11.0,  8.0,  3.0, -4.0,  6.0, 13.0, 21.0]\n",
    "x = [35.7, 55.9, 58.2, 81.9, 56.3, 48.9, 33.9, 21.8, 48.4, 60.4, 68.4]\n",
    "\n",
    "# inputs have shape batch_size × num_features\n",
    "\n",
    "y = torch.tensor(y).unsqueeze(1)\n",
    "x = torch.tensor(x).unsqueeze(1)"
   ]
  },
  {
   "cell_type": "code",
   "execution_count": 4,
   "metadata": {},
   "outputs": [],
   "source": [
    "x_train, y_train, x_val, y_val = train_test_split(x, y)"
   ]
  },
  {
   "cell_type": "markdown",
   "metadata": {},
   "source": [
    "## Model"
   ]
  },
  {
   "cell_type": "code",
   "execution_count": 5,
   "metadata": {},
   "outputs": [],
   "source": [
    "n_hidden = 8\n",
    "\n",
    "model = nn.Sequential(\n",
    "    nn.Linear(1, n_hidden),\n",
    "    nn.Tanh(),\n",
    "    nn.Linear(n_hidden, 1),\n",
    ")"
   ]
  },
  {
   "cell_type": "code",
   "execution_count": 6,
   "metadata": {},
   "outputs": [
    {
     "data": {
      "text/plain": [
       "Sequential(\n",
       "  (0): Linear(in_features=1, out_features=8, bias=True)\n",
       "  (1): Tanh()\n",
       "  (2): Linear(in_features=8, out_features=1, bias=True)\n",
       ")"
      ]
     },
     "execution_count": 6,
     "metadata": {},
     "output_type": "execute_result"
    }
   ],
   "source": [
    "model"
   ]
  },
  {
   "cell_type": "markdown",
   "metadata": {},
   "source": [
    "## Optimizer"
   ]
  },
  {
   "cell_type": "code",
   "execution_count": 7,
   "metadata": {},
   "outputs": [],
   "source": [
    "optimizer = optim.Adam(model.parameters(), lr=1e-2)"
   ]
  },
  {
   "cell_type": "markdown",
   "metadata": {},
   "source": [
    "## Loss function"
   ]
  },
  {
   "cell_type": "code",
   "execution_count": 8,
   "metadata": {},
   "outputs": [],
   "source": [
    "loss_fn = nn.MSELoss()"
   ]
  },
  {
   "cell_type": "markdown",
   "metadata": {},
   "source": [
    "## Standard training loop"
   ]
  },
  {
   "cell_type": "code",
   "execution_count": 9,
   "metadata": {},
   "outputs": [],
   "source": [
    "def training_loop(n_epochs, optimizer, model, \n",
    "                  x_train, y_train, x_val, y_val):\n",
    "    for epoch in range(1, 1+n_epochs):\n",
    "        yhat_train = model(x_train)\n",
    "        loss_train = loss_fn(yhat_train, y_train)\n",
    "        \n",
    "        yhat_val = model(x_val)\n",
    "        loss_val = loss_fn(yhat_val, y_val)\n",
    "\n",
    "        optimizer.zero_grad() \n",
    "        loss_train.backward() \n",
    "        optimizer.step()\n",
    "        \n",
    "        if epoch == 1 or epoch % 500 == 0:\n",
    "            print(f'Epoch {epoch:10d}, Train loss {loss_train:f}, Val loss {loss_val:f}')"
   ]
  },
  {
   "cell_type": "markdown",
   "metadata": {},
   "source": [
    "## Model fitting with training and validation loss"
   ]
  },
  {
   "cell_type": "code",
   "execution_count": 10,
   "metadata": {},
   "outputs": [
    {
     "name": "stdout",
     "output_type": "stream",
     "text": [
      "Epoch          1, Train loss 221.678818, Val loss 125.135101\n",
      "Epoch        500, Train loss 41.640900, Val loss 26.883430\n",
      "Epoch       1000, Train loss 20.664299, Val loss 10.388848\n",
      "Epoch       1500, Train loss 11.920036, Val loss 4.535814\n",
      "Epoch       2000, Train loss 7.489810, Val loss 2.186558\n",
      "Epoch       2500, Train loss 5.308661, Val loss 1.793931\n",
      "Epoch       3000, Train loss 4.137653, Val loss 1.453954\n",
      "Epoch       3500, Train loss 3.473230, Val loss 1.084425\n",
      "Epoch       4000, Train loss 3.064878, Val loss 1.258345\n",
      "Epoch       4500, Train loss 2.807263, Val loss 1.431513\n",
      "Epoch       5000, Train loss 2.617709, Val loss 1.276051\n"
     ]
    }
   ],
   "source": [
    "training_loop(\n",
    "    n_epochs=5000,\n",
    "    optimizer=optimizer,\n",
    "    model=model,\n",
    "    x_train =x_train,\n",
    "    y_train = y_train,\n",
    "    x_val = x_val,\n",
    "    y_val = y_val\n",
    ")"
   ]
  },
  {
   "cell_type": "code",
   "execution_count": 11,
   "metadata": {},
   "outputs": [],
   "source": [
    "import matplotlib.pyplot as plt\n",
    "import numpy as np"
   ]
  },
  {
   "cell_type": "code",
   "execution_count": 12,
   "metadata": {},
   "outputs": [],
   "source": [
    "xp = np.arange(20, 90, 0.1, dtype='float32')[:, None]"
   ]
  },
  {
   "cell_type": "code",
   "execution_count": 13,
   "metadata": {},
   "outputs": [
    {
     "data": {
      "image/png": "[encoded data removed]",
      "text/plain": [
       "<Figure size 432x288 with 1 Axes>"
      ]
     },
     "metadata": {
      "needs_background": "light"
     },
     "output_type": "display_data"
    }
   ],
   "source": [
    "plt.plot(x, y, 'o')\n",
    "plt.plot(xp, model(torch.tensor(xp)).detach().numpy(), 'r-')\n",
    "pass"
   ]
  },
  {
   "cell_type": "code",
   "execution_count": null,
   "metadata": {},
   "outputs": [],
   "source": []
  }
 ],
 "metadata": {
  "kernelspec": {
   "display_name": "Python 3.8.5 64-bit",
   "language": "python",
   "name": "python38564bit02a66c47ce504b05b2ef5646cfed96c2"
  },
  "language_info": {
   "codemirror_mode": {
    "name": "ipython",
    "version": 3
   },
   "file_extension": ".py",
   "mimetype": "text/x-python",
   "name": "python",
   "nbconvert_exporter": "python",
   "pygments_lexer": "ipython3",
   "version": "3.9.5"
  }
 },
 "nbformat": 4,
 "nbformat_minor": 4
}
