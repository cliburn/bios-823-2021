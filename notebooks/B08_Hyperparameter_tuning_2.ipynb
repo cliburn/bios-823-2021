{
 "cells": [
  {
   "cell_type": "code",
   "execution_count": 1,
   "metadata": {},
   "outputs": [],
   "source": [
    "import pandas as pd"
   ]
  },
  {
   "cell_type": "code",
   "execution_count": 2,
   "metadata": {},
   "outputs": [],
   "source": [
    "X_train = pd.read_csv('data/X_train.csv')\n",
    "X_test = pd.read_csv('data/X_test.csv')\n",
    "y_train = pd.read_csv('data/y_train.csv')\n",
    "y_test = pd.read_csv('data/y_test.csv')"
   ]
  },
  {
   "cell_type": "markdown",
   "metadata": {},
   "source": [
    "## FLAML\n",
    "\n",
    "[FLAML](https://github.com/microsoft/FLAML) uses [state for the art methods](https://github.com/microsoft/FLAML/tree/main/flaml/tune) for hyperparameter optimization.\n",
    "\n",
    "See [tutorial blog](https://www.anyscale.com/blog/fast-automl-with-flaml-ray-tune)"
   ]
  },
  {
   "cell_type": "code",
   "execution_count": 3,
   "metadata": {},
   "outputs": [
    {
     "name": "stdout",
     "output_type": "stream",
     "text": [
      "CPU times: user 5min 24s, sys: 40.7 s, total: 6min 5s\n",
      "Wall time: 1min 2s\n"
     ]
    }
   ],
   "source": [
    "%%time\n",
    "\n",
    "from flaml import AutoML\n",
    "\n",
    "automl = AutoML()\n",
    "automl.fit(X_train,\n",
    "           y_train.values, \n",
    "           task='classification',\n",
    "           verbose=0,\n",
    "           time_budget=60,\n",
    "          )"
   ]
  },
  {
   "cell_type": "code",
   "execution_count": 4,
   "metadata": {},
   "outputs": [
    {
     "data": {
      "text/plain": [
       "['lgbm', 'rf', 'catboost', 'xgboost', 'extra_tree', 'lrl1']"
      ]
     },
     "execution_count": 4,
     "metadata": {},
     "output_type": "execute_result"
    }
   ],
   "source": [
    "automl.estimator_list"
   ]
  },
  {
   "cell_type": "markdown",
   "metadata": {},
   "source": [
    "### Best estimator"
   ]
  },
  {
   "cell_type": "code",
   "execution_count": 5,
   "metadata": {},
   "outputs": [
    {
     "data": {
      "text/plain": [
       "<flaml.model.CatBoostEstimator at 0x164efa610>"
      ]
     },
     "execution_count": 5,
     "metadata": {},
     "output_type": "execute_result"
    }
   ],
   "source": [
    "automl.model"
   ]
  },
  {
   "cell_type": "code",
   "execution_count": 6,
   "metadata": {},
   "outputs": [
    {
     "data": {
      "text/plain": [
       "{'early_stopping_rounds': 11,\n",
       " 'n_estimators': 8192,\n",
       " 'learning_rate': 0.06310701526622366,\n",
       " 'thread_count': -1,\n",
       " 'verbose': False,\n",
       " 'random_seed': 10242048,\n",
       " 'task': 'binary:logistic',\n",
       " '_estimator_type': 'classifier',\n",
       " 'n_jobs': -1}"
      ]
     },
     "execution_count": 6,
     "metadata": {},
     "output_type": "execute_result"
    }
   ],
   "source": [
    "automl.model.get_params()"
   ]
  },
  {
   "cell_type": "markdown",
   "metadata": {},
   "source": [
    "### Best estimator for a different class\n"
   ]
  },
  {
   "cell_type": "code",
   "execution_count": 7,
   "metadata": {},
   "outputs": [
    {
     "data": {
      "text/plain": [
       "<flaml.model.XGBoostSklearnEstimator at 0x15e8e2bb0>"
      ]
     },
     "execution_count": 7,
     "metadata": {},
     "output_type": "execute_result"
    }
   ],
   "source": [
    "automl.best_model_for_estimator('xgboost')"
   ]
  },
  {
   "cell_type": "code",
   "execution_count": 8,
   "metadata": {},
   "outputs": [
    {
     "data": {
      "text/plain": [
       "{'n_estimators': 46,\n",
       " 'max_leaves': 24,\n",
       " 'min_child_weight': 7.8191147585210325,\n",
       " 'learning_rate': 0.35833790786349273,\n",
       " 'subsample': 0.9009483350407286,\n",
       " 'colsample_bylevel': 0.8546862042012804,\n",
       " 'colsample_bytree': 0.787713092935094,\n",
       " 'reg_alpha': 0.005771390107656191,\n",
       " 'reg_lambda': 1.8015204006400616}"
      ]
     },
     "execution_count": 8,
     "metadata": {},
     "output_type": "execute_result"
    }
   ],
   "source": [
    "automl.best_config_per_estimator['xgboost']"
   ]
  },
  {
   "cell_type": "markdown",
   "metadata": {},
   "source": [
    "### Using model"
   ]
  },
  {
   "cell_type": "code",
   "execution_count": 9,
   "metadata": {},
   "outputs": [
    {
     "data": {
      "text/plain": [
       "array([[0.93313544, 0.06686456],\n",
       "       [0.84285751, 0.15714249],\n",
       "       [0.17989189, 0.82010811],\n",
       "       [0.85449378, 0.14550622],\n",
       "       [0.3056853 , 0.6943147 ],\n",
       "       [0.59037193, 0.40962807],\n",
       "       [0.13393378, 0.86606622],\n",
       "       [0.90734348, 0.09265652],\n",
       "       [0.89802154, 0.10197846],\n",
       "       [0.88699476, 0.11300524]])"
      ]
     },
     "execution_count": 9,
     "metadata": {},
     "output_type": "execute_result"
    }
   ],
   "source": [
    "automl.predict_proba(X_test)[:10]"
   ]
  },
  {
   "cell_type": "code",
   "execution_count": 10,
   "metadata": {},
   "outputs": [
    {
     "data": {
      "text/plain": [
       "array([0, 0, 1, 0, 1, 0, 1, 0, 0, 0])"
      ]
     },
     "execution_count": 10,
     "metadata": {},
     "output_type": "execute_result"
    }
   ],
   "source": [
    "automl.predict(X_test)[:10]"
   ]
  },
  {
   "cell_type": "markdown",
   "metadata": {},
   "source": [
    "### Save and load using `pickle`"
   ]
  },
  {
   "cell_type": "code",
   "execution_count": 12,
   "metadata": {},
   "outputs": [],
   "source": [
    "import pickle"
   ]
  },
  {
   "cell_type": "code",
   "execution_count": 13,
   "metadata": {},
   "outputs": [],
   "source": [
    "with open('automl.pic', 'wb') as f:\n",
    "    pickle.dump(automl, f)"
   ]
  },
  {
   "cell_type": "code",
   "execution_count": 14,
   "metadata": {},
   "outputs": [],
   "source": [
    "with open('automl.pic', 'rb') as f:\n",
    "    ml = pickle.load(f)"
   ]
  },
  {
   "cell_type": "code",
   "execution_count": 15,
   "metadata": {},
   "outputs": [
    {
     "data": {
      "text/plain": [
       "array([[0.93313544, 0.06686456],\n",
       "       [0.84285751, 0.15714249],\n",
       "       [0.17989189, 0.82010811],\n",
       "       [0.85449378, 0.14550622],\n",
       "       [0.3056853 , 0.6943147 ],\n",
       "       [0.59037193, 0.40962807],\n",
       "       [0.13393378, 0.86606622],\n",
       "       [0.90734348, 0.09265652],\n",
       "       [0.89802154, 0.10197846],\n",
       "       [0.88699476, 0.11300524]])"
      ]
     },
     "execution_count": 15,
     "metadata": {},
     "output_type": "execute_result"
    }
   ],
   "source": [
    "ml.predict_proba(X_test)[:10]"
   ]
  }
 ],
 "metadata": {
  "kernelspec": {
   "display_name": "frontiers-env",
   "language": "python",
   "name": "frontiers-env"
  },
  "language_info": {
   "codemirror_mode": {
    "name": "ipython",
    "version": 3
   },
   "file_extension": ".py",
   "mimetype": "text/x-python",
   "name": "python",
   "nbconvert_exporter": "python",
   "pygments_lexer": "ipython3",
   "version": "3.9.5"
  }
 },
 "nbformat": 4,
 "nbformat_minor": 4
}
