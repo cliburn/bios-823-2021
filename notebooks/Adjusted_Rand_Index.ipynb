{
 "cells": [
  {
   "cell_type": "markdown",
   "metadata": {},
   "source": [
    "# Understanding the Rand index\n",
    "\n",
    "See [Wikipedia](https://en.wikipedia.org/wiki/Rand_index) for a simple explanation\n",
    "\n",
    "The ARi will give a score from close to zero for random assignments to 1 for a perfect assignment, regardless of the number of clusters used."
   ]
  },
  {
   "cell_type": "code",
   "execution_count": null,
   "metadata": {},
   "outputs": [],
   "source": [
    "import numpy as np\n",
    "import pandas as pd"
   ]
  },
  {
   "cell_type": "code",
   "execution_count": null,
   "metadata": {},
   "outputs": [],
   "source": [
    "y_true = np.random.randint(0, 3, 100)\n",
    "y_pred_1 = np.random.randint(0, 3, 100)\n",
    "y_pred_2 = y_true\n",
    "y_pred_3 = np.where(np.random.rand(100) < 0.8, y_true, y_pred_1)"
   ]
  },
  {
   "cell_type": "code",
   "execution_count": null,
   "metadata": {},
   "outputs": [],
   "source": [
    "y = pd.DataFrame(np.c_[y_true, y_pred_1, y_pred_2, y_pred_3], \n",
    "                 columns='Y Y1 Y2 Y3'.split())\n",
    "y"
   ]
  },
  {
   "cell_type": "code",
   "execution_count": null,
   "metadata": {},
   "outputs": [],
   "source": [
    "from sklearn.metrics import adjusted_rand_score"
   ]
  },
  {
   "cell_type": "code",
   "execution_count": null,
   "metadata": {},
   "outputs": [],
   "source": [
    "for pred in ['Y1', 'Y2', 'Y3']:\n",
    "    print(f'ARI(Y, {pred}) = {adjusted_rand_score(y.Y, y[pred]):.3}')"
   ]
  },
  {
   "cell_type": "code",
   "execution_count": null,
   "metadata": {},
   "outputs": [],
   "source": []
  }
 ],
 "metadata": {
  "kernelspec": {
   "display_name": "Python 3",
   "language": "python",
   "name": "python3"
  },
  "language_info": {
   "codemirror_mode": {
    "name": "ipython",
    "version": 3
   },
   "file_extension": ".py",
   "mimetype": "text/x-python",
   "name": "python",
   "nbconvert_exporter": "python",
   "pygments_lexer": "ipython3",
   "version": "3.8.10"
  }
 },
 "nbformat": 4,
 "nbformat_minor": 4
}
