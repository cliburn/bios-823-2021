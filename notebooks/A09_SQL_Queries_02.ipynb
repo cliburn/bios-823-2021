{
 "cells": [
  {
   "cell_type": "markdown",
   "metadata": {},
   "source": [
    "#  SQL Queries 02"
   ]
  },
  {
   "cell_type": "code",
   "execution_count": null,
   "metadata": {},
   "outputs": [],
   "source": [
    "import pandas as pd"
   ]
  },
  {
   "cell_type": "code",
   "execution_count": null,
   "metadata": {},
   "outputs": [],
   "source": [
    "import numpy as np"
   ]
  },
  {
   "cell_type": "code",
   "execution_count": null,
   "metadata": {},
   "outputs": [],
   "source": [
    "%load_ext sql"
   ]
  },
  {
   "cell_type": "code",
   "execution_count": null,
   "metadata": {},
   "outputs": [],
   "source": [
    "%sql sqlite://"
   ]
  },
  {
   "cell_type": "markdown",
   "metadata": {},
   "source": [
    "## Create toy data set"
   ]
  },
  {
   "cell_type": "code",
   "execution_count": null,
   "metadata": {},
   "outputs": [],
   "source": [
    "from faker import Faker"
   ]
  },
  {
   "cell_type": "code",
   "execution_count": null,
   "metadata": {},
   "outputs": [],
   "source": [
    "fake = Faker()"
   ]
  },
  {
   "cell_type": "code",
   "execution_count": null,
   "metadata": {},
   "outputs": [],
   "source": [
    "names = list(set([fake.name() for i in range(100)]))"
   ]
  },
  {
   "cell_type": "code",
   "execution_count": null,
   "metadata": {},
   "outputs": [],
   "source": [
    "np.random.seed(123)\n",
    "\n",
    "n1 = 30\n",
    "bios821 = pd.DataFrame(dict(\n",
    "    name=np.random.choice(names, n1, replace=False), \n",
    "    grade=np.random.randint(50, 101, n1)))\n",
    "\n",
    "n2 = 30\n",
    "bios823 = pd.DataFrame(dict(\n",
    "    name=np.random.choice(names, n2, replace=False), \n",
    "    grade=np.random.randint(50, 101, n2)))"
   ]
  },
  {
   "cell_type": "code",
   "execution_count": null,
   "metadata": {},
   "outputs": [],
   "source": [
    "%%sql\n",
    "\n",
    "DROP TABLE IF EXISTS bios821;\n",
    "DROP TABLE IF EXISTs bios823"
   ]
  },
  {
   "cell_type": "code",
   "execution_count": null,
   "metadata": {},
   "outputs": [],
   "source": [
    "%sql -p bios821"
   ]
  },
  {
   "cell_type": "code",
   "execution_count": null,
   "metadata": {},
   "outputs": [],
   "source": [
    "%sql -p bios823"
   ]
  },
  {
   "cell_type": "code",
   "execution_count": null,
   "metadata": {},
   "outputs": [],
   "source": [
    "%sql SELECT * FROM bios821 LIMIT 3"
   ]
  },
  {
   "cell_type": "code",
   "execution_count": null,
   "metadata": {},
   "outputs": [],
   "source": [
    "%sql SELECT * FROM bios823 LIMIT 3"
   ]
  },
  {
   "cell_type": "markdown",
   "metadata": {},
   "source": [
    "## Subqueries\n",
    "\n",
    "There are 3 ways to use a sub-query:\n",
    "\n",
    "- with `in`\n",
    "- with `exists`\n",
    "- with a comparison operator"
   ]
  },
  {
   "cell_type": "markdown",
   "metadata": {},
   "source": [
    "**1**. What students take both bios821 and bios823?"
   ]
  },
  {
   "cell_type": "markdown",
   "metadata": {},
   "source": [
    "#### Using set operations."
   ]
  },
  {
   "cell_type": "code",
   "execution_count": null,
   "metadata": {},
   "outputs": [],
   "source": [
    "%%sql\n",
    "\n",
    "SELECT name FROM bios821\n",
    "INTERSECT\n",
    "SELECT name FROM bios823"
   ]
  },
  {
   "cell_type": "markdown",
   "metadata": {},
   "source": [
    "#### Using EQUIJOIN."
   ]
  },
  {
   "cell_type": "code",
   "execution_count": null,
   "metadata": {},
   "outputs": [],
   "source": [
    "%%sql\n",
    "\n",
    "SELECT DISTINCT bios821.name \n",
    "FROM bios821, bios823\n",
    "WHERE bios821.name = bios823.name"
   ]
  },
  {
   "cell_type": "markdown",
   "metadata": {},
   "source": [
    "#### Using sub-query."
   ]
  },
  {
   "cell_type": "code",
   "execution_count": null,
   "metadata": {},
   "outputs": [],
   "source": [
    "%%sql\n",
    "\n",
    "SELECT DISTINCT name FROM bios821\n",
    "WHERE name IN (\n",
    "    SELECT name FROM bios823\n",
    ")"
   ]
  },
  {
   "cell_type": "markdown",
   "metadata": {},
   "source": [
    "#### Using correlated sub-query."
   ]
  },
  {
   "cell_type": "code",
   "execution_count": null,
   "metadata": {},
   "outputs": [],
   "source": [
    "%%sql\n",
    "\n",
    "SELECT DISTINCT name FROM bios821\n",
    "WHERE EXISTS (\n",
    "    SELECT * FROM bios823 \n",
    "    WHERE bios821.name = bios823.name\n",
    ")"
   ]
  },
  {
   "cell_type": "markdown",
   "metadata": {},
   "source": [
    "**2**. Which students taking bios823 have grades higher than the average grade of bios821? \n",
    "\n",
    "- Do this for all students\n",
    "- Do this just for the subet of patinets taking both classes"
   ]
  },
  {
   "cell_type": "code",
   "execution_count": null,
   "metadata": {},
   "outputs": [],
   "source": [
    "%%sql\n",
    "\n",
    "SELECT DISTINCT name, grade FROM bios823\n",
    "WHERE grade > (\n",
    "    SELECT AVG(grade) FROM bios821 \n",
    ")"
   ]
  },
  {
   "cell_type": "markdown",
   "metadata": {},
   "source": [
    "#### Using a view."
   ]
  },
  {
   "cell_type": "code",
   "execution_count": null,
   "metadata": {},
   "outputs": [],
   "source": [
    "%%sql\n",
    "\n",
    "CREATE VIEW view_common AS \n",
    "    SELECT DISTINCT\n",
    "        bios821.name, \n",
    "        bios821.grade as grade_821, \n",
    "        bios823.grade as grade_823 \n",
    "    FROM \n",
    "        bios821, bios823\n",
    "    WHERE \n",
    "        bios821.name = bios823.name\n",
    "    AND bios821.name IN (\n",
    "        SELECT name \n",
    "        FROM bios823 \n",
    "    )     "
   ]
  },
  {
   "cell_type": "code",
   "execution_count": null,
   "metadata": {},
   "outputs": [],
   "source": [
    "%%sql\n",
    "\n",
    "SELECT name, grade_823\n",
    "FROM view_common\n",
    "WHERE grade_823 > (\n",
    "    SELECT AVG(grade_821) \n",
    "    FROM view_common\n",
    ")"
   ]
  },
  {
   "cell_type": "markdown",
   "metadata": {},
   "source": [
    "#### Using `pandas`."
   ]
  },
  {
   "cell_type": "code",
   "execution_count": null,
   "metadata": {},
   "outputs": [],
   "source": [
    "df = bios821.merge(bios823, on='name', suffixes=['_821', '_823'])"
   ]
  },
  {
   "cell_type": "code",
   "execution_count": null,
   "metadata": {},
   "outputs": [],
   "source": [
    "df"
   ]
  },
  {
   "cell_type": "code",
   "execution_count": null,
   "metadata": {
    "scrolled": true
   },
   "outputs": [],
   "source": [
    "df[df.grade_823 > df.grade_821.mean()]"
   ]
  },
  {
   "cell_type": "markdown",
   "metadata": {},
   "source": [
    "## Common table expressions (CTE)\n",
    "\n",
    "CTEs are temporary tables created for a specific query."
   ]
  },
  {
   "cell_type": "markdown",
   "metadata": {},
   "source": [
    "### Basic syntax for CTE"
   ]
  },
  {
   "cell_type": "code",
   "execution_count": null,
   "metadata": {},
   "outputs": [],
   "source": [
    "%%sql\n",
    "\n",
    "WITH\n",
    "    t1(name) AS (SELECT 'Bob'),\n",
    "    t2(age) AS (SELECT 23)\n",
    "SELECT * from t1, t2"
   ]
  },
  {
   "cell_type": "markdown",
   "metadata": {},
   "source": [
    "#### Using CTEs to solve previous problem"
   ]
  },
  {
   "cell_type": "code",
   "execution_count": null,
   "metadata": {},
   "outputs": [],
   "source": [
    "%%sql\n",
    "\n",
    "WITH common AS (\n",
    "    SELECT DISTINCT \n",
    "        bios821.name, \n",
    "        bios821.grade as grade_821, \n",
    "        bios823.grade as grade_823 \n",
    "    FROM \n",
    "        bios821,\n",
    "        bios823\n",
    "    WHERE bios821.name IN (\n",
    "        SELECT name FROM bios823\n",
    "    ) AND\n",
    "    bios821.name = bios823.name\n",
    ")\n",
    "SELECT name, grade_823\n",
    "FROM common\n",
    "WHERE grade_823 > (\n",
    "    SELECT AVG(grade_821) \n",
    "    FROM common\n",
    ")"
   ]
  },
  {
   "cell_type": "markdown",
   "metadata": {},
   "source": [
    "### Recursive CTEs\n",
    "\n",
    "Image source: https://cdn.sqlservertutorial.net/wp-content/uploads/SQL-Server-Recursive-CTE-execution-flow.png\n",
    "![img](https://cdn.sqlservertutorial.net/wp-content/uploads/SQL-Server-Recursive-CTE-execution-flow.png)"
   ]
  },
  {
   "cell_type": "markdown",
   "metadata": {},
   "source": [
    "#### As a generator"
   ]
  },
  {
   "cell_type": "code",
   "execution_count": null,
   "metadata": {},
   "outputs": [],
   "source": [
    "%%sql\n",
    "\n",
    "WITH RECURSIVE count(n) AS (\n",
    "    SELECT 1\n",
    "        UNION ALL\n",
    "    SELECT n+1 FROM count WHERe n < 5\n",
    ")\n",
    "SELECT * FROM count"
   ]
  },
  {
   "cell_type": "markdown",
   "metadata": {},
   "source": [
    "#### Generating dates"
   ]
  },
  {
   "cell_type": "code",
   "execution_count": null,
   "metadata": {},
   "outputs": [],
   "source": [
    "%%sql\n",
    "\n",
    "WITH RECURSIVE make_dates(d) AS (\n",
    "    SELECT '2019-01-15'\n",
    "        UNION ALL\n",
    "    SELECT DATE(d, '+1 MONTHS') FROM make_dates WHERe d < '2019-12'\n",
    ")\n",
    "SELECT d AS \"Homework due\" FROM make_dates"
   ]
  },
  {
   "cell_type": "markdown",
   "metadata": {},
   "source": [
    "#### CTEs to do programming in SQL(!)"
   ]
  },
  {
   "cell_type": "code",
   "execution_count": null,
   "metadata": {},
   "outputs": [],
   "source": [
    "%%sql\n",
    "\n",
    "WITH RECURSIVE fact(n, f) AS (\n",
    "    SELECT 1, 1\n",
    "        UNION ALL\n",
    "    SELECT n+1, (n+1) * f \n",
    "    FROM fact \n",
    "    WHERe n < 5\n",
    ")\n",
    "SELECT * FROM fact\n",
    "LIMIT 5"
   ]
  },
  {
   "cell_type": "code",
   "execution_count": null,
   "metadata": {},
   "outputs": [],
   "source": [
    "%%sql\n",
    "\n",
    "WITH RECURSIVE fib(n, f1, f2) AS (\n",
    "    SELECT 1, 0, 1\n",
    "        UNION ALL\n",
    "    SELECT n+1, f2, f1+f2\n",
    "    FROM fib \n",
    "    WHERe n < 10\n",
    ")\n",
    "SELECT * FROM fib\n",
    "LIMIT 10"
   ]
  },
  {
   "cell_type": "markdown",
   "metadata": {},
   "source": [
    "#### A common use of CTEs is to work with naturally recursive structures (trees or graphs)\n",
    "\n",
    "Suppose we have a cell subset taxonomy with parent-child relations. We want to find all `descendants` of a particular cell type. This is hard to do without recursive CTEs in SQL. "
   ]
  },
  {
   "cell_type": "code",
   "execution_count": null,
   "metadata": {},
   "outputs": [],
   "source": [
    "%%sql sqlite:///\n",
    "\n",
    "DROP TABLE IF EXISTS cell;\n",
    "\n",
    "CREATE TABLE cell(\n",
    "    cell_id integer PRIMARY KEY,\n",
    "    name VARCHAR(30),\n",
    "    parent_id integer\n",
    ");\n",
    "\n",
    "INSERT INTO cell (\n",
    "   cell_id,\n",
    "   name,\n",
    "   parent_id\n",
    ")\n",
    "VALUES\n",
    "   (1, 'WBC', NULL),\n",
    "   (2, 'Lymphocyte', 1),\n",
    "   (3, 'T Cell', 2),\n",
    "   (4, 'B Cell', 2),\n",
    "   (5, 'NK Cell', 2),\n",
    "   (6, 'T helper cell', 3),\n",
    "   (7, 'T cytotoxic cell', 3),\n",
    "   (8, 'T regulatory cell', 3),\n",
    "   (9, 'Naive B cell', 4),\n",
    "   (10, 'Memory B cell', 4),\n",
    "   (11, 'Plasma cell', 4),\n",
    "   (12, 'Granulocyte', 1),\n",
    "   (13, 'Basophil', 12),\n",
    "   (14, 'Eosinophil', 12),\n",
    "   (15, 'Neutrophil', 12)"
   ]
  },
  {
   "cell_type": "code",
   "execution_count": null,
   "metadata": {},
   "outputs": [],
   "source": [
    "%%sql\n",
    "\n",
    "SELECT * FROM cell LIMIT 10"
   ]
  },
  {
   "cell_type": "code",
   "execution_count": null,
   "metadata": {},
   "outputs": [],
   "source": [
    "%%sql\n",
    "\n",
    "    SELECT cell_id, name, parent_id\n",
    "    FROM cell\n",
    "    WHERE name='T Cell'"
   ]
  },
  {
   "cell_type": "code",
   "execution_count": null,
   "metadata": {},
   "outputs": [],
   "source": [
    "target = 'Lymphocyte'"
   ]
  },
  {
   "cell_type": "code",
   "execution_count": null,
   "metadata": {},
   "outputs": [],
   "source": [
    "%%sql\n",
    "\n",
    "WITH RECURSIVE lineage AS (\n",
    "    SELECT \n",
    "        cell_id, \n",
    "        name, \n",
    "        parent_id\n",
    "    FROM \n",
    "        cell\n",
    "    WHERE \n",
    "        name=:target\n",
    "UNION ALL\n",
    "    SELECT\n",
    "        c.cell_id, \n",
    "        c.name, \n",
    "        c.parent_id\n",
    "    FROM \n",
    "        cell c\n",
    "    INNER JOIN \n",
    "        lineage l \n",
    "    ON \n",
    "        l.cell_id = c.parent_id\n",
    ")\n",
    "SELECT * FROM lineage \n",
    "LIMIT 10"
   ]
  },
  {
   "cell_type": "markdown",
   "metadata": {},
   "source": [
    "## Window Functions\n",
    "\n",
    "- [Official Refs](https://www.sqlite.org/windowfunctions.html)\n",
    "![img](https://www.sqlitetutorial.net/wp-content/uploads/2018/11/SQLite-Window-Functions-1.png)"
   ]
  },
  {
   "cell_type": "code",
   "execution_count": null,
   "metadata": {},
   "outputs": [],
   "source": [
    "np.random.seed(23)\n",
    "n = 10\n",
    "df = pd.DataFrame(\n",
    "    dict(person=np.random.choice(['A', 'B', 'C', 'D'], n,),\n",
    "                time=np.random.randint(0, 10, n), \n",
    "                bsl=np.random.randint(50, 400, n)))"
   ]
  },
  {
   "cell_type": "code",
   "execution_count": null,
   "metadata": {},
   "outputs": [],
   "source": [
    "df.sort_values(['person', 'time'])"
   ]
  },
  {
   "cell_type": "code",
   "execution_count": null,
   "metadata": {},
   "outputs": [],
   "source": [
    "%sql DROP TABLE IF EXISTS df"
   ]
  },
  {
   "cell_type": "markdown",
   "metadata": {},
   "source": [
    "Magic shortcut to creating a database table from `pandas` DataFrame."
   ]
  },
  {
   "cell_type": "code",
   "execution_count": null,
   "metadata": {},
   "outputs": [],
   "source": [
    "%sql -p df"
   ]
  },
  {
   "cell_type": "markdown",
   "metadata": {},
   "source": [
    "### Over  creates widows\n",
    "\n",
    "I've given `pandas` equivalents where possible, but sometimes they are rather unnatural."
   ]
  },
  {
   "cell_type": "code",
   "execution_count": null,
   "metadata": {},
   "outputs": [],
   "source": [
    "%%sql\n",
    "\n",
    "SELECT person, time, bsl, row_number() \n",
    "OVER () as row_num\n",
    "FROM df;"
   ]
  },
  {
   "cell_type": "code",
   "execution_count": null,
   "metadata": {},
   "outputs": [],
   "source": [
    "df.assign(row_num =  df.person.expanding(1).count().astype('int'))"
   ]
  },
  {
   "cell_type": "markdown",
   "metadata": {},
   "source": [
    "### Lag and Lead"
   ]
  },
  {
   "cell_type": "code",
   "execution_count": null,
   "metadata": {},
   "outputs": [],
   "source": [
    "%%sql\n",
    "\n",
    "SELECT person, time, bsl, \n",
    "lag(bsl, 1) OVER () as lag1,\n",
    "lead(bsl, 2) OVER () as lead2\n",
    "FROM df;"
   ]
  },
  {
   "cell_type": "code",
   "execution_count": null,
   "metadata": {},
   "outputs": [],
   "source": [
    "df_ = df.copy()\n",
    "df_['lag1'] = df_.bsl.shift(1)\n",
    "df_['lead2'] = df_.bsl.shift(-2)\n",
    "df_"
   ]
  },
  {
   "cell_type": "markdown",
   "metadata": {},
   "source": [
    "### Order by"
   ]
  },
  {
   "cell_type": "code",
   "execution_count": null,
   "metadata": {},
   "outputs": [],
   "source": [
    "%%sql\n",
    "\n",
    "SELECT person, time, bsl, row_number() \n",
    "OVER (ORDER BY person, time)\n",
    "FROM df;"
   ]
  },
  {
   "cell_type": "code",
   "execution_count": null,
   "metadata": {},
   "outputs": [],
   "source": [
    "df_ = df.copy()\n",
    "df_ = df_.sort_values(['person', 'time'])\n",
    "df_.assign(row_num =  df_.person.expanding(1).count().astype('int'))"
   ]
  },
  {
   "cell_type": "markdown",
   "metadata": {},
   "source": [
    "### Partition by"
   ]
  },
  {
   "cell_type": "code",
   "execution_count": null,
   "metadata": {},
   "outputs": [],
   "source": [
    "%%sql\n",
    "\n",
    "SELECT person, time, bsl, row_number() \n",
    "OVER (PARTITION BY person ORDER BY time) as row_number\n",
    "FROM df;"
   ]
  },
  {
   "cell_type": "code",
   "execution_count": null,
   "metadata": {},
   "outputs": [],
   "source": [
    "df_ = df.copy()\n",
    "df_ = df_.sort_values(['person', 'time'])\n",
    "df_['row_number'] = df_.groupby(['person']).cumcount()+1\n",
    "df_"
   ]
  },
  {
   "cell_type": "code",
   "execution_count": null,
   "metadata": {},
   "outputs": [],
   "source": [
    "%%sql\n",
    "\n",
    "SELECT person, time, bsl, group_concat(bsl, ', ')\n",
    "OVER (PARTITION BY person ORDER BY time) as window\n",
    "FROM df;"
   ]
  },
  {
   "cell_type": "code",
   "execution_count": null,
   "metadata": {},
   "outputs": [],
   "source": [
    "df_['window'] = (\n",
    "    df_.groupby('person').\n",
    "    apply(lambda x: pd.Series([x.bsl.iloc[:(i+1)].values \n",
    "                               for i in pd.Series(np.arange(len(x)))]))\n",
    ").values\n",
    "df_['window'] = df_.window.apply(lambda x: ','.join(map(str, x)))\n",
    "df_"
   ]
  },
  {
   "cell_type": "markdown",
   "metadata": {},
   "source": [
    "### Specifying rows in window"
   ]
  },
  {
   "cell_type": "code",
   "execution_count": null,
   "metadata": {},
   "outputs": [],
   "source": [
    "%%sql\n",
    "\n",
    "SELECT person, time, bsl, group_concat(bsl, ', ')\n",
    "OVER (\n",
    "    PARTITION BY person\n",
    "    ORDER BY time\n",
    "    ROWS BETWEEN 1 PRECEDING AND 1 FOLLOWING\n",
    "     ) as window\n",
    "FROM df;"
   ]
  },
  {
   "cell_type": "code",
   "execution_count": null,
   "metadata": {},
   "outputs": [],
   "source": [
    "df_['window'] = (\n",
    "    df_.groupby('person').\n",
    "    apply(lambda x: pd.Series([x.bsl.iloc[(i-len(x)-1):(i+2)].values \n",
    "                               for i in pd.Series(np.arange(len(x)))]))\n",
    ").values\n",
    "df_['window'] = df_.window.apply(lambda x: ','.join(map(str, x)))\n",
    "df_"
   ]
  },
  {
   "cell_type": "markdown",
   "metadata": {},
   "source": [
    "### Using window functions"
   ]
  },
  {
   "cell_type": "code",
   "execution_count": null,
   "metadata": {},
   "outputs": [],
   "source": [
    "%%sql\n",
    "\n",
    "SELECT person, time, bsl, \n",
    "       row_number() OVER win    AS row_number,\n",
    "       rank() OVER win          AS rank,\n",
    "       dense_rank() OVER win    AS dense_rank,\n",
    "       percent_rank() OVER win  AS percent_rank,\n",
    "       cume_dist() OVER win     AS cume_dist\n",
    "FROM df\n",
    "WINDOW win AS (ORDER BY person);"
   ]
  },
  {
   "cell_type": "code",
   "execution_count": null,
   "metadata": {},
   "outputs": [],
   "source": [
    "df_ = df.copy()\n",
    "df_ = df_.sort_values(['person'])\n",
    "df_['row_num'] = df_['person'].expanding(1).count().astype('int')\n",
    "df_['rank'] = df_['person'].rank(method='min').astype('int')\n",
    "df_['dense_rank'] = df_['person'].rank(method='dense').astype('int')\n",
    "df_['percent_rank'] = (df_.person.rank(method='min') - 1) / (df_.person.count()-1)\n",
    "df_['cume_dist'] = df_['person'].rank(method='max', pct=True)\n",
    "df_"
   ]
  },
  {
   "cell_type": "markdown",
   "metadata": {},
   "source": [
    "### The NTILE window function"
   ]
  },
  {
   "cell_type": "code",
   "execution_count": null,
   "metadata": {},
   "outputs": [],
   "source": [
    "scores = pd.DataFrame(dict(scores=np.random.randint(0, 10, 10)))\n",
    "scores"
   ]
  },
  {
   "cell_type": "code",
   "execution_count": null,
   "metadata": {},
   "outputs": [],
   "source": [
    "%sql -p scores"
   ]
  },
  {
   "cell_type": "code",
   "execution_count": null,
   "metadata": {},
   "outputs": [],
   "source": [
    "%%sql\n",
    "\n",
    "SELECT scores, NTILE(4)\n",
    "OVER (\n",
    "    -- PARTITION BY scores\n",
    "    ORDER BY scores \n",
    ") AS quartile\n",
    "FROM scores"
   ]
  },
  {
   "cell_type": "markdown",
   "metadata": {},
   "source": [
    "Note: See [this](https://stackoverflow.com/questions/20726493/python-pandas-qcut-behavior-with-of-observations-not-divisible-by-of-bins) for an explanation of the difference between NTILE and `qcut`"
   ]
  },
  {
   "cell_type": "code",
   "execution_count": null,
   "metadata": {},
   "outputs": [],
   "source": [
    "quartiles = pd.qcut(scores.scores, 4, labels=[1,2,3,4])\n",
    "scores['quantile'] = quartiles\n",
    "scores.sort_values('scores')"
   ]
  },
  {
   "cell_type": "markdown",
   "metadata": {},
   "source": [
    "### Using aggregate functions\n",
    "\n",
    "The `sqlite3` implementation of LAST_VALUE seems to be buggy."
   ]
  },
  {
   "cell_type": "code",
   "execution_count": null,
   "metadata": {},
   "outputs": [],
   "source": [
    "%%sql\n",
    "\n",
    "SELECT person, time, bsl,\n",
    "       SUM(bsl) OVER win    AS bsl_sum,\n",
    "       AVG(bsl) OVER win    AS bsl_avg,\n",
    "       MIN(bsl) OVER win    AS bsl_min,\n",
    "       MAX(bsl) over win as bsl_max,\n",
    "       FIRST_VALUE(bsl) OVER win as bsl_start,\n",
    "       LAST_VALUE(bsl) OVER win as bsl_end\n",
    "FROM df\n",
    "WINDOW win AS (PARTITION BY person ORDER BY time);"
   ]
  },
  {
   "cell_type": "code",
   "execution_count": null,
   "metadata": {},
   "outputs": [],
   "source": [
    "g = df.groupby('person')\n",
    "g.first()"
   ]
  },
  {
   "cell_type": "code",
   "execution_count": null,
   "metadata": {},
   "outputs": [],
   "source": [
    "df_ = df.copy()\n",
    "df_ = df_.sort_values(['person', 'time'])\n",
    "df_['bsl_sum'] = df_.groupby(['person'])['bsl'].cumsum()\n",
    "df_['bsl_avg'] = df_.groupby(['person']).expanding().agg({'bsl': 'mean'}).values\n",
    "df_['bsl_min'] = df_.groupby(['person'])['bsl'].cummin()\n",
    "df_['bsl_max'] = df_.groupby(['person'])['bsl'].cummax()\n",
    "df_['bsl_start'] = df_.groupby(['person'])['bsl'].transform('first')\n",
    "df_['bsl_end'] = df_.groupby(['person'])['bsl'].transform('last')\n",
    "df_"
   ]
  },
  {
   "cell_type": "markdown",
   "metadata": {},
   "source": [
    "### Using rows and range to constrain windows"
   ]
  },
  {
   "cell_type": "code",
   "execution_count": null,
   "metadata": {},
   "outputs": [],
   "source": [
    "%%sql\n",
    "\n",
    "SELECT person, time, bsl, \n",
    "       GROUP_CONCAT(CAST(bsl AS TEXT), ', ') OVER win AS vals,\n",
    "       SUM(bsl) OVER win AS bsl_sum,\n",
    "       AVG(bsl) OVER win AS bsl_avg\n",
    "FROM df\n",
    "WINDOW win AS (\n",
    "    PARTITION BY person\n",
    "    ORDER BY time\n",
    "    ROWS BETWEEN 1 PRECEDING AND 1 FOLLOWING\n",
    ")\n",
    "ORDER BY person, time;"
   ]
  },
  {
   "cell_type": "code",
   "execution_count": null,
   "metadata": {},
   "outputs": [],
   "source": [
    "df_ = df.copy()\n",
    "df_ = df_.sort_values(['person', 'time'])\n",
    "df_['bsl_sum'] = (df_.groupby('person').\n",
    "                  bsl.apply(lambda x: x.rolling(3, min_periods=0, center=True).sum()))\n",
    "df_['bsl_avg'] = (df_.groupby('person').\n",
    "                  bsl.apply(lambda x: x.rolling(3, min_periods=0, center=True).mean()))\n",
    "df_"
   ]
  },
  {
   "cell_type": "markdown",
   "metadata": {},
   "source": [
    "### Frames using Rows and Range\n",
    "\n",
    "For Range, all rows with the same ORDER BY value are considered peers."
   ]
  },
  {
   "cell_type": "code",
   "execution_count": null,
   "metadata": {},
   "outputs": [],
   "source": [
    "%%sql\n",
    "\n",
    "SELECT person, time, bsl, \n",
    "       GROUP_CONCAT(CAST(bsl AS TEXT), ', ') OVER win AS vals,\n",
    "       SUM(bsl) OVER win AS bsl_sum,\n",
    "       AVG(bsl) OVER win AS bsl_avg\n",
    "FROM df\n",
    "WINDOW win AS (\n",
    "    ORDER BY person, time\n",
    "    ROWS BETWEEN UNBOUNDED PRECEDING AND CURRENT ROW\n",
    ")\n",
    "ORDER BY person, time;"
   ]
  },
  {
   "cell_type": "code",
   "execution_count": null,
   "metadata": {},
   "outputs": [],
   "source": [
    "df_ = df.copy()\n",
    "df_ = df_.sort_values(['person', 'time'])\n",
    "df_['bsl_sum'] = df_.bsl.expanding().sum().astype('int')\n",
    "df_['bsl_avg'] = df_.bsl.expanding().mean()\n",
    "df_"
   ]
  },
  {
   "cell_type": "code",
   "execution_count": null,
   "metadata": {},
   "outputs": [],
   "source": [
    "%%sql\n",
    "\n",
    "SELECT person, time, bsl, \n",
    "       GROUP_CONCAT(CAST(bsl AS TEXT), ', ') OVER win AS vals,\n",
    "       SUM(bsl) OVER win AS bsl_sum,\n",
    "       AVG(bsl) OVER win AS bsl_avg\n",
    "FROM df\n",
    "WINDOW win AS (\n",
    "    ORDER BY person\n",
    "    RANGE BETWEEN UNBOUNDED PRECEDING AND CURRENT ROW\n",
    ")\n",
    "ORDER BY person, time;"
   ]
  },
  {
   "cell_type": "code",
   "execution_count": null,
   "metadata": {},
   "outputs": [],
   "source": [
    "df_ = df.copy()\n",
    "df_ = df_.sort_values(['person', 'time'])\n",
    "df_['bsl_sum'] =  df_['bsl'].cumsum().groupby(df_['person']).transform('last')\n",
    "df_['bsl_sum'] =  df_['bsl'].expanding().mean().groupby(df_['person']).transform('last')\n",
    "df_"
   ]
  }
 ],
 "metadata": {
  "kernelspec": {
   "display_name": "Python 3",
   "language": "python",
   "name": "python3"
  },
  "language_info": {
   "codemirror_mode": {
    "name": "ipython",
    "version": 3
   },
   "file_extension": ".py",
   "mimetype": "text/x-python",
   "name": "python",
   "nbconvert_exporter": "python",
   "pygments_lexer": "ipython3",
   "version": "3.8.5"
  }
 },
 "nbformat": 4,
 "nbformat_minor": 2
}
