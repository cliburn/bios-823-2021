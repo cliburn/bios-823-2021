{
 "cells": [
  {
   "cell_type": "markdown",
   "metadata": {},
   "source": [
    "# Interpreting PCA"
   ]
  },
  {
   "cell_type": "code",
   "execution_count": null,
   "metadata": {},
   "outputs": [],
   "source": [
    "import numpy as np\n",
    "import pandas as pd\n",
    "import matplotlib.pyplot as plt"
   ]
  },
  {
   "cell_type": "code",
   "execution_count": null,
   "metadata": {},
   "outputs": [],
   "source": [
    "from sklearn.preprocessing import StandardScaler\n",
    "from sklearn.decomposition import PCA"
   ]
  },
  {
   "cell_type": "code",
   "execution_count": null,
   "metadata": {},
   "outputs": [],
   "source": [
    "np.random.seed(42)\n",
    "x1 = np.random.normal(0, 1, 50)\n",
    "x2 = x1 + np.random.normal(0, 0.5, 50)\n",
    "x3 = -x1 + np.random.normal(0, 0.5, 50)\n",
    "x4 = np.random.normal(0, 1, 50)"
   ]
  },
  {
   "cell_type": "code",
   "execution_count": null,
   "metadata": {},
   "outputs": [],
   "source": [
    "X = pd.DataFrame(np.c_[x1, x2, x3, x4], columns = ['X1', 'X2', 'X3', 'X4'])"
   ]
  },
  {
   "cell_type": "markdown",
   "metadata": {},
   "source": [
    "## Correlation between column features"
   ]
  },
  {
   "cell_type": "code",
   "execution_count": null,
   "metadata": {},
   "outputs": [],
   "source": [
    "X.corr()"
   ]
  },
  {
   "cell_type": "markdown",
   "metadata": {},
   "source": [
    "## Standardize features"
   ]
  },
  {
   "cell_type": "code",
   "execution_count": null,
   "metadata": {},
   "outputs": [],
   "source": [
    "scaler = StandardScaler(with_mean=True, with_std=True)"
   ]
  },
  {
   "cell_type": "code",
   "execution_count": null,
   "metadata": {},
   "outputs": [],
   "source": [
    "X_scaled = scaler.fit_transform(X)"
   ]
  },
  {
   "cell_type": "markdown",
   "metadata": {},
   "source": [
    "## PCA"
   ]
  },
  {
   "cell_type": "code",
   "execution_count": null,
   "metadata": {},
   "outputs": [],
   "source": [
    "pca = PCA(n_components=2)"
   ]
  },
  {
   "cell_type": "code",
   "execution_count": null,
   "metadata": {},
   "outputs": [],
   "source": [
    "X_pca = pca.fit_transform(X)"
   ]
  },
  {
   "cell_type": "markdown",
   "metadata": {},
   "source": [
    "### How much variance is explained by each PC?"
   ]
  },
  {
   "cell_type": "code",
   "execution_count": null,
   "metadata": {},
   "outputs": [],
   "source": [
    "pca.explained_variance_ratio_"
   ]
  },
  {
   "cell_type": "code",
   "execution_count": null,
   "metadata": {},
   "outputs": [],
   "source": [
    "np.cumsum(pca.explained_variance_ratio_)"
   ]
  },
  {
   "cell_type": "markdown",
   "metadata": {},
   "source": [
    "### What are the directions of maximum variance?"
   ]
  },
  {
   "cell_type": "code",
   "execution_count": null,
   "metadata": {},
   "outputs": [],
   "source": [
    "pca.components_"
   ]
  },
  {
   "cell_type": "markdown",
   "metadata": {},
   "source": [
    "### Loadings"
   ]
  },
  {
   "cell_type": "code",
   "execution_count": null,
   "metadata": {},
   "outputs": [],
   "source": [
    "coeffs = pca.components_.T\n",
    "coeffs"
   ]
  },
  {
   "cell_type": "markdown",
   "metadata": {},
   "source": [
    "### PCA plot, loadings plot, and biplot"
   ]
  },
  {
   "cell_type": "code",
   "execution_count": null,
   "metadata": {},
   "outputs": [],
   "source": [
    "fig, axes = plt.subplots(1, 3, figsize=(12,4),\n",
    "                         sharex=True, sharey=True)\n",
    "\n",
    "ax = axes[0]\n",
    "ax.scatter(X_pca[:, 0], X_pca[:, 1])\n",
    "ax.set_xlabel('PC1', fontsize=16)\n",
    "ax.set_ylabel('PC2', fontsize=16)\n",
    "ax.set_xticklabels([])\n",
    "ax.set_yticklabels([])\n",
    "ax.set_title('PCA plot', fontsize=16)\n",
    "\n",
    "ax = axes[1]\n",
    "for i in range(coeffs.shape[0]):\n",
    "    ax.arrow(0, 0, coeffs[i,0], coeffs[i,1], color='red', head_width=0.1)\n",
    "    ax.text(2*coeffs[i,0], 2*coeffs[i,1], f'X{i+1}', fontsize=16)\n",
    "ax.set_xlabel('PC1', fontsize=16)\n",
    "ax.set_ylabel('PC2', fontsize=16)\n",
    "ax.set_title('Loadings plot', fontsize=16)\n",
    "\n",
    "ax = axes[2]\n",
    "ax.scatter(X_pca[:, 0], X_pca[:, 1])\n",
    "for i in range(coeffs.shape[0]):\n",
    "    ax.arrow(0, 0, coeffs[i,0], coeffs[i,1], color='red', head_width=0.1)\n",
    "    ax.text(2*coeffs[i,0], 2*coeffs[i,1], f'X{i+1}', fontsize=16)\n",
    "ax.set_xlabel('PC1', fontsize=16)\n",
    "ax.set_ylabel('PC2', fontsize=16)\n",
    "ax.set_title('Biplot', fontsize=16)\n",
    "\n",
    "pass"
   ]
  },
  {
   "cell_type": "markdown",
   "metadata": {},
   "source": [
    "### Observations about loadings\n",
    "\n",
    "- X1, X2 and X3 contribute most to PC1\n",
    "- X4 contributes most to PC2\n",
    "- X1 and X2 are highly correlated\n",
    "- X1 and X2 are highly anti-correlated with X3\n",
    "- X3 is essentially uncorrelated with X1, X2 and X3\n",
    "- The arrows for X1, X2 and X3 are smaller than for X4 because they all contribute to PC1, while X4 is the only contributor to PC2"
   ]
  }
 ],
 "metadata": {
  "kernelspec": {
   "display_name": "Python 3",
   "language": "python",
   "name": "python3"
  },
  "language_info": {
   "codemirror_mode": {
    "name": "ipython",
    "version": 3
   },
   "file_extension": ".py",
   "mimetype": "text/x-python",
   "name": "python",
   "nbconvert_exporter": "python",
   "pygments_lexer": "ipython3",
   "version": "3.8.10"
  }
 },
 "nbformat": 4,
 "nbformat_minor": 4
}
