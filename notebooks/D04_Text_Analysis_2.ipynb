{
 "cells": [
  {
   "cell_type": "markdown",
   "metadata": {},
   "source": [
    "# Text Analysis\n",
    "\n",
    " In this lecture, we look at more recent methods of feature extraction and topic modeling.\n",
    "\n",
    "We will cover the following:\n",
    "\n",
    "- word2vec\n",
    "- latent semantic analysis\n",
    "- non-negative matrix factorization\n",
    "- latent Dirichlet allocation\n",
    "\n",
    "A technical guide to topic modeling can be found in these [lecture notes](http://pages.cs.wisc.edu/~jerryzhu/cs769/latent.pdf) but is outside the scope of this class."
   ]
  },
  {
   "cell_type": "markdown",
   "metadata": {},
   "source": [
    "## Similarity\n",
    "\n",
    "In order to find similar words or documents after they have been vectorized, we need definitions of similarity. Similarity measures often used in text analysis include\n",
    "\n",
    "- edit \n",
    "- cosine \n",
    "- Hellinger \n",
    "- Kullback-Leibler \n",
    "- Jacard \n",
    "\n",
    "These may be given as the similarity or distance."
   ]
  },
  {
   "cell_type": "markdown",
   "metadata": {},
   "source": [
    "### Edit \n",
    "\n",
    "The edit distance between two strings is the minimum number of changes needed to covert from one string to another. These changes may be weighted, for example, by making a deletion changes have a different weight than an insertion operation. Also known as Levenshtein distance.\n",
    "\n",
    "Such distance metrics are the basis for aligning DNA, RNA and protein sequences."
   ]
  },
  {
   "cell_type": "code",
   "execution_count": null,
   "metadata": {},
   "outputs": [],
   "source": [
    "! python3 -m pip install --quiet textdistance"
   ]
  },
  {
   "cell_type": "code",
   "execution_count": null,
   "metadata": {},
   "outputs": [],
   "source": [
    "import textdistance as td"
   ]
  },
  {
   "cell_type": "code",
   "execution_count": null,
   "metadata": {},
   "outputs": [],
   "source": [
    "td.levenshtein.distance('slaves', 'salve')"
   ]
  },
  {
   "cell_type": "code",
   "execution_count": null,
   "metadata": {},
   "outputs": [],
   "source": [
    "td.levenshtein.similarity('slaves', 'salve')"
   ]
  },
  {
   "cell_type": "markdown",
   "metadata": {},
   "source": [
    "### Jacard \n",
    "\n",
    "The Jacard distance is the intersection divided by union of two sets."
   ]
  },
  {
   "cell_type": "code",
   "execution_count": null,
   "metadata": {},
   "outputs": [],
   "source": [
    "td.jaccard.similarity('the quick brown fox'.split(), 'the quick brown dog'.split())"
   ]
  },
  {
   "cell_type": "markdown",
   "metadata": {},
   "source": [
    "Note that the implementation is actually for multisets."
   ]
  },
  {
   "cell_type": "code",
   "execution_count": null,
   "metadata": {},
   "outputs": [],
   "source": [
    "td.jaccard.similarity('slaves', 'salve')"
   ]
  },
  {
   "cell_type": "markdown",
   "metadata": {},
   "source": [
    "### Cosine \n",
    "\n",
    "For two real valued vectors."
   ]
  },
  {
   "cell_type": "code",
   "execution_count": null,
   "metadata": {},
   "outputs": [],
   "source": [
    "s1 = 'the quick brown fox'\n",
    "s2 = 'the quick brown dog'"
   ]
  },
  {
   "cell_type": "code",
   "execution_count": null,
   "metadata": {},
   "outputs": [],
   "source": [
    "td.cosine.similarity(s1.split(), s2.split())"
   ]
  },
  {
   "cell_type": "markdown",
   "metadata": {},
   "source": [
    "Cosine distance works on vectors - the default is just to use the bag of words counts."
   ]
  },
  {
   "cell_type": "code",
   "execution_count": null,
   "metadata": {},
   "outputs": [],
   "source": [
    "from sklearn.feature_extraction.text import CountVectorizer"
   ]
  },
  {
   "cell_type": "code",
   "execution_count": null,
   "metadata": {},
   "outputs": [],
   "source": [
    "cv = CountVectorizer()"
   ]
  },
  {
   "cell_type": "code",
   "execution_count": null,
   "metadata": {},
   "outputs": [],
   "source": [
    "t = cv.fit_transform([s1, s2]).toarray()\n",
    "t"
   ]
  },
  {
   "cell_type": "markdown",
   "metadata": {},
   "source": [
    "Cosine distance is equivalent to the inner product of the normalized vectors with length 1."
   ]
  },
  {
   "cell_type": "code",
   "execution_count": null,
   "metadata": {},
   "outputs": [],
   "source": [
    "from scipy.spatial.distance import cosine"
   ]
  },
  {
   "cell_type": "code",
   "execution_count": null,
   "metadata": {},
   "outputs": [],
   "source": [
    "import numpy as np"
   ]
  },
  {
   "cell_type": "code",
   "execution_count": null,
   "metadata": {},
   "outputs": [],
   "source": [
    "np.around(1- cosine(t[0], t[1]), 2)"
   ]
  },
  {
   "cell_type": "code",
   "execution_count": null,
   "metadata": {},
   "outputs": [],
   "source": [
    "np.dot(t[0]/np.linalg.norm(t[0]), t[1]/np.linalg.norm(t[1]))"
   ]
  },
  {
   "cell_type": "markdown",
   "metadata": {},
   "source": [
    "### Hellinger\n",
    "\n",
    "For two probability distributions."
   ]
  },
  {
   "cell_type": "code",
   "execution_count": null,
   "metadata": {},
   "outputs": [],
   "source": [
    "from gensim.matutils import hellinger"
   ]
  },
  {
   "cell_type": "code",
   "execution_count": null,
   "metadata": {},
   "outputs": [],
   "source": [
    "p = t[0]/t[0].sum()\n",
    "q = t[1]/t[1].sum()\n",
    "p, q"
   ]
  },
  {
   "cell_type": "code",
   "execution_count": null,
   "metadata": {},
   "outputs": [],
   "source": [
    "hellinger(p, q)"
   ]
  },
  {
   "cell_type": "code",
   "execution_count": null,
   "metadata": {},
   "outputs": [],
   "source": [
    "def discrete_hellinger(p, q):\n",
    "    return 1/np.sqrt(2) * np.linalg.norm(np.sqrt(p) - np.sqrt(q))"
   ]
  },
  {
   "cell_type": "code",
   "execution_count": null,
   "metadata": {},
   "outputs": [],
   "source": [
    "discrete_hellinger(p, q)"
   ]
  },
  {
   "cell_type": "markdown",
   "metadata": {},
   "source": [
    "### Kullback-Leibler"
   ]
  },
  {
   "cell_type": "code",
   "execution_count": null,
   "metadata": {},
   "outputs": [],
   "source": [
    "t = cv.fit_transform(['one two three', 'one one one two two three']).toarray()\n",
    "t"
   ]
  },
  {
   "cell_type": "code",
   "execution_count": null,
   "metadata": {},
   "outputs": [],
   "source": [
    "p = t[0]/t[0].sum()\n",
    "q = t[1]/t[1].sum()\n",
    "p, q"
   ]
  },
  {
   "cell_type": "code",
   "execution_count": null,
   "metadata": {},
   "outputs": [],
   "source": [
    "from gensim.matutils import  kullback_leibler"
   ]
  },
  {
   "cell_type": "code",
   "execution_count": null,
   "metadata": {},
   "outputs": [],
   "source": [
    "kullback_leibler(p, q)"
   ]
  },
  {
   "cell_type": "markdown",
   "metadata": {},
   "source": [
    "Not symmetric."
   ]
  },
  {
   "cell_type": "code",
   "execution_count": null,
   "metadata": {},
   "outputs": [],
   "source": [
    "kullback_leibler(q, p)"
   ]
  },
  {
   "cell_type": "code",
   "execution_count": null,
   "metadata": {},
   "outputs": [],
   "source": [
    "def discrete_dkl(p, q):\n",
    "    return -np.sum(p * (np.log(q) - np.log(p)))"
   ]
  },
  {
   "cell_type": "code",
   "execution_count": null,
   "metadata": {},
   "outputs": [],
   "source": [
    "discrete_dkl(p, q)"
   ]
  },
  {
   "cell_type": "code",
   "execution_count": null,
   "metadata": {},
   "outputs": [],
   "source": [
    "discrete_dkl(q, p)"
   ]
  },
  {
   "cell_type": "markdown",
   "metadata": {},
   "source": [
    "## Word2Vec\n",
    "\n",
    "the `word2vec` family of algorithms is a powerful method for converting a word into a vector that takes into account its context. There are two main ideas - in continuous bag of words, we try to predict the current word from nearby words; in continuous skip-gram, the current word is used to predict nearby words. The phrase \"nearby words\" is intentionally vague - in the simplest case, it is a sliding window of words centered on the current word. \n",
    "\n",
    "Suppose we have the sentence\n",
    "\n",
    "```\n",
    "I do not like green eggs and ham\n",
    "```\n",
    "\n",
    "and suppose we use a centered window of length 3,\n",
    "\n",
    "```\n",
    "((I, not), do), ((do, like), not), ((not, green), like), ((like, eggs), green), ((green, and), eggs), ((eggs, ham) and)\n",
    "```\n",
    "\n",
    "In continuous bag of words, we make the (input, output) pairs to be\n",
    "```\n",
    "(I, do)\n",
    "(not, do)\n",
    "(do, not)\n",
    "(like, not)\n",
    "(not, like)\n",
    "(green, like)\n",
    "(like, green)\n",
    "(eggs, green)\n",
    "(green, eggs)\n",
    "(and, eggs)\n",
    "(eggs, and)\n",
    "(ham, and)\n",
    "```\n",
    "\n",
    "That is, we try to predict `do` when we see `I`, `do` when we see `not` and so on.\n",
    "\n",
    "In continuous skip-gram, we do the inverse for (input, output) pairs\n",
    "```\n",
    "(do, I)\n",
    "(do, not)\n",
    "(not, do)\n",
    "(not, like)\n",
    "(like, not)\n",
    "(like, green)\n",
    "(green, like)\n",
    "(green, eggs)\n",
    "(eggs, green)\n",
    "(eggs, and)\n",
    "(and, eggs)\n",
    "(and, ham)\n",
    "```\n",
    "\n",
    "That is, we try to predict `I` when we see `do`, `not` when we see `do` and so on.\n",
    "\n",
    "To do this prediction, we first assign each word to a vector of some fixed length $n$ - i.e. we embed each word as an $\\mathbb{R}^n$ vector. To do a prediction for all words in the vocabulary using `softmax` would be prohibitively expensive, and is unnecessary if we are just trying to find a good embedding vector. Instead we select $k$ noise words, typically from the unigram distributions, and just train the classifier to distinguish the target word from the noise words using logistic regression (negative sampling). We use stochastic gradient descent to move the embedding word vectors (initialized randomly) until the model gives a high probability to the target words and low probability to the noise ones. If successful, words that are meaningful when substituted in the same context will be close together in $\\mathbb{R}^n$. For instance, `dog` and `cat` are likely to be close together because they appear together in similar contexts like\n",
    "\n",
    "- `My pet dog|cat`\n",
    "- `Raining dogs|cats and cats|dogs`\n",
    "- `The dog|cat chased the rat`\n",
    "- `Common pets are dogs|cats`\n",
    "\n",
    "while `dog` and `apple` are less likely to occur in the same context and hence will end up further apart in the embedding space. Interestingly, the vectors resulting from vector subtraction are also meaningful since they represent analogies - the vector between `man` and `woman` is likely to be similar to that between `king` and `queen`, or `boy` and `girl`.\n",
    "\n",
    "Note: you will encounter `word2vec` again if you take a deep learning class - it is a very influential idea and has many applications beyond text processing since you can apply it to any discrete distribution where local context is meaningful (e.g. genomes). \n",
    "\n",
    "There is a very nice tutorial on Word2Vec that you should read if you want to learn more about the algorithm - [Part 1](http://mccormickml.com/2016/04/19/word2vec-tutorial-the-skip-gram-model/) and [Part 2](http://mccormickml.com/2017/01/11/word2vec-tutorial-part-2-negative-sampling/)\n",
    "\n",
    "Word2Vec learns about the feature representations of *words* - there is a an extension `doc2vec` that generates a feature vector for paragraphs or documents in the same way; we may cover this in the next lecture along with other document retrieval algorithms.\n",
    "\n",
    "There are several other word to vector algorithms inspired by `word2vec` - for example, [`fasttext`](https://fasttext.cc), [approximate nearest neighbors](https://github.com/spotify/annoy) and `wordrank`. Conveniently, many of these are available in the `gensim.models` package."
   ]
  },
  {
   "cell_type": "markdown",
   "metadata": {},
   "source": [
    "We illustrate the mechanics of `word2vec` using `gensim` on the tiny newsgroup corpora; however, you really need much large corpora for `word2vec` to learn effectively."
   ]
  },
  {
   "cell_type": "code",
   "execution_count": null,
   "metadata": {},
   "outputs": [],
   "source": [
    "import re\n",
    "import numpy as np\n",
    "import pandas as pd"
   ]
  },
  {
   "cell_type": "code",
   "execution_count": null,
   "metadata": {},
   "outputs": [],
   "source": [
    "import nltk\n",
    "from nltk.stem import SnowballStemmer, WordNetLemmatizer\n",
    "from nltk.collocations import QuadgramCollocationFinder, TrigramCollocationFinder\n",
    "from nltk.metrics.association import QuadgramAssocMeasures, TrigramAssocMeasures\n",
    "import string"
   ]
  },
  {
   "cell_type": "code",
   "execution_count": null,
   "metadata": {},
   "outputs": [],
   "source": [
    "import gensim\n",
    "from gensim.models.word2vec import Word2Vec"
   ]
  },
  {
   "cell_type": "code",
   "execution_count": null,
   "metadata": {},
   "outputs": [],
   "source": [
    "from sklearn.datasets import fetch_20newsgroups"
   ]
  },
  {
   "cell_type": "code",
   "execution_count": null,
   "metadata": {},
   "outputs": [],
   "source": [
    "import warnings\n",
    "\n",
    "warnings.simplefilter('ignore', FutureWarning)"
   ]
  },
  {
   "cell_type": "code",
   "execution_count": null,
   "metadata": {},
   "outputs": [],
   "source": [
    "newsgroups_train = fetch_20newsgroups(\n",
    "        subset='train',\n",
    "        remove=('headers', 'footers', 'quotes')\n",
    ")"
   ]
  },
  {
   "cell_type": "code",
   "execution_count": null,
   "metadata": {},
   "outputs": [],
   "source": [
    "newsgroups_test = fetch_20newsgroups(\n",
    "        subset='test',\n",
    "        remove=('headers', 'footers', 'quotes')\n",
    ")"
   ]
  },
  {
   "cell_type": "code",
   "execution_count": null,
   "metadata": {},
   "outputs": [],
   "source": [
    "def gen_sentences(corpus):\n",
    "    for item in corpus:\n",
    "        yield from nltk.tokenize.sent_tokenize(item)"
   ]
  },
  {
   "cell_type": "code",
   "execution_count": null,
   "metadata": {},
   "outputs": [],
   "source": [
    "for i, t in enumerate(newsgroups_train.target[:20]):\n",
    "    print('%-24s:%s' % (newsgroups_train.target_names[t], \n",
    "                        newsgroups_train.data[i].strip().replace('\\n', ' ')[:50]))"
   ]
  },
  {
   "cell_type": "code",
   "execution_count": null,
   "metadata": {},
   "outputs": [],
   "source": [
    "list(newsgroups_train.data[:3])"
   ]
  },
  {
   "cell_type": "code",
   "execution_count": null,
   "metadata": {},
   "outputs": [],
   "source": [
    "list(gen_sentences(newsgroups_train.data[:2]))[:3]"
   ]
  },
  {
   "cell_type": "code",
   "execution_count": null,
   "metadata": {},
   "outputs": [],
   "source": [
    "from gensim.parsing.preprocessing import STOPWORDS"
   ]
  },
  {
   "cell_type": "code",
   "execution_count": null,
   "metadata": {},
   "outputs": [],
   "source": [
    "docs = [gensim.utils.simple_preprocess(s) \n",
    "        for s in newsgroups_train.data]\n",
    "docs = [[s for s in doc if not s in STOPWORDS] for doc in docs]"
   ]
  },
  {
   "cell_type": "code",
   "execution_count": null,
   "metadata": {},
   "outputs": [],
   "source": [
    "try:\n",
    "    model = Word2Vec.load('newsgroup_w2v.model')\n",
    "except:\n",
    "    model = Word2Vec(docs,\n",
    "                     vector_size=64, # we use 64 dimensions to represent each word\n",
    "                     window=5, # size of each context window\n",
    "                     min_count=3, # ignore words with frequency less than this\n",
    "                     workers=4)\n",
    "    model.train(docs, total_examples=len(docs), epochs=10)\n",
    "    model.save('newsgroup_w2v.model')"
   ]
  },
  {
   "cell_type": "code",
   "execution_count": null,
   "metadata": {},
   "outputs": [],
   "source": [
    "len(model.wv.key_to_index)"
   ]
  },
  {
   "cell_type": "markdown",
   "metadata": {},
   "source": [
    "The embedding vector for the word `player`"
   ]
  },
  {
   "cell_type": "code",
   "execution_count": null,
   "metadata": {
    "scrolled": true
   },
   "outputs": [],
   "source": [
    "model.wv.get_vector('england')"
   ]
  },
  {
   "cell_type": "code",
   "execution_count": null,
   "metadata": {},
   "outputs": [],
   "source": [
    "model.wv.most_similar('england', topn=5)"
   ]
  },
  {
   "cell_type": "code",
   "execution_count": null,
   "metadata": {},
   "outputs": [],
   "source": [
    "model.wv.similarity('england', 'france')"
   ]
  },
  {
   "cell_type": "code",
   "execution_count": null,
   "metadata": {},
   "outputs": [],
   "source": [
    "model.wv.similarity('england', 'rabbit')"
   ]
  },
  {
   "cell_type": "markdown",
   "metadata": {},
   "source": [
    "Apparently, man is to baseball as woman is to stats. Who knew?"
   ]
  },
  {
   "cell_type": "code",
   "execution_count": null,
   "metadata": {},
   "outputs": [],
   "source": [
    "model.wv.most_similar(positive=['baseball', 'man'], negative=['woman'], topn=3)"
   ]
  },
  {
   "cell_type": "markdown",
   "metadata": {},
   "source": [
    "Because of the small and very biased data sets (including `soc.religion.christian` and `alt.atheism`), some of the analogies found are pretty weird."
   ]
  },
  {
   "cell_type": "code",
   "execution_count": null,
   "metadata": {},
   "outputs": [],
   "source": [
    "model.wv.most_similar(positive=['father', 'son'],\n",
    "                   negative=['mother'])"
   ]
  },
  {
   "cell_type": "markdown",
   "metadata": {},
   "source": [
    "## Doc2Vec\n",
    "\n",
    "The `doc2vec` algorithm is basically the same as `word2vec` with the addition of a paragraph or document context vector. That is, certain words may be used differently in different types of documents, and this is captured in the  vector representing the paragraph or document.\n",
    "\n",
    "![img](https://cdn-images-1.medium.com/max/1600/0*x-gtU4UlO8FAsRvL.)"
   ]
  },
  {
   "cell_type": "code",
   "execution_count": null,
   "metadata": {},
   "outputs": [],
   "source": [
    "from gensim.models.doc2vec import Doc2Vec, TaggedDocument"
   ]
  },
  {
   "cell_type": "code",
   "execution_count": null,
   "metadata": {},
   "outputs": [],
   "source": [
    "tagged_docs = [TaggedDocument(doc, [i]) for i, doc in enumerate(docs)]"
   ]
  },
  {
   "cell_type": "code",
   "execution_count": null,
   "metadata": {},
   "outputs": [],
   "source": [
    "try:\n",
    "    model = Doc2Vec.load('newsgroup_d2v.model')\n",
    "except:\n",
    "    model = Doc2Vec(tagged_docs,\n",
    "                    vector_size=10, # we use 10 dimensions to represent each doc\n",
    "                    window=5, # size of each context window\n",
    "                    min_count=3, # ignore words with frequency less than this\n",
    "                    workers=4)\n",
    "    model.train(tagged_docs, total_examples=len(tagged_docs), epochs=10)\n",
    "    model.save('newsgroup_d2v.model')"
   ]
  },
  {
   "cell_type": "code",
   "execution_count": null,
   "metadata": {},
   "outputs": [],
   "source": [
    "query = newsgroups_test.data[9]"
   ]
  },
  {
   "cell_type": "code",
   "execution_count": null,
   "metadata": {},
   "outputs": [],
   "source": [
    "query = [token for token in gensim.utils.simple_preprocess(query) \n",
    "         if not token in STOPWORDS]"
   ]
  },
  {
   "cell_type": "code",
   "execution_count": null,
   "metadata": {},
   "outputs": [],
   "source": [
    "vector = model.infer_vector(query)\n",
    "vector"
   ]
  },
  {
   "cell_type": "code",
   "execution_count": null,
   "metadata": {},
   "outputs": [],
   "source": [
    "model.docvecs.most_similar([vector])"
   ]
  },
  {
   "cell_type": "code",
   "execution_count": null,
   "metadata": {
    "scrolled": false
   },
   "outputs": [],
   "source": [
    "print(newsgroups_test.data[9])\n",
    "for i, score in model.docvecs.most_similar([vector], topn=5):\n",
    "    print('-'*80)\n",
    "    print(newsgroups_train.data[i])"
   ]
  },
  {
   "cell_type": "markdown",
   "metadata": {},
   "source": [
    "## Latent Semantic Indexing (LSI)\n",
    "\n",
    "### Concept\n",
    "\n",
    "Latent semantic indexing is basically using SVD to find a low rank approximation to the document/word feature matrix.\n",
    "\n",
    "Recall that with SVD, $A = U \\Sigma V^T$. With LSI, we interpret the matrices as\n",
    "\n",
    "\\begin{array}\n",
    "& A &= & T & \\Sigma & D^T  \\\\\n",
    "(t \\times d) &= & (t \\times n) & (n \\times n) & (n \\times d)\n",
    "\\end{array}\n",
    "\n",
    "where $T$ is a mnemonic for Term and $D$ is a mnemonic for Document.\n",
    "\n",
    "If we use $r$ singular values, we reconstruct the rank-$r$ matrix $A_r$ as \n",
    "\n",
    "\\begin{array}\n",
    "& A_r &= & \\hat{T} & \\hat{\\Sigma} & \\hat{D}^T  \\\\\n",
    "(t \\times d) &= & (t \\times r) & (r \\times r) & (r \\times d)\n",
    "\\end{array}\n",
    "\n",
    "or as the sum of outer products\n",
    "\n",
    "$$\n",
    "A_r = \\sum_{k=1}^{r} \\sigma_r t_r d_r^T\n",
    "$$\n",
    "\n",
    "The $r$ columns $\\hat{T}$ are the basis vectors for the rotated lower-dimensional coordinate system, and we can consider each of the $r$ columns or $\\hat{T}$ as representing a topic. The value of $\\hat{T}_{ij}$ is the weight of the $i^\\text{th}$ term for topic $j$.\n",
    "\n",
    "### Queries\n",
    "\n",
    "Suppose we have a new document $x$ with dimensions $t \\times 1$. We convert it to the $\\hat{T}$ space by a change-of basis transformation\n",
    "\n",
    "$$\n",
    "x^* = \\hat{T}^T x\n",
    "$$\n",
    "\n",
    "which you can check will have dimensions $r \\times 1$.\n",
    "\n",
    "To find what documents are similar to $x$, we look for what original documents are close to $x^*$ in the $\\hat{T}$ space by looking for the columns of $\\hat{\\Sigma} D^T$ (with dimensions $r \\times d$) that are closest to $x*$."
   ]
  },
  {
   "cell_type": "markdown",
   "metadata": {},
   "source": [
    "### Example of LSI"
   ]
  },
  {
   "cell_type": "code",
   "execution_count": null,
   "metadata": {},
   "outputs": [],
   "source": [
    "len(docs)"
   ]
  },
  {
   "cell_type": "code",
   "execution_count": null,
   "metadata": {},
   "outputs": [],
   "source": [
    "dictionary = gensim.corpora.Dictionary(docs)"
   ]
  },
  {
   "cell_type": "code",
   "execution_count": null,
   "metadata": {},
   "outputs": [],
   "source": [
    "corpus = [dictionary.doc2bow(doc) for doc in docs]"
   ]
  },
  {
   "cell_type": "code",
   "execution_count": null,
   "metadata": {},
   "outputs": [],
   "source": [
    "lsi = gensim.models.LsiModel(corpus, num_topics=10, id2word = dictionary)"
   ]
  },
  {
   "cell_type": "code",
   "execution_count": null,
   "metadata": {},
   "outputs": [],
   "source": [
    "for i, topic in  lsi.print_topics(num_words=5):\n",
    "    print(topic)"
   ]
  },
  {
   "cell_type": "code",
   "execution_count": null,
   "metadata": {},
   "outputs": [],
   "source": [
    "for i, t in enumerate(newsgroups_test.target[:20]):\n",
    "    print('%02d %-24s:%s' % (i, newsgroups_test.target_names[t], \n",
    "                        newsgroups_test.data[i].strip().replace('\\n', ' ')[:50]))"
   ]
  },
  {
   "cell_type": "markdown",
   "metadata": {},
   "source": [
    "#### Find topics in document\n",
    "\n",
    "Note that topics are rather hard to interpret. After all they are just words with the largest weights in the low rank approximation."
   ]
  },
  {
   "cell_type": "code",
   "execution_count": null,
   "metadata": {},
   "outputs": [],
   "source": [
    "query = newsgroups_test.data[9]\n",
    "query"
   ]
  },
  {
   "cell_type": "code",
   "execution_count": null,
   "metadata": {},
   "outputs": [],
   "source": [
    "query = gensim.utils.simple_preprocess(query)\n",
    "query[:3]"
   ]
  },
  {
   "cell_type": "code",
   "execution_count": null,
   "metadata": {},
   "outputs": [],
   "source": [
    "query = dictionary.doc2bow(query)"
   ]
  },
  {
   "cell_type": "code",
   "execution_count": null,
   "metadata": {},
   "outputs": [],
   "source": [
    "query = lsi[query]"
   ]
  },
  {
   "cell_type": "code",
   "execution_count": null,
   "metadata": {},
   "outputs": [],
   "source": [
    "sorted(query, key=lambda x: -x[1])[:5]"
   ]
  },
  {
   "cell_type": "code",
   "execution_count": null,
   "metadata": {},
   "outputs": [],
   "source": [
    "topics = [i for i, score in sorted(query, key=lambda x: -x[1])[:5]]"
   ]
  },
  {
   "cell_type": "code",
   "execution_count": null,
   "metadata": {},
   "outputs": [],
   "source": [
    "lsi.print_topic(topics[0])"
   ]
  },
  {
   "cell_type": "code",
   "execution_count": null,
   "metadata": {},
   "outputs": [],
   "source": [
    "pat = re.compile(r'.*?(-)?\\d+.*?\\\"(\\w+)\\\"')"
   ]
  },
  {
   "cell_type": "code",
   "execution_count": null,
   "metadata": {},
   "outputs": [],
   "source": [
    "for topic in topics:\n",
    "    words = [''.join(pair) for pair in pat.findall(lsi.print_topic(topic))]\n",
    "    print(','.join(words))"
   ]
  },
  {
   "cell_type": "markdown",
   "metadata": {},
   "source": [
    "#### Find similar documents"
   ]
  },
  {
   "cell_type": "code",
   "execution_count": null,
   "metadata": {},
   "outputs": [],
   "source": [
    "index = gensim.similarities.MatrixSimilarity(lsi[corpus])"
   ]
  },
  {
   "cell_type": "code",
   "execution_count": null,
   "metadata": {},
   "outputs": [],
   "source": [
    "sims = index[query]"
   ]
  },
  {
   "cell_type": "code",
   "execution_count": null,
   "metadata": {},
   "outputs": [],
   "source": [
    "hits = sorted(enumerate(sims), key=lambda x: -x[1])[:5]\n",
    "hits"
   ]
  },
  {
   "cell_type": "code",
   "execution_count": null,
   "metadata": {
    "scrolled": false
   },
   "outputs": [],
   "source": [
    "print(newsgroups_test.data[9])\n",
    "for match in [newsgroups_train.data[k] for k, score in hits]:\n",
    "    print('-'*80)\n",
    "    print(match)"
   ]
  },
  {
   "cell_type": "markdown",
   "metadata": {},
   "source": [
    "$$\n",
    "\\newcommand{\\norm}[1]{\\left\\lVert#1\\right\\rVert}\n",
    "$$"
   ]
  },
  {
   "cell_type": "markdown",
   "metadata": {},
   "source": [
    "## Non-negative Matrix Factorization\n",
    "\n",
    "The topics generated by LSI can be hard to understand because they include negative weights for words. They may also be hard to understand since they may not map to topics in the way that we would. Remember, a topic is just a low rank approximation that minimizes the Frobenius norm. An alternative factorization is non-negative matrix (NMF) factorization, which does not use negatively valued words in the topic.\n",
    "\n",
    "NMF performs the following decomposition\n",
    "\n",
    "\\begin{array}\n",
    "& A &= & W & H  \\\\\n",
    "(t \\times d) &= & (t \\times n) & (n \\times d)\n",
    "\\end{array}\n",
    "\n",
    "using an iterative procedure to minimize the Frobenius norm $\\norm{A - WH}_F^2$ subject to the constraint that $W, H > 0$. There are several different methods to perform this iterative minimization that do not concern us here.\n",
    "\n",
    "NMF basically finds a different set of basis vectors (not the eigenvectors of the covariance matrix) to project onto. The vectors point in the direction of clusters of word features that appear in common across multiple documents.\n",
    "\n",
    "![nmf_svd](https://qph.fs.quoracdn.net/main-qimg-9b4e31ec4b57f4baf7d08d5df17c6bc0)"
   ]
  },
  {
   "cell_type": "code",
   "execution_count": null,
   "metadata": {},
   "outputs": [],
   "source": [
    "from sklearn.feature_extraction.text import TfidfVectorizer\n",
    "from sklearn.preprocessing import normalize"
   ]
  },
  {
   "cell_type": "code",
   "execution_count": null,
   "metadata": {},
   "outputs": [],
   "source": [
    "import warnings"
   ]
  },
  {
   "cell_type": "code",
   "execution_count": null,
   "metadata": {},
   "outputs": [],
   "source": [
    "warnings.simplefilter('ignore', FutureWarning)"
   ]
  },
  {
   "cell_type": "code",
   "execution_count": null,
   "metadata": {},
   "outputs": [],
   "source": [
    "from sklearn.decomposition import NMF"
   ]
  },
  {
   "cell_type": "code",
   "execution_count": null,
   "metadata": {},
   "outputs": [],
   "source": [
    "vectorizer = TfidfVectorizer()\n",
    "X = vectorizer.fit_transform(newsgroups_train.data)\n",
    "X = normalize(X, norm='l1', axis=1)\n",
    "model = NMF(n_components=10, init='random', random_state=0)\n",
    "W = model.fit_transform(X)"
   ]
  },
  {
   "cell_type": "code",
   "execution_count": null,
   "metadata": {},
   "outputs": [],
   "source": [
    "W.shape"
   ]
  },
  {
   "cell_type": "code",
   "execution_count": null,
   "metadata": {},
   "outputs": [],
   "source": [
    "vocab = vectorizer.get_feature_names()\n",
    "for i, topic in enumerate(model.components_):\n",
    "    print(\"Topic %d:\" % i, end=' ')\n",
    "    print(\" \".join([vocab[i] for i in topic.argsort()[:-10 - 1:-1]]))"
   ]
  },
  {
   "cell_type": "markdown",
   "metadata": {},
   "source": [
    "How would you find documents similar to the query document? "
   ]
  },
  {
   "cell_type": "markdown",
   "metadata": {},
   "source": [
    "## Latent Dirichlet Allocation\n",
    "\n",
    "- [Original paper](http://www.jmlr.org/papers/volume3/blei03a/blei03a.pdf)"
   ]
  },
  {
   "cell_type": "code",
   "execution_count": null,
   "metadata": {},
   "outputs": [],
   "source": [
    "import numpy as np"
   ]
  },
  {
   "cell_type": "markdown",
   "metadata": {},
   "source": [
    "### The Dirichlet distribution\n",
    "\n",
    "A random sample from a Dirichlet distribution is a multinomial distribution, of the same length as the Dirichlet concentration parameter $\\alpha$"
   ]
  },
  {
   "cell_type": "code",
   "execution_count": null,
   "metadata": {},
   "outputs": [],
   "source": [
    "α = np.array([1,2,3])\n",
    "for i in range(5):\n",
    "    print(np.random.dirichlet(α))"
   ]
  },
  {
   "cell_type": "markdown",
   "metadata": {},
   "source": [
    "#### Relationship between $\\alpha$ and samples"
   ]
  },
  {
   "cell_type": "code",
   "execution_count": null,
   "metadata": {},
   "outputs": [],
   "source": [
    "α/α.sum()"
   ]
  },
  {
   "cell_type": "code",
   "execution_count": null,
   "metadata": {},
   "outputs": [],
   "source": [
    "n = int(1e6)\n",
    "np.random.dirichlet(α, n).mean(axis=0)"
   ]
  },
  {
   "cell_type": "markdown",
   "metadata": {},
   "source": [
    "### Concept of LDA"
   ]
  },
  {
   "cell_type": "markdown",
   "metadata": {},
   "source": [
    "LDA is a generative model - that is, it provides a probability distribution from which we can generate documents, each of which is composed of generated words. We sketch the generative process here; the MCMC machinery that is used for implementation is not covered in this course (but will be in STA 663).\n",
    "\n",
    "- There are $M$ documents\n",
    "  - A document consists of the words $w_{1:N}$\n",
    "- There are $K$ topics $\\varphi_{1:K}$ from which we can choose words from a vocabulary of length $V$\n",
    "  - For each topic\n",
    "    - Sample a topic $\\varphi$ from a Dirichlet distribution with parameter $\\beta$\n",
    "    - Each topic $\\varphi$ is a multinomial distribution of size $V$\n",
    "- There are $N$ words in a document\n",
    "  - For each document\n",
    "    - Sample a topic multinomial $\\theta$ of size $K$ from a different Dirichlet distribution with parameter $\\alpha$\n",
    "    - Repeat for each word position in the document\n",
    "      - Sample the integer index $z$ from $\\theta$\n",
    "      - Sample a word $w$ from the topic $\\varphi_z$ \n",
    "      \n",
    "![lda](https://upload.wikimedia.org/wikipedia/commons/4/4d/Smoothed_LDA.png)"
   ]
  },
  {
   "cell_type": "markdown",
   "metadata": {},
   "source": [
    "### Example of LDA"
   ]
  },
  {
   "cell_type": "code",
   "execution_count": null,
   "metadata": {},
   "outputs": [],
   "source": [
    "from gensim.models.ldamodel import LdaModel"
   ]
  },
  {
   "cell_type": "code",
   "execution_count": null,
   "metadata": {},
   "outputs": [],
   "source": [
    "lda = LdaModel(corpus, num_topics=10, id2word = dictionary)"
   ]
  },
  {
   "cell_type": "code",
   "execution_count": null,
   "metadata": {},
   "outputs": [],
   "source": [
    "for i, topic in  lda.print_topics(num_words=5):\n",
    "    print(topic)"
   ]
  },
  {
   "cell_type": "code",
   "execution_count": null,
   "metadata": {},
   "outputs": [],
   "source": [
    "query = newsgroups_test.data[9]\n",
    "query"
   ]
  },
  {
   "cell_type": "code",
   "execution_count": null,
   "metadata": {},
   "outputs": [],
   "source": [
    "query = gensim.utils.simple_preprocess(query)\n",
    "query[:3]"
   ]
  },
  {
   "cell_type": "code",
   "execution_count": null,
   "metadata": {},
   "outputs": [],
   "source": [
    "query = dictionary.doc2bow(query)"
   ]
  },
  {
   "cell_type": "code",
   "execution_count": null,
   "metadata": {},
   "outputs": [],
   "source": [
    "query = lda[query]"
   ]
  },
  {
   "cell_type": "markdown",
   "metadata": {},
   "source": [
    "#### Topics in query document"
   ]
  },
  {
   "cell_type": "code",
   "execution_count": null,
   "metadata": {},
   "outputs": [],
   "source": [
    "sorted(query, key=lambda x: -x[1])[:5]"
   ]
  },
  {
   "cell_type": "code",
   "execution_count": null,
   "metadata": {},
   "outputs": [],
   "source": [
    "index = gensim.similarities.MatrixSimilarity(lda[corpus])"
   ]
  },
  {
   "cell_type": "code",
   "execution_count": null,
   "metadata": {},
   "outputs": [],
   "source": [
    "sims = index[query]"
   ]
  },
  {
   "cell_type": "code",
   "execution_count": null,
   "metadata": {},
   "outputs": [],
   "source": [
    "topics = [i for i, score in sorted(query, key=lambda x: -x[1])[:5]]"
   ]
  },
  {
   "cell_type": "code",
   "execution_count": null,
   "metadata": {},
   "outputs": [],
   "source": [
    "lda.print_topic(topics[0])"
   ]
  },
  {
   "cell_type": "markdown",
   "metadata": {},
   "source": [
    "#### Find similar documents"
   ]
  },
  {
   "cell_type": "code",
   "execution_count": null,
   "metadata": {},
   "outputs": [],
   "source": [
    "hits = sorted(enumerate(sims), key=lambda x: -x[1])[:5]\n",
    "hits"
   ]
  },
  {
   "cell_type": "code",
   "execution_count": null,
   "metadata": {},
   "outputs": [],
   "source": [
    "print(newsgroups_test.data[9])\n",
    "for match in [newsgroups_train.data[k] for k, score in hits]:\n",
    "    print('-'*80)\n",
    "    print(match)"
   ]
  }
 ],
 "metadata": {
  "kernelspec": {
   "display_name": "Python 3",
   "language": "python",
   "name": "python3"
  },
  "language_info": {
   "codemirror_mode": {
    "name": "ipython",
    "version": 3
   },
   "file_extension": ".py",
   "mimetype": "text/x-python",
   "name": "python",
   "nbconvert_exporter": "python",
   "pygments_lexer": "ipython3",
   "version": "3.8.12"
  }
 },
 "nbformat": 4,
 "nbformat_minor": 2
}
