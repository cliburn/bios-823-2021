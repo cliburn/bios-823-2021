{
 "cells": [
  {
   "cell_type": "markdown",
   "metadata": {},
   "source": [
    "#  SQL Queries 01"
   ]
  },
  {
   "cell_type": "markdown",
   "metadata": {},
   "source": [
    "For more SQL examples in the SQLite3 dialect, seee [SQLite3 tutorial](https://www.techonthenet.com/sqlite/index.php). \n",
    "\n",
    "For a deep dive, see [SQL Queries for Mere Mortals](https://www.amazon.com/SQL-Queries-Mere-Mortals-Hands/dp/0134858336/ref=dp_ob_title_bk)."
   ]
  },
  {
   "cell_type": "markdown",
   "metadata": {},
   "source": [
    "## Data"
   ]
  },
  {
   "cell_type": "code",
   "execution_count": null,
   "metadata": {},
   "outputs": [],
   "source": [
    "%load_ext sql"
   ]
  },
  {
   "cell_type": "code",
   "execution_count": null,
   "metadata": {},
   "outputs": [],
   "source": [
    "%sql sqlite:///data/faculty.db"
   ]
  },
  {
   "cell_type": "code",
   "execution_count": null,
   "metadata": {},
   "outputs": [],
   "source": [
    "%%sql\n",
    "\n",
    "SELECT * FROM sqlite_master WHERE type='table';"
   ]
  },
  {
   "cell_type": "markdown",
   "metadata": {},
   "source": [
    "Note: You can save results as a variable"
   ]
  },
  {
   "cell_type": "code",
   "execution_count": null,
   "metadata": {},
   "outputs": [],
   "source": [
    "%%sql master <<\n",
    "\n",
    "SELECT * FROM sqlite_master WHERE type='table'"
   ]
  },
  {
   "cell_type": "code",
   "execution_count": null,
   "metadata": {},
   "outputs": [],
   "source": [
    "master.DataFrame()"
   ]
  },
  {
   "cell_type": "markdown",
   "metadata": {},
   "source": [
    "## Basic Structure"
   ]
  },
  {
   "cell_type": "markdown",
   "metadata": {},
   "source": [
    "```SQL\n",
    "SELECT DISTINCT value_expression AS alias\n",
    "FROM tables AS alias\n",
    "WHERE predicate\n",
    "ORDER BY value_expression\n",
    "```"
   ]
  },
  {
   "cell_type": "markdown",
   "metadata": {},
   "source": [
    "### Types"
   ]
  },
  {
   "cell_type": "markdown",
   "metadata": {},
   "source": [
    "- Character (Fixed width, variable width)\n",
    "- National Character (Fixed width, variable width)\n",
    "- Binary\n",
    "- Numeric (Exact, Arpproximate)\n",
    "- Boolean\n",
    "- DateTime\n",
    "- Interval\n",
    "\n",
    "**CHAR** and **NCHAR** are vendor-dependent. Sometimes they mean the same thing, and sometimes CHAR means bytes and NCHAR means Unicode.\n",
    "\n",
    "The SQL standard specifies that character strings and datetime literals are enclosed by single quotes. Two single quotes wihtin a string is intepreted as a literal single quote.\n",
    "\n",
    "```sql\n",
    "'Gilligan''s island'\n",
    "```"
   ]
  },
  {
   "cell_type": "markdown",
   "metadata": {},
   "source": [
    "#### The CAST function"
   ]
  },
  {
   "cell_type": "markdown",
   "metadata": {},
   "source": [
    "```sql\n",
    "CAST(X as CHARACTER(10))\n",
    "```"
   ]
  },
  {
   "cell_type": "markdown",
   "metadata": {},
   "source": [
    "### Value expression\n",
    "\n",
    "- Literal\n",
    "- Column reference\n",
    "- Function\n",
    "- CASES\n",
    "- (Value expression)\n",
    "\n",
    "which may be prefixed with unary operators `-` and `+` and combined with binary operators appropriate for the data type."
   ]
  },
  {
   "cell_type": "markdown",
   "metadata": {},
   "source": [
    "Literal"
   ]
  },
  {
   "cell_type": "code",
   "execution_count": null,
   "metadata": {},
   "outputs": [],
   "source": [
    "%sql SELECT 23"
   ]
  },
  {
   "cell_type": "markdown",
   "metadata": {},
   "source": [
    "Column reference"
   ]
  },
  {
   "cell_type": "code",
   "execution_count": null,
   "metadata": {},
   "outputs": [],
   "source": [
    "%sql SELECT first, last FROM person LIMIT 3"
   ]
  },
  {
   "cell_type": "markdown",
   "metadata": {},
   "source": [
    "Function"
   ]
  },
  {
   "cell_type": "code",
   "execution_count": null,
   "metadata": {},
   "outputs": [],
   "source": [
    "%sql SELECT count(*) FROM person"
   ]
  },
  {
   "cell_type": "markdown",
   "metadata": {},
   "source": [
    "Cases"
   ]
  },
  {
   "cell_type": "code",
   "execution_count": null,
   "metadata": {},
   "outputs": [],
   "source": [
    "%%sql\n",
    "\n",
    "SELECT first, last, age,\n",
    "CASE\n",
    "    WHEN age < 50 THEN 'Whippernapper'\n",
    "    WHEN age < 70 THEN 'Old codger'\n",
    "    ELSE 'Dinosaur'\n",
    "END comment\n",
    "FROM person\n",
    "LIMIT 4"
   ]
  },
  {
   "cell_type": "markdown",
   "metadata": {},
   "source": [
    "Value expression"
   ]
  },
  {
   "cell_type": "code",
   "execution_count": null,
   "metadata": {},
   "outputs": [],
   "source": [
    "%%sql\n",
    "\n",
    "SELECT first || ' ' || last AS name, age, age - 10 AS fake_age\n",
    "FROM person\n",
    "LIMIT 3"
   ]
  },
  {
   "cell_type": "markdown",
   "metadata": {},
   "source": [
    "### Bineary operators"
   ]
  },
  {
   "cell_type": "markdown",
   "metadata": {},
   "source": [
    "#### Concatenation"
   ]
  },
  {
   "cell_type": "markdown",
   "metadata": {},
   "source": [
    "```SQL\n",
    "A || B\n",
    "```"
   ]
  },
  {
   "cell_type": "markdown",
   "metadata": {},
   "source": [
    "#### Mathematical"
   ]
  },
  {
   "cell_type": "markdown",
   "metadata": {},
   "source": [
    "```SQL\n",
    "A + B\n",
    "A - B\n",
    "A * B\n",
    "A / B\n",
    "```"
   ]
  },
  {
   "cell_type": "markdown",
   "metadata": {},
   "source": [
    "#### Data and time arithmetic"
   ]
  },
  {
   "cell_type": "markdown",
   "metadata": {},
   "source": [
    "```SQL\n",
    "'2018-08-29' + 3\n",
    "'11:59' + '00:01'\n",
    "```"
   ]
  },
  {
   "cell_type": "code",
   "execution_count": null,
   "metadata": {},
   "outputs": [],
   "source": [
    "%%sql\n",
    "\n",
    "SELECT DISTINCT language_name\n",
    "FROM language\n",
    "LIMIT 5;"
   ]
  },
  {
   "cell_type": "markdown",
   "metadata": {},
   "source": [
    "### Sorting"
   ]
  },
  {
   "cell_type": "markdown",
   "metadata": {},
   "source": [
    "```SQL\n",
    "SELECT DISTINCT value_expression AS alias\n",
    "FROM tables AS alias\n",
    "ORDER BY value_expression\n",
    "```"
   ]
  },
  {
   "cell_type": "code",
   "execution_count": null,
   "metadata": {},
   "outputs": [],
   "source": [
    "%%sql\n",
    "\n",
    "SELECT DISTINCT language_name\n",
    "FROM language\n",
    "ORDER BY language_name ASC\n",
    "LIMIT 5;"
   ]
  },
  {
   "cell_type": "code",
   "execution_count": null,
   "metadata": {},
   "outputs": [],
   "source": [
    "%%sql\n",
    "\n",
    "SELECT DISTINCT language_name\n",
    "FROM language\n",
    "ORDER BY random()\n",
    "LIMIT 5;"
   ]
  },
  {
   "cell_type": "markdown",
   "metadata": {},
   "source": [
    "### Filtering\n",
    "\n",
    "For efficiency, place the most stringent filters first."
   ]
  },
  {
   "cell_type": "markdown",
   "metadata": {},
   "source": [
    "```SQL\n",
    "SELECT DISTINCT value_expression AS alias\n",
    "FROM tables AS alias\n",
    "WHERE predicate\n",
    "ORDER BY value_expression\n",
    "```"
   ]
  },
  {
   "cell_type": "markdown",
   "metadata": {},
   "source": [
    "#### Predicates for filtering rows"
   ]
  },
  {
   "cell_type": "markdown",
   "metadata": {},
   "source": [
    "- Comparison operators (=, <>, <, >, <=, >=)\n",
    "- BETWEEN start AND end\n",
    "- IN(A, B, C)\n",
    "- LIKE\n",
    "- IS NULL\n",
    "- REGEX\n",
    "\n",
    "Use NOT prefix for negation"
   ]
  },
  {
   "cell_type": "markdown",
   "metadata": {},
   "source": [
    "#### Combining predicates\n",
    "\n",
    "```sql\n",
    "AND\n",
    "OR\n",
    "```\n",
    "\n",
    "USe parenthesis to indicate order of evaluation for compound statements."
   ]
  },
  {
   "cell_type": "code",
   "execution_count": null,
   "metadata": {},
   "outputs": [],
   "source": [
    "%%sql\n",
    "\n",
    "SELECT first, last, age\n",
    "FROM person\n",
    "WHERE age BETWEEN 16 AND 17\n",
    "LIMIT 5;"
   ]
  },
  {
   "cell_type": "markdown",
   "metadata": {},
   "source": [
    "### Joins\n",
    "\n",
    "Joins combine data from 1 or more tables to form a new result set.\n",
    "\n",
    "Note: To join on multiple columns just use `AND` in the `ON` expression"
   ]
  },
  {
   "cell_type": "markdown",
   "metadata": {},
   "source": [
    "#### Natural join\n",
    "\n",
    "Uses all common columns in Tables 1 and 2 for JOIN\n",
    "\n",
    "```SQL\n",
    "FROM Table1 \n",
    "NATURAL INNER JOIN Table 2\n",
    "```"
   ]
  },
  {
   "cell_type": "markdown",
   "metadata": {},
   "source": [
    "#### Inner join"
   ]
  },
  {
   "cell_type": "markdown",
   "metadata": {},
   "source": [
    "General form of INNER JOIN uisng ON\n",
    "\n",
    "```SQL\n",
    "FROM Table1 \n",
    "INNER JOIN Table2\n",
    "ON Table1.Column = Table2.Column\n",
    "```\n",
    "\n",
    "**Note**: This is equivalent to an EQUIJOIN but more flexible in that additional JOIN conditions can be specified.\n",
    "\n",
    "```SQL\n",
    "SELECT * \n",
    "FROM Table1, Table2\n",
    "WHERE Table1.Column = Table2.Column\n",
    "```"
   ]
  },
  {
   "cell_type": "markdown",
   "metadata": {},
   "source": [
    "If there is a common column in both tables\n",
    "\n",
    "```SQL\n",
    "FROM Table1\n",
    "INNER JOIN Table2\n",
    "USING Column\n",
    "```"
   ]
  },
  {
   "cell_type": "markdown",
   "metadata": {},
   "source": [
    "Joining more than two tables\n",
    "\n",
    "```SQL\n",
    "From (Table1 \n",
    "      INNER JOIN Table2\n",
    "      ON Table1.column1 = Table2.Column1)\n",
    "      INNER JOIN Table3 \n",
    "      ON Table3.column2 = Table2.Column2\n",
    "```"
   ]
  },
  {
   "cell_type": "markdown",
   "metadata": {},
   "source": [
    "#### Outer join"
   ]
  },
  {
   "cell_type": "markdown",
   "metadata": {},
   "source": [
    "General form of OUTER JOIN uisng ON\n",
    "\n",
    "```SQL\n",
    "FROM Table1 \n",
    "RIGHT OUTER JOIN Table2\n",
    "ON Table1.Column = Table2.Column\n",
    "```\n",
    "\n",
    "```SQL\n",
    "FROM Table1 \n",
    "LEFT OUTER JOIN Table2\n",
    "ON Table1.Column = Table2.Column\n",
    "```\n",
    "\n",
    "```SQL\n",
    "FROM Table1 \n",
    "FULL OUTER JOIN Table2\n",
    "ON Table1.Column = Table2.Column\n",
    "```"
   ]
  },
  {
   "cell_type": "code",
   "execution_count": null,
   "metadata": {},
   "outputs": [],
   "source": [
    "%%sql\n",
    "\n",
    "SELECT first, last, language_name \n",
    "FROM person\n",
    "INNER JOIN person_language \n",
    "    ON person.person_id = person_language.person_id\n",
    "INNER JOIN language \n",
    "    ON language.language_id = person_language.language_id\n",
    "LIMIT 10;"
   ]
  },
  {
   "cell_type": "markdown",
   "metadata": {},
   "source": [
    "### Set operations "
   ]
  },
  {
   "cell_type": "markdown",
   "metadata": {},
   "source": [
    "```SQL\n",
    "SELECT a, b \n",
    "FROM table1\n",
    "SetOp\n",
    "SELECT a, b \n",
    "FROM table2\n",
    "```\n",
    "\n",
    "wehre SetOp is `INTERSECT`, `EXCEPT`, `UNION` or `UNION ALL`."
   ]
  },
  {
   "cell_type": "markdown",
   "metadata": {},
   "source": [
    "#### Intersection\n",
    "\n",
    "```sql\n",
    "INTERSECT\n",
    "```\n",
    "\n",
    "Alternative using `INNER JOIN`"
   ]
  },
  {
   "cell_type": "markdown",
   "metadata": {},
   "source": [
    "#### Union"
   ]
  },
  {
   "cell_type": "markdown",
   "metadata": {},
   "source": [
    "```SQL\n",
    "UNION\n",
    "UNION ALL (does not eliminate duplicate rows)\n",
    "```"
   ]
  },
  {
   "cell_type": "markdown",
   "metadata": {},
   "source": [
    "#### Difference"
   ]
  },
  {
   "cell_type": "markdown",
   "metadata": {},
   "source": [
    "```SQL\n",
    "EXCEPT\n",
    "```\n",
    "\n",
    "Alternative using `OUTER JOIN` with test for `NULL`"
   ]
  },
  {
   "cell_type": "code",
   "execution_count": null,
   "metadata": {
    "scrolled": false
   },
   "outputs": [],
   "source": [
    "%%sql\n",
    "\n",
    "DROP VIEW IF EXISTS language_view;\n",
    "CREATE VIEW language_view AS\n",
    "SELECT first, last, language_name \n",
    "FROM person\n",
    "INNER JOIN person_language \n",
    "    ON person.person_id = person_language.person_id\n",
    "INNER JOIN language \n",
    "    ON language.language_id = person_language.language_id\n",
    ";"
   ]
  },
  {
   "cell_type": "code",
   "execution_count": null,
   "metadata": {},
   "outputs": [],
   "source": [
    "%%sql\n",
    "\n",
    "SELECt * \n",
    "FROM language_view \n",
    "LIMIT 10;"
   ]
  },
  {
   "cell_type": "code",
   "execution_count": null,
   "metadata": {},
   "outputs": [],
   "source": [
    "%%sql\n",
    "\n",
    "SELECt * \n",
    "FROM language_view \n",
    "WHERE language_name = 'Python'\n",
    "UNION\n",
    "SELECt * \n",
    "FROM language_view \n",
    "WHERE language_name = 'Haskell'\n",
    "LIMIT 10;"
   ]
  },
  {
   "cell_type": "code",
   "execution_count": null,
   "metadata": {},
   "outputs": [],
   "source": [
    "%%sql\n",
    "\n",
    "SELECt * \n",
    "FROM language_view \n",
    "WHERE language_name IN ('Python', 'Haskell')\n",
    "ORDER BY first\n",
    "LIMIT 10;"
   ]
  },
  {
   "cell_type": "markdown",
   "metadata": {},
   "source": [
    "### Aggregate functions"
   ]
  },
  {
   "cell_type": "markdown",
   "metadata": {},
   "source": [
    "```SQL\n",
    "COUNT\n",
    "MIN\n",
    "MAX\n",
    "AVG\n",
    "SUM\n",
    "```"
   ]
  },
  {
   "cell_type": "code",
   "execution_count": null,
   "metadata": {},
   "outputs": [],
   "source": [
    "%%sql\n",
    "\n",
    "SELECT count(language_name) \n",
    "FROM language_view;"
   ]
  },
  {
   "cell_type": "markdown",
   "metadata": {},
   "source": [
    "### Grouping"
   ]
  },
  {
   "cell_type": "markdown",
   "metadata": {},
   "source": [
    "```SQL\n",
    "SELECT a, MIN(b) AS min_b, MAX(b) AS max_b, AVG(b) AS mean_b\n",
    "FROM table\n",
    "GROUP BY a\n",
    "HAVING mean_b > 5\n",
    "```"
   ]
  },
  {
   "cell_type": "markdown",
   "metadata": {},
   "source": [
    "The `HAVING` is analagous to the `WHERE` clause, but filters on aggregate conditions. Note that the `WHERE` statement filters rows BEFORE the grouping is done."
   ]
  },
  {
   "cell_type": "markdown",
   "metadata": {},
   "source": [
    "Note: Any variable in the SELECT part that is not an aggregte function needs to be in the GROUP BY part.\n",
    "\n",
    "```SQL\n",
    "SELECT a, b, c, COUNT(d)\n",
    "FROM table\n",
    "GROUP BY a, b, c\n",
    "```"
   ]
  },
  {
   "cell_type": "code",
   "execution_count": null,
   "metadata": {},
   "outputs": [],
   "source": [
    "%%sql\n",
    "\n",
    "SELECT language_name, count(*) AS n\n",
    "FROM language_view\n",
    "GROUP BY language_name\n",
    "HAVING n > 45;"
   ]
  },
  {
   "cell_type": "markdown",
   "metadata": {},
   "source": [
    "### The CASE switch"
   ]
  },
  {
   "cell_type": "markdown",
   "metadata": {},
   "source": [
    "#### Simple CASE"
   ]
  },
  {
   "cell_type": "markdown",
   "metadata": {},
   "source": [
    "```SQL\n",
    "SELECT name,\n",
    "(CASE sex \n",
    " WHEN 'M' THEN 1.5*dose\n",
    " WHEN 'F' THEN dose\n",
    " END) as adjusted_dose\n",
    "FROM table\n",
    "```"
   ]
  },
  {
   "cell_type": "markdown",
   "metadata": {},
   "source": [
    "#### Searched CASE"
   ]
  },
  {
   "cell_type": "markdown",
   "metadata": {},
   "source": [
    "```SQL\n",
    "SELECT name,\n",
    "(CASE  \n",
    " WHEN sex = 'M' THEN 1.5*dose\n",
    " WHEN sex = 'F' THEN dose\n",
    " END) as adjusted_dose\n",
    "FROM table\n",
    "```"
   ]
  },
  {
   "cell_type": "code",
   "execution_count": null,
   "metadata": {},
   "outputs": [],
   "source": [
    "%%sql\n",
    "\n",
    "SELECT first, last, language_name,\n",
    "(CASE\n",
    "    WHEN language_name LIKE 'H%' THEN 'Hire'\n",
    "    ELSE 'FIRE'\n",
    "END\n",
    ") AS outcome\n",
    "FROM language_view\n",
    "LIMIT 10;"
   ]
  },
  {
   "cell_type": "markdown",
   "metadata": {},
   "source": [
    "## User defined functions (UDF)"
   ]
  },
  {
   "cell_type": "code",
   "execution_count": null,
   "metadata": {},
   "outputs": [],
   "source": [
    "import sqlite3"
   ]
  },
  {
   "cell_type": "code",
   "execution_count": null,
   "metadata": {},
   "outputs": [],
   "source": [
    "import random\n",
    "import statistics"
   ]
  },
  {
   "cell_type": "code",
   "execution_count": null,
   "metadata": {},
   "outputs": [],
   "source": [
    "con = sqlite3.connect(\":memory:\")"
   ]
  },
  {
   "cell_type": "markdown",
   "metadata": {},
   "source": [
    "#### Row functions"
   ]
  },
  {
   "cell_type": "code",
   "execution_count": null,
   "metadata": {},
   "outputs": [],
   "source": [
    "con.create_function(\"rnorm\", 2, random.normalvariate)"
   ]
  },
  {
   "cell_type": "code",
   "execution_count": null,
   "metadata": {},
   "outputs": [],
   "source": [
    "cr = con.cursor()"
   ]
  },
  {
   "cell_type": "code",
   "execution_count": null,
   "metadata": {},
   "outputs": [],
   "source": [
    "cr.execute('CREATE TABLE foo(num REAL);')"
   ]
  },
  {
   "cell_type": "code",
   "execution_count": null,
   "metadata": {},
   "outputs": [],
   "source": [
    "cr.execute(\"\"\"\n",
    "INSERT INTO foo(num) \n",
    "VALUES\n",
    "(rnorm(0,1)), \n",
    "(rnorm(0,1)), \n",
    "(rnorm(0,1)), \n",
    "(rnorm(0,1)), \n",
    "(rnorm(0,1)),\n",
    "(rnorm(0,1)), \n",
    "(rnorm(0,1)),\n",
    "(rnorm(0,1))\n",
    "\"\"\")"
   ]
  },
  {
   "cell_type": "code",
   "execution_count": null,
   "metadata": {},
   "outputs": [],
   "source": [
    "cr.execute('SELECT * from foo')\n",
    "cr.fetchall()"
   ]
  },
  {
   "cell_type": "markdown",
   "metadata": {},
   "source": [
    "#### Aggregate functions"
   ]
  },
  {
   "cell_type": "code",
   "execution_count": null,
   "metadata": {},
   "outputs": [],
   "source": [
    "class Var:\n",
    "    def __init__(self):\n",
    "        self.acc = []\n",
    "\n",
    "    def step(self, value):\n",
    "        self.acc.append(value)\n",
    "\n",
    "    def finalize(self):\n",
    "        if len(self.acc) < 2:\n",
    "            return 0\n",
    "        else:\n",
    "            return statistics.variance(self.acc)"
   ]
  },
  {
   "cell_type": "code",
   "execution_count": null,
   "metadata": {},
   "outputs": [],
   "source": [
    "con.create_aggregate(\"Var\", 1, Var)"
   ]
  },
  {
   "cell_type": "code",
   "execution_count": null,
   "metadata": {},
   "outputs": [],
   "source": [
    "cr.execute('SELECT Var(num) FROM foo')\n",
    "cr.fetchall()"
   ]
  },
  {
   "cell_type": "code",
   "execution_count": null,
   "metadata": {},
   "outputs": [],
   "source": [
    "con.close()"
   ]
  },
  {
   "cell_type": "code",
   "execution_count": null,
   "metadata": {},
   "outputs": [],
   "source": []
  }
 ],
 "metadata": {
  "kernelspec": {
   "display_name": "Python 3",
   "language": "python",
   "name": "python3"
  },
  "language_info": {
   "codemirror_mode": {
    "name": "ipython",
    "version": 3
   },
   "file_extension": ".py",
   "mimetype": "text/x-python",
   "name": "python",
   "nbconvert_exporter": "python",
   "pygments_lexer": "ipython3",
   "version": "3.8.10"
  }
 },
 "nbformat": 4,
 "nbformat_minor": 2
}
