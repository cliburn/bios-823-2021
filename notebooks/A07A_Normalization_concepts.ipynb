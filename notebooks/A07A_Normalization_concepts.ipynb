{
 "cells": [
  {
   "cell_type": "code",
   "execution_count": null,
   "metadata": {},
   "outputs": [],
   "source": [
    "import pandas as pd"
   ]
  },
  {
   "cell_type": "code",
   "execution_count": null,
   "metadata": {},
   "outputs": [],
   "source": [
    "df = pd.DataFrame(\n",
    "    dict(\n",
    "        student_id = [1,2,2],\n",
    "        first = ['ann', 'barry', 'barry'],\n",
    "        last = ['ang', 'bonds', 'bonds'],\n",
    "        major = [[('stats', 'Statistics'), ('biol', 'Biology')], \n",
    "                 [('stat', 'Statistics'),('math', 'Mathematics')],\n",
    "                 [('stat', 'Statistics'),('math', 'Mathematics')]],\n",
    "        state_abbrev = ['NC', 'QC', 'QC'],\n",
    "        state_name = ['North Carolina', 'Quebec', 'Quebec'],\n",
    "        country = ['USA', 'Canada', 'Canada'],\n",
    "        course_id = ['BIOS101', 'BIOS101', 'BIOS102'],\n",
    "        course_name = [\"Frogs in medicine\", \n",
    "                       \"Frogs in medicine\", \n",
    "                       \"Medicine for frogs\"]\n",
    "    )\n",
    ")\n",
    "\n",
    "df"
   ]
  },
  {
   "cell_type": "markdown",
   "metadata": {},
   "source": [
    "## Normalization\n",
    "\n",
    "- Every table should not have any \n",
    "    - duplication\n",
    "    - dependencies that are not key or domain constraints"
   ]
  },
  {
   "cell_type": "markdown",
   "metadata": {},
   "source": [
    "### 1NF\n",
    "\n",
    "- Split composite entries"
   ]
  },
  {
   "cell_type": "code",
   "execution_count": null,
   "metadata": {},
   "outputs": [],
   "source": [
    "df1 = df.explode('major')\n",
    "df1"
   ]
  },
  {
   "cell_type": "code",
   "execution_count": null,
   "metadata": {},
   "outputs": [],
   "source": [
    "new_cols = ['major_id', 'major_name']\n",
    "for i, c in enumerate(new_cols):\n",
    "    df1[c] = df1.major.apply(lambda x: x[i])\n",
    "df1 = df1.drop('major', axis=1)\n",
    "df1"
   ]
  },
  {
   "cell_type": "markdown",
   "metadata": {},
   "source": [
    "### 2NF\n",
    "\n",
    "- Break partial dependencies\n",
    "    - Identify candidate PK for each row\n",
    "    - If there is a composite PK, see if other columns have partial dependencies"
   ]
  },
  {
   "cell_type": "code",
   "execution_count": null,
   "metadata": {},
   "outputs": [],
   "source": [
    "df_student = df1.iloc[:, [0,1,2,3,4,5]].drop_duplicates()\n",
    "df_student"
   ]
  },
  {
   "cell_type": "code",
   "execution_count": null,
   "metadata": {},
   "outputs": [],
   "source": [
    "df_course = df1.iloc[:,6:8].drop_duplicates()\n",
    "df_course"
   ]
  },
  {
   "cell_type": "code",
   "execution_count": null,
   "metadata": {},
   "outputs": [],
   "source": [
    "df_major = df1.iloc[:,8:10].drop_duplicates()\n",
    "df_major"
   ]
  },
  {
   "cell_type": "code",
   "execution_count": null,
   "metadata": {},
   "outputs": [],
   "source": [
    "df_student_course = df1.iloc[:, [0, 6]].drop_duplicates()\n",
    "df_student_course"
   ]
  },
  {
   "cell_type": "code",
   "execution_count": null,
   "metadata": {},
   "outputs": [],
   "source": [
    "df_student_major = df1.iloc[:, [0, 8]].drop_duplicates()\n",
    "df_student_major"
   ]
  },
  {
   "cell_type": "markdown",
   "metadata": {},
   "source": [
    "### 3NF\n",
    "\n",
    "- Remove transitive dependencies"
   ]
  },
  {
   "cell_type": "code",
   "execution_count": null,
   "metadata": {},
   "outputs": [],
   "source": [
    "df_student_ = df_student.iloc[:, :5].drop_duplicates()\n",
    "df_student_"
   ]
  },
  {
   "cell_type": "code",
   "execution_count": null,
   "metadata": {},
   "outputs": [],
   "source": [
    "df_origin = df_student.iloc[:, 4:7].drop_duplicates()\n",
    "df_origin"
   ]
  },
  {
   "cell_type": "markdown",
   "metadata": {},
   "source": [
    "## Final tables"
   ]
  },
  {
   "cell_type": "code",
   "execution_count": null,
   "metadata": {},
   "outputs": [],
   "source": [
    "df_student_"
   ]
  },
  {
   "cell_type": "code",
   "execution_count": null,
   "metadata": {},
   "outputs": [],
   "source": [
    "df_origin"
   ]
  },
  {
   "cell_type": "code",
   "execution_count": null,
   "metadata": {},
   "outputs": [],
   "source": [
    "df_course"
   ]
  },
  {
   "cell_type": "code",
   "execution_count": null,
   "metadata": {},
   "outputs": [],
   "source": [
    "df_student_course"
   ]
  },
  {
   "cell_type": "code",
   "execution_count": null,
   "metadata": {},
   "outputs": [],
   "source": [
    "df_major"
   ]
  },
  {
   "cell_type": "code",
   "execution_count": null,
   "metadata": {},
   "outputs": [],
   "source": [
    "df_student_major"
   ]
  },
  {
   "cell_type": "markdown",
   "metadata": {},
   "source": [
    "## Denormalization"
   ]
  },
  {
   "cell_type": "code",
   "execution_count": null,
   "metadata": {},
   "outputs": [],
   "source": [
    "df_student_.merge(df_origin)"
   ]
  },
  {
   "cell_type": "code",
   "execution_count": null,
   "metadata": {},
   "outputs": [],
   "source": [
    "(\n",
    "    df_student_.\n",
    "    merge(df_origin).\n",
    "    merge(df_student_course).\n",
    "    merge(df_course).\n",
    "    merge(df_student_major).\n",
    "    merge(df_major)\n",
    ")\n"
   ]
  },
  {
   "cell_type": "code",
   "execution_count": null,
   "metadata": {},
   "outputs": [],
   "source": []
  }
 ],
 "metadata": {
  "kernelspec": {
   "display_name": "Python 3",
   "language": "python",
   "name": "python3"
  },
  "language_info": {
   "codemirror_mode": {
    "name": "ipython",
    "version": 3
   },
   "file_extension": ".py",
   "mimetype": "text/x-python",
   "name": "python",
   "nbconvert_exporter": "python",
   "pygments_lexer": "ipython3",
   "version": "3.8.5"
  }
 },
 "nbformat": 4,
 "nbformat_minor": 4
}
