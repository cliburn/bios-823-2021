{
 "cells": [
  {
   "cell_type": "markdown",
   "metadata": {},
   "source": [
    "**1**. Play 5 rounds of [regex golf](https://alf.nu/RegexGolf)! The 5 rounds are\n",
    "\n",
    "- Warmup\n",
    "- Anchors\n",
    "- It never ends\n",
    "- Ranges\n",
    "- Backrefs\n",
    "\n",
    "Write the list of regular expressions used below. There may be several possible solutions - you only need one."
   ]
  },
  {
   "cell_type": "code",
   "execution_count": null,
   "metadata": {},
   "outputs": [],
   "source": []
  },
  {
   "cell_type": "markdown",
   "metadata": {},
   "source": [
    "**2**. Simulate 1000 flips of a fair coin, using 'H' for heads and 'T' for tails, and store the results as a string. Count the number of times at least 5 heads occur consecutively.\n",
    "\n",
    "- Do this using a regex\n",
    "- Do this without using a regex"
   ]
  },
  {
   "cell_type": "code",
   "execution_count": null,
   "metadata": {},
   "outputs": [],
   "source": []
  },
  {
   "cell_type": "markdown",
   "metadata": {},
   "source": [
    "**3**. Generate a random 3 $\\times$ 4 matrix with entries from the digits 0-9. \n",
    "\n",
    "- Scale it so that all columns have mean zero and standard deviation 1\n",
    "- Scale it so that all rows have minimum 0 and maximum 1"
   ]
  },
  {
   "cell_type": "code",
   "execution_count": null,
   "metadata": {},
   "outputs": [],
   "source": []
  },
  {
   "cell_type": "markdown",
   "metadata": {},
   "source": [
    "**4**. Create this matrix using `np.fromfunction` \n",
    "\n",
    "```\n",
    "array([[18, 13, 10,  9, 10, 13, 18],\n",
    "       [13,  8,  5,  4,  5,  8, 13],\n",
    "       [10,  5,  2,  1,  2,  5, 10],\n",
    "       [ 9,  4,  1,  0,  1,  4,  9],\n",
    "       [10,  5,  2,  1,  2,  5, 10],\n",
    "       [13,  8,  5,  4,  5,  8, 13],\n",
    "       [18, 13, 10,  9, 10, 13, 18]])\n",
    "```"
   ]
  },
  {
   "cell_type": "code",
   "execution_count": null,
   "metadata": {},
   "outputs": [],
   "source": []
  },
  {
   "cell_type": "markdown",
   "metadata": {},
   "source": [
    "**5**. Write a function `make_df` that returns something like the output shown below when called with `make_df(12)`. Here the outcome is random with equal probability.\n",
    "\n",
    "<img src=\"df.png\" alt=\"Table\" style=\"width: 200px;\"/>"
   ]
  },
  {
   "cell_type": "code",
   "execution_count": null,
   "metadata": {},
   "outputs": [],
   "source": []
  }
 ],
 "metadata": {
  "kernelspec": {
   "display_name": "Python 3.8.5 64-bit",
   "language": "python",
   "name": "python38564bit02a66c47ce504b05b2ef5646cfed96c2"
  },
  "language_info": {
   "codemirror_mode": {
    "name": "ipython",
    "version": 3
   },
   "file_extension": ".py",
   "mimetype": "text/x-python",
   "name": "python",
   "nbconvert_exporter": "python",
   "pygments_lexer": "ipython3",
   "version": "3.9.5"
  }
 },
 "nbformat": 4,
 "nbformat_minor": 4
}
