{
 "cells": [
  {
   "cell_type": "markdown",
   "id": "12eb6fd2",
   "metadata": {},
   "source": [
    "**1**. Write a recursive version of a function that returns the product of a list of numbers. "
   ]
  },
  {
   "cell_type": "code",
   "execution_count": 37,
   "id": "88b70eb8",
   "metadata": {},
   "outputs": [],
   "source": [
    "\n",
    "\n",
    "\n"
   ]
  },
  {
   "cell_type": "markdown",
   "id": "ce769a1e",
   "metadata": {},
   "source": [
    "**2**. Write a recursive version of the Collatz funxtion\n",
    "```\n",
    "x → x / 2 if x is even\n",
    "x → 3x +1 if x is odd\n",
    "Stop when x=1\n",
    "```\n",
    "\n",
    "For example, `collatz(3)` returns `[3, 10, 5, 16, 8, 4, 2, 1]`"
   ]
  },
  {
   "cell_type": "code",
   "execution_count": 23,
   "id": "d31748e2",
   "metadata": {},
   "outputs": [],
   "source": [
    "\n",
    "\n",
    "\n"
   ]
  },
  {
   "cell_type": "markdown",
   "id": "c1998af3",
   "metadata": {},
   "source": [
    "**3**. Using only map, filter, reduce and lambda functions, find the sum of squares for odd numbers from `range(1, 100)`."
   ]
  },
  {
   "cell_type": "code",
   "execution_count": 10,
   "id": "9d02c242",
   "metadata": {},
   "outputs": [],
   "source": [
    "\n",
    "\n",
    "\n"
   ]
  },
  {
   "cell_type": "markdown",
   "id": "e8b741e5",
   "metadata": {},
   "source": [
    "**4**. Write a decorator `stringify` that coverts the solution of a function to a string."
   ]
  },
  {
   "cell_type": "code",
   "execution_count": 42,
   "id": "e0f7d0c7",
   "metadata": {},
   "outputs": [],
   "source": [
    "\n",
    "\n",
    "\n"
   ]
  },
  {
   "cell_type": "markdown",
   "id": "583b02d2",
   "metadata": {},
   "source": [
    "**5**. Now write the decorator `stringify2` to have `prefix` and `suffix` arguments that are added to the returned string."
   ]
  },
  {
   "cell_type": "code",
   "execution_count": 45,
   "id": "a9fa0f97",
   "metadata": {},
   "outputs": [],
   "source": [
    "\n",
    "\n",
    "\n"
   ]
  }
 ],
 "metadata": {
  "kernelspec": {
   "display_name": "frontiers-env",
   "language": "python",
   "name": "frontiers-env"
  },
  "language_info": {
   "codemirror_mode": {
    "name": "ipython",
    "version": 3
   },
   "file_extension": ".py",
   "mimetype": "text/x-python",
   "name": "python",
   "nbconvert_exporter": "python",
   "pygments_lexer": "ipython3",
   "version": "3.9.7"
  }
 },
 "nbformat": 4,
 "nbformat_minor": 5
}
