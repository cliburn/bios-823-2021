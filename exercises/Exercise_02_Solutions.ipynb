{
 "cells": [
  {
   "cell_type": "markdown",
   "metadata": {},
   "source": [
    "**1**. Play 5 rounds of [regex golf](https://alf.nu/RegexGolf)! The 5 rounds are\n",
    "\n",
    "- Warmup\n",
    "- Anchors\n",
    "- It never ends\n",
    "- Ranges\n",
    "- Backrefs\n",
    "\n",
    "Write the list of regular expressions used below. There may be several possible solutions - you only need one."
   ]
  },
  {
   "cell_type": "markdown",
   "metadata": {},
   "source": [
    "- Warmup `foo`\n",
    "- Anchors `k$`\n",
    "- It never ends `fu\\b`\n",
    "- Ranges `^[a-f][a-f]+[a-f]$`\n",
    "- Backrefs `(.{3}).*\\1`"
   ]
  },
  {
   "cell_type": "markdown",
   "metadata": {},
   "source": [
    "**2**. Simulate 1000 flips of a fair coin, using 'H' for heads and 'T' for tails, and store the results as a string. Count the number of times at least 5 heads occur consecutively.\n",
    "\n",
    "- Do this using a regex\n",
    "- Do this without using a regex"
   ]
  },
  {
   "cell_type": "code",
   "execution_count": null,
   "metadata": {},
   "outputs": [],
   "source": [
    "import numpy as np\n",
    "np.seed = 123\n",
    "\n",
    "n = 1000\n",
    "tosses = ''.join(np.random.choice(list('HT'), n))\n",
    "tosses"
   ]
  },
  {
   "cell_type": "code",
   "execution_count": null,
   "metadata": {},
   "outputs": [],
   "source": [
    "import re"
   ]
  },
  {
   "cell_type": "code",
   "execution_count": null,
   "metadata": {},
   "outputs": [],
   "source": [
    "len(re.findall('H{5,}', tosses))"
   ]
  },
  {
   "cell_type": "code",
   "execution_count": null,
   "metadata": {},
   "outputs": [],
   "source": [
    "def count_runs(ss, target, size):\n",
    "    \"\"\"Count runs of `target` in `ss` of length `size` or greater.\"\"\"\n",
    "    \n",
    "    runs = 0\n",
    "    n = 0\n",
    "    for s in ss:\n",
    "        if s == target:\n",
    "            n += 1\n",
    "        else:\n",
    "            if n >= size:\n",
    "                runs +=1\n",
    "            n = 0\n",
    "    return runs"
   ]
  },
  {
   "cell_type": "code",
   "execution_count": null,
   "metadata": {},
   "outputs": [],
   "source": [
    "count_runs(tosses, 'H', 5)"
   ]
  },
  {
   "cell_type": "markdown",
   "metadata": {},
   "source": [
    "**3**. Generate a random 3 $\\times$ 4 matrix with entries from the digits 0-9. \n",
    "\n",
    "- Scale it so that all columns have mean zero and standard deviation 1\n",
    "- Scale it so that all rows have minimum 0 and maximum 1"
   ]
  },
  {
   "cell_type": "code",
   "execution_count": null,
   "metadata": {},
   "outputs": [],
   "source": [
    "A = np.random.randint(0,10,(3,4))\n",
    "A"
   ]
  },
  {
   "cell_type": "code",
   "execution_count": null,
   "metadata": {},
   "outputs": [],
   "source": [
    "A1 = (A - A.mean(axis=0))/(A.std(axis=0))\n",
    "A1"
   ]
  },
  {
   "cell_type": "code",
   "execution_count": null,
   "metadata": {},
   "outputs": [],
   "source": [
    "row_max = A.max(1)\n",
    "row_min = A.min(1)\n",
    "A2 = (A - row_min[:, np.newaxis])/(row_max - row_min)[:, np.newaxis]"
   ]
  },
  {
   "cell_type": "code",
   "execution_count": null,
   "metadata": {},
   "outputs": [],
   "source": [
    "A2"
   ]
  },
  {
   "cell_type": "markdown",
   "metadata": {},
   "source": [
    "**4**. Create this matrix using `np.fromfunction` \n",
    "\n",
    "```\n",
    "array([[18, 13, 10,  9, 10, 13, 18],\n",
    "       [13,  8,  5,  4,  5,  8, 13],\n",
    "       [10,  5,  2,  1,  2,  5, 10],\n",
    "       [ 9,  4,  1,  0,  1,  4,  9],\n",
    "       [10,  5,  2,  1,  2,  5, 10],\n",
    "       [13,  8,  5,  4,  5,  8, 13],\n",
    "       [18, 13, 10,  9, 10, 13, 18]])\n",
    "```"
   ]
  },
  {
   "cell_type": "code",
   "execution_count": null,
   "metadata": {},
   "outputs": [],
   "source": [
    "np.fromfunction(lambda i, j: (i-3)**2+(j-3)**2, (7,7), dtype='int')"
   ]
  },
  {
   "cell_type": "markdown",
   "metadata": {},
   "source": [
    "**5**. Write a function `make_df` that returns something like the output shown below when called with `make_df(12)`. Here the outcome is random with equal probability.\n",
    "\n",
    "<img src=\"df.png\" alt=\"Table\" style=\"width: 200px;\"/>"
   ]
  },
  {
   "cell_type": "code",
   "execution_count": null,
   "metadata": {},
   "outputs": [],
   "source": [
    "def make_df(n):\n",
    "    \"\"\"Make a DataFrame\"\"\"\n",
    "    \n",
    "    import itertools as it\n",
    "    import pandas as pd\n",
    "    \n",
    "    pids = [f'S{i:04d}' for i in range(n)]\n",
    "    group = it.islice(it.cycle('ABC'), n)\n",
    "    outcome = np.random.choice(['survived', 'died'], n)\n",
    "    \n",
    "    return pd.DataFrame(dict(pids=pids, group=group, outcome=outcome))"
   ]
  },
  {
   "cell_type": "code",
   "execution_count": null,
   "metadata": {},
   "outputs": [],
   "source": [
    "df = make_df(12)"
   ]
  },
  {
   "cell_type": "code",
   "execution_count": null,
   "metadata": {},
   "outputs": [],
   "source": [
    "df"
   ]
  },
  {
   "cell_type": "code",
   "execution_count": null,
   "metadata": {},
   "outputs": [],
   "source": []
  }
 ],
 "metadata": {
  "kernelspec": {
   "display_name": "Python 3.8.5 64-bit",
   "language": "python",
   "name": "python38564bit02a66c47ce504b05b2ef5646cfed96c2"
  },
  "language_info": {
   "codemirror_mode": {
    "name": "ipython",
    "version": 3
   },
   "file_extension": ".py",
   "mimetype": "text/x-python",
   "name": "python",
   "nbconvert_exporter": "python",
   "pygments_lexer": "ipython3",
   "version": "3.9.5"
  }
 },
 "nbformat": 4,
 "nbformat_minor": 4
}
