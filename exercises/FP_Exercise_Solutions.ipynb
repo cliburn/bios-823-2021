{
 "cells": [
  {
   "cell_type": "markdown",
   "id": "2d5c662a",
   "metadata": {},
   "source": [
    "**1**. Write a recursive version of a function that returns the product of a list of numbers. "
   ]
  },
  {
   "cell_type": "code",
   "execution_count": 37,
   "id": "5c025009",
   "metadata": {},
   "outputs": [],
   "source": [
    "def prod_rec(xs, s=1):\n",
    "    print(xs, s)\n",
    "    if xs == []:\n",
    "        return 0\n",
    "    elif len(xs) == 1:\n",
    "        return s*xs[0]\n",
    "    else:\n",
    "        head, tail = xs[0], xs[1:]\n",
    "        s *= head\n",
    "        return prod_rec(tail, s)"
   ]
  },
  {
   "cell_type": "code",
   "execution_count": 39,
   "id": "1dc156a4",
   "metadata": {},
   "outputs": [
    {
     "name": "stdout",
     "output_type": "stream",
     "text": [
      "[2, 3, 4] 1\n",
      "[3, 4] 2\n",
      "[4] 6\n"
     ]
    },
    {
     "data": {
      "text/plain": [
       "24"
      ]
     },
     "execution_count": 39,
     "metadata": {},
     "output_type": "execute_result"
    }
   ],
   "source": [
    "prod_rec([2,3,4])"
   ]
  },
  {
   "cell_type": "markdown",
   "id": "4b5a8102",
   "metadata": {},
   "source": [
    "**2**. Write a recursive version of the Collatz funxtion\n",
    "```\n",
    "x → x / 2 if x is even\n",
    "x → 3x +1 if x is odd\n",
    "Stop when x=1\n",
    "```\n",
    "\n",
    "For example, `collatz(3)` returns `[3, 10, 5, 16, 8, 4, 2, 1]`"
   ]
  },
  {
   "cell_type": "code",
   "execution_count": 23,
   "id": "73a92a7b",
   "metadata": {},
   "outputs": [],
   "source": [
    "def collatz(n, acc=[]):\n",
    "    if n == 1:\n",
    "        acc.append(1)\n",
    "        return acc\n",
    "    else:\n",
    "        acc.append(n)\n",
    "        if n % 2 == 0:\n",
    "            return collatz(n // 2)\n",
    "        else:\n",
    "            return collatz(3*n + 1)"
   ]
  },
  {
   "cell_type": "code",
   "execution_count": 24,
   "id": "8bf949aa",
   "metadata": {},
   "outputs": [
    {
     "data": {
      "text/plain": [
       "[3, 10, 5, 16, 8, 4, 2, 1]"
      ]
     },
     "execution_count": 24,
     "metadata": {},
     "output_type": "execute_result"
    }
   ],
   "source": [
    "collatz(3)"
   ]
  },
  {
   "cell_type": "markdown",
   "id": "cefffbc3",
   "metadata": {},
   "source": [
    "**3**. Using only map, filter, reduce and lambda functions, find the sum of squares for odd numbers from `range(1, 100)`."
   ]
  },
  {
   "cell_type": "code",
   "execution_count": 10,
   "id": "e807d117",
   "metadata": {},
   "outputs": [],
   "source": [
    "from functools import reduce"
   ]
  },
  {
   "cell_type": "code",
   "execution_count": 13,
   "id": "5d886b76",
   "metadata": {},
   "outputs": [
    {
     "data": {
      "text/plain": [
       "166650"
      ]
     },
     "execution_count": 13,
     "metadata": {},
     "output_type": "execute_result"
    }
   ],
   "source": [
    "reduce(lambda x, y: x+y,        \n",
    "       map(lambda x: x*x, \n",
    "           filter(lambda x: x % 2, range(1, 100))))"
   ]
  },
  {
   "cell_type": "markdown",
   "id": "3f3b858a",
   "metadata": {},
   "source": [
    "**4**. Write a decorator `stringify` that coverts the solution of a function to a string."
   ]
  },
  {
   "cell_type": "code",
   "execution_count": 42,
   "id": "0940a0a3",
   "metadata": {},
   "outputs": [],
   "source": [
    "def stringify(f):\n",
    "    def g(*args, **kwargs):\n",
    "        return str(f(*args, **kwargs))\n",
    "    return g"
   ]
  },
  {
   "cell_type": "code",
   "execution_count": 43,
   "id": "bfd6dd11",
   "metadata": {},
   "outputs": [],
   "source": [
    "@stringify\n",
    "def add(a, b):\n",
    "    return a + b"
   ]
  },
  {
   "cell_type": "code",
   "execution_count": 44,
   "id": "c48f0c7b",
   "metadata": {},
   "outputs": [
    {
     "data": {
      "text/plain": [
       "'7'"
      ]
     },
     "execution_count": 44,
     "metadata": {},
     "output_type": "execute_result"
    }
   ],
   "source": [
    "add(3, 4)"
   ]
  },
  {
   "cell_type": "markdown",
   "id": "28cd2621",
   "metadata": {},
   "source": [
    "**5**. Now write the decorator `stringify2` to have `prefix` and `suffix` arguments that are added to the returned string."
   ]
  },
  {
   "cell_type": "code",
   "execution_count": 45,
   "id": "c29021d7",
   "metadata": {},
   "outputs": [],
   "source": [
    "def stringify2(prefix='', suffix=''):\n",
    "    def dec(f):\n",
    "        def g(*args, **kwargs):\n",
    "            return prefix + str(f(*args, **kwargs)) + suffix\n",
    "        return g\n",
    "    return dec "
   ]
  },
  {
   "cell_type": "code",
   "execution_count": 46,
   "id": "350199d2",
   "metadata": {},
   "outputs": [],
   "source": [
    "@stringify2(prefix='foo', suffix='bar')\n",
    "def add(a, b):\n",
    "    return a + b"
   ]
  },
  {
   "cell_type": "code",
   "execution_count": 47,
   "id": "87d8efd9",
   "metadata": {},
   "outputs": [
    {
     "data": {
      "text/plain": [
       "'foo7bar'"
      ]
     },
     "execution_count": 47,
     "metadata": {},
     "output_type": "execute_result"
    }
   ],
   "source": [
    "add(3, 4)"
   ]
  },
  {
   "cell_type": "code",
   "execution_count": null,
   "id": "8469c1ed",
   "metadata": {},
   "outputs": [],
   "source": []
  }
 ],
 "metadata": {
  "kernelspec": {
   "display_name": "frontiers-env",
   "language": "python",
   "name": "frontiers-env"
  },
  "language_info": {
   "codemirror_mode": {
    "name": "ipython",
    "version": 3
   },
   "file_extension": ".py",
   "mimetype": "text/x-python",
   "name": "python",
   "nbconvert_exporter": "python",
   "pygments_lexer": "ipython3",
   "version": "3.9.7"
  }
 },
 "nbformat": 4,
 "nbformat_minor": 5
}
