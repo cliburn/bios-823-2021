{
 "cells": [
  {
   "cell_type": "markdown",
   "metadata": {},
   "source": [
    "# Basic Python and `numpy` skills\n",
    "\n",
    "The course assumes you know Python and basic statistics. If you can do this mini-exercise, you should be fine."
   ]
  },
  {
   "cell_type": "markdown",
   "metadata": {},
   "source": [
    "**1**. Make a list of consisting of the square of the numbers between 1 and 100 (inclusive) that are not divisible by 3 or 5\n",
    "\n",
    "- Use a for loop\n",
    "- Use map and filter\n",
    "- using `numpy` arrays and vectorized operations"
   ]
  },
  {
   "cell_type": "code",
   "execution_count": null,
   "metadata": {},
   "outputs": [],
   "source": []
  },
  {
   "cell_type": "markdown",
   "metadata": {},
   "source": [
    "**2**. Create a dictionary where the keys are the 26 lowercase letters and the values are the numbers 1 to 26. Now create another dictionary with the keys and values flipped.\n",
    "\n",
    "- Using dictionary comprehensions\n",
    "- Not using dictionary comprehensions"
   ]
  },
  {
   "cell_type": "code",
   "execution_count": null,
   "metadata": {},
   "outputs": [],
   "source": []
  },
  {
   "cell_type": "markdown",
   "metadata": {},
   "source": [
    "**3**. A Pythagorean triplet is a tuple of numbers $(a, b, c)$ such that $a^2 + b^2 = c^2$. Find all unique Pythagorean triplets where $a$ and $b$ are each less than 20."
   ]
  },
  {
   "cell_type": "code",
   "execution_count": null,
   "metadata": {},
   "outputs": [],
   "source": []
  },
  {
   "cell_type": "markdown",
   "metadata": {},
   "source": [
    "**4**. Generate two lists of 1,000,000 random integers between 1 and 1,000,000. Find the numbers which are in *both* lists."
   ]
  },
  {
   "cell_type": "code",
   "execution_count": null,
   "metadata": {},
   "outputs": [],
   "source": []
  },
  {
   "cell_type": "code",
   "execution_count": 1,
   "metadata": {},
   "outputs": [
    {
     "name": "stdout",
     "output_type": "stream",
     "text": [
      "Writing foo.txt\n"
     ]
    }
   ],
   "source": [
    "%%file foo.txt\n",
    "1;2;3 # semi-colon\n",
    "4:5:6 # colon\n",
    "7 8 9 # space "
   ]
  },
  {
   "cell_type": "markdown",
   "metadata": {},
   "source": [
    "**5**. Read the contents of the file `foo.txt` and use it to populat a 3 $\\times$ 3 `numpy` array. Write the `numpy` array back to a file `bar.txt` using tabs as column separators and newlines as row separators."
   ]
  },
  {
   "cell_type": "code",
   "execution_count": null,
   "metadata": {},
   "outputs": [],
   "source": []
  },
  {
   "cell_type": "markdown",
   "metadata": {},
   "source": [
    "**6**. Write a function that returns the number of ones in the binary represenation of a positive integer."
   ]
  },
  {
   "cell_type": "code",
   "execution_count": null,
   "metadata": {},
   "outputs": [],
   "source": []
  },
  {
   "cell_type": "markdown",
   "metadata": {},
   "source": [
    "**7**. Create the following matrix using `numpy` operations and as little typing as possible\n",
    "\n",
    "```\n",
    "array([[1, 1, 0, 0, 0],\n",
    "       [2, 2, 2, 0, 0],\n",
    "       [0, 3, 3, 3, 0],\n",
    "       [0, 0, 4, 4, 4],\n",
    "       [0, 0, 0, 5, 5]])\n",
    "```"
   ]
  },
  {
   "cell_type": "code",
   "execution_count": null,
   "metadata": {},
   "outputs": [],
   "source": []
  },
  {
   "cell_type": "markdown",
   "metadata": {},
   "source": [
    "**8**. You are given\n",
    "\n",
    "```\n",
    "x = np.array([ 1,  2,  3,  4,  5,  6,  7,  8,  9, 10])\n",
    "y = np.array([  1.32906108,  14.93973105,  35.41812006,  59.36017234,\n",
    "        91.82978278, 125.74882299, 171.15867425, 219.0626794 ,\n",
    "       273.14683574, 335.58388112])\n",
    "```\n",
    "\n",
    "Find the best least-squares quadratic fit to these data points by solving the normal equations\n",
    "$$\n",
    "\\beta = (X^T X)^{-1}X^T y\n",
    "$$\n",
    "\n",
    "Plot the data and fitted curve."
   ]
  },
  {
   "cell_type": "code",
   "execution_count": null,
   "metadata": {},
   "outputs": [],
   "source": []
  }
 ],
 "metadata": {
  "kernelspec": {
   "display_name": "Python 3.8.5 64-bit",
   "language": "python",
   "name": "python38564bit02a66c47ce504b05b2ef5646cfed96c2"
  },
  "language_info": {
   "codemirror_mode": {
    "name": "ipython",
    "version": 3
   },
   "file_extension": ".py",
   "mimetype": "text/x-python",
   "name": "python",
   "nbconvert_exporter": "python",
   "pygments_lexer": "ipython3",
   "version": "3.9.5"
  }
 },
 "nbformat": 4,
 "nbformat_minor": 4
}
