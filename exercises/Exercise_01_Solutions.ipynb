{
 "cells": [
  {
   "cell_type": "markdown",
   "metadata": {},
   "source": [
    "**1**. Make a list of consisting of the square of the numbers between 1 and 100 (inclusive) that are not divisible by 3 or 5\n",
    "\n",
    "- Use a for loop\n",
    "- Use map and filter\n",
    "- using `numpy` arrays and vectorized operations"
   ]
  },
  {
   "cell_type": "code",
   "execution_count": 1,
   "metadata": {},
   "outputs": [
    {
     "data": {
      "text/plain": [
       "[1, 4, 16, 49, 64, 121, 169, 196, 256, 289]"
      ]
     },
     "execution_count": 1,
     "metadata": {},
     "output_type": "execute_result"
    }
   ],
   "source": [
    "xs = []\n",
    "for i in range(1, 101):\n",
    "    if (i % 3) and (i % 5):\n",
    "        xs.append(i**2)\n",
    "xs[:10]"
   ]
  },
  {
   "cell_type": "code",
   "execution_count": 2,
   "metadata": {},
   "outputs": [
    {
     "data": {
      "text/plain": [
       "[1, 4, 16, 49, 64, 121, 169, 196, 256, 289]"
      ]
     },
     "execution_count": 2,
     "metadata": {},
     "output_type": "execute_result"
    }
   ],
   "source": [
    "xs = list(map(lambda x: x**2, \n",
    "              filter(lambda x: (x % 3) and (x % 5), range(1, 101))))\n",
    "xs[:10]"
   ]
  },
  {
   "cell_type": "code",
   "execution_count": 3,
   "metadata": {},
   "outputs": [],
   "source": [
    "import numpy as np"
   ]
  },
  {
   "cell_type": "code",
   "execution_count": 4,
   "metadata": {},
   "outputs": [
    {
     "data": {
      "text/plain": [
       "[1, 4, 16, 49, 64, 121, 169, 196, 256, 289]"
      ]
     },
     "execution_count": 4,
     "metadata": {},
     "output_type": "execute_result"
    }
   ],
   "source": [
    "xs = np.arange(1, 101)\n",
    "xs = xs[(xs % 3 != 0) & (xs % 5 != 0)]\n",
    "xs = xs**2\n",
    "list(xs[:10])"
   ]
  },
  {
   "cell_type": "markdown",
   "metadata": {},
   "source": [
    "**2**. Create a dictionary where the keys are the 26 lowercase letters and the values are the numbers 1 to 26. Now create another dictionary with the keys and values flipped.\n",
    "\n",
    "- Using dictionary comprehensions\n",
    "- Not using dictionary comprehensions"
   ]
  },
  {
   "cell_type": "code",
   "execution_count": 5,
   "metadata": {},
   "outputs": [
    {
     "data": {
      "text/plain": [
       "{'a': 1,\n",
       " 'b': 2,\n",
       " 'c': 3,\n",
       " 'd': 4,\n",
       " 'e': 5,\n",
       " 'f': 6,\n",
       " 'g': 7,\n",
       " 'h': 8,\n",
       " 'i': 9,\n",
       " 'j': 10,\n",
       " 'k': 11,\n",
       " 'l': 12,\n",
       " 'm': 13,\n",
       " 'n': 14,\n",
       " 'o': 15,\n",
       " 'p': 16,\n",
       " 'q': 17,\n",
       " 'r': 18,\n",
       " 's': 19,\n",
       " 't': 20,\n",
       " 'u': 21,\n",
       " 'v': 22,\n",
       " 'w': 23,\n",
       " 'x': 24,\n",
       " 'y': 25,\n",
       " 'z': 26}"
      ]
     },
     "execution_count": 5,
     "metadata": {},
     "output_type": "execute_result"
    }
   ],
   "source": [
    "import string\n",
    "\n",
    "letters = string.ascii_lowercase\n",
    "d = {letter: i for i, letter in enumerate(letters, start=1)}\n",
    "d"
   ]
  },
  {
   "cell_type": "code",
   "execution_count": 6,
   "metadata": {},
   "outputs": [
    {
     "data": {
      "text/plain": [
       "{1: 'a',\n",
       " 2: 'b',\n",
       " 3: 'c',\n",
       " 4: 'd',\n",
       " 5: 'e',\n",
       " 6: 'f',\n",
       " 7: 'g',\n",
       " 8: 'h',\n",
       " 9: 'i',\n",
       " 10: 'j',\n",
       " 11: 'k',\n",
       " 12: 'l',\n",
       " 13: 'm',\n",
       " 14: 'n',\n",
       " 15: 'o',\n",
       " 16: 'p',\n",
       " 17: 'q',\n",
       " 18: 'r',\n",
       " 19: 's',\n",
       " 20: 't',\n",
       " 21: 'u',\n",
       " 22: 'v',\n",
       " 23: 'w',\n",
       " 24: 'x',\n",
       " 25: 'y',\n",
       " 26: 'z'}"
      ]
     },
     "execution_count": 6,
     "metadata": {},
     "output_type": "execute_result"
    }
   ],
   "source": [
    "d_rev1 = {i: letter for (letter, i) in d.items()}\n",
    "d_rev1"
   ]
  },
  {
   "cell_type": "code",
   "execution_count": 7,
   "metadata": {},
   "outputs": [
    {
     "data": {
      "text/plain": [
       "{1: 'a',\n",
       " 2: 'b',\n",
       " 3: 'c',\n",
       " 4: 'd',\n",
       " 5: 'e',\n",
       " 6: 'f',\n",
       " 7: 'g',\n",
       " 8: 'h',\n",
       " 9: 'i',\n",
       " 10: 'j',\n",
       " 11: 'k',\n",
       " 12: 'l',\n",
       " 13: 'm',\n",
       " 14: 'n',\n",
       " 15: 'o',\n",
       " 16: 'p',\n",
       " 17: 'q',\n",
       " 18: 'r',\n",
       " 19: 's',\n",
       " 20: 't',\n",
       " 21: 'u',\n",
       " 22: 'v',\n",
       " 23: 'w',\n",
       " 24: 'x',\n",
       " 25: 'y',\n",
       " 26: 'z'}"
      ]
     },
     "execution_count": 7,
     "metadata": {},
     "output_type": "execute_result"
    }
   ],
   "source": [
    "d_rev2 = dict(zip(d.values(), d.keys()))\n",
    "d_rev2"
   ]
  },
  {
   "cell_type": "markdown",
   "metadata": {},
   "source": [
    "**3**. A Pythagorean triplet is a tuple of numbers $(a, b, c)$ such that $a^2 + b^2 = c^2$. Find all unique Pythagorean triplets where $a$ and $b$ are each less than 20."
   ]
  },
  {
   "cell_type": "code",
   "execution_count": 8,
   "metadata": {},
   "outputs": [
    {
     "data": {
      "text/plain": [
       "[(3, 4, 5.0),\n",
       " (5, 12, 13.0),\n",
       " (6, 8, 10.0),\n",
       " (8, 15, 17.0),\n",
       " (9, 12, 15.0),\n",
       " (12, 16, 20.0)]"
      ]
     },
     "execution_count": 8,
     "metadata": {},
     "output_type": "execute_result"
    }
   ],
   "source": [
    "triplets = []\n",
    "for a in range(1, 20):\n",
    "    for b in range(a, 20):\n",
    "        c = (a**2 + b**2)**0.5\n",
    "        if c.is_integer():\n",
    "            triplets.append((a, b, c))\n",
    "triplets            "
   ]
  },
  {
   "cell_type": "markdown",
   "metadata": {},
   "source": [
    "**4**. Generate two lists of 1,000,000 random integers between 1 and 1,000,000. Find the numbers which are in *both* lists."
   ]
  },
  {
   "cell_type": "code",
   "execution_count": 9,
   "metadata": {},
   "outputs": [
    {
     "data": {
      "text/plain": [
       "399422"
      ]
     },
     "execution_count": 9,
     "metadata": {},
     "output_type": "execute_result"
    }
   ],
   "source": [
    "xs1 = np.random.randint(1, 1_000_000, 1_000_000)\n",
    "xs2 = np.random.randint(1, 1_000_000, 1_000_000)\n",
    "common = set(xs1).intersection(xs2)\n",
    "len(common)"
   ]
  },
  {
   "cell_type": "code",
   "execution_count": null,
   "metadata": {},
   "outputs": [],
   "source": [
    "%%file foo.txt\n",
    "1;2;3 # semi-colon\n",
    "4:5:6 # colon\n",
    "7 8 9 # space "
   ]
  },
  {
   "cell_type": "markdown",
   "metadata": {},
   "source": [
    "**5**. Read the contents of the file `foo.txt` and use it to populat a 3 $\\times$ 3 `numpy` array. Write the `numpy` array back to a file `bar.txt` using tabs as column separators and newlines as row separators."
   ]
  },
  {
   "cell_type": "code",
   "execution_count": 10,
   "metadata": {},
   "outputs": [
    {
     "data": {
      "text/plain": [
       "array([[1, 2, 3],\n",
       "       [4, 5, 6],\n",
       "       [7, 8, 9]])"
      ]
     },
     "execution_count": 10,
     "metadata": {},
     "output_type": "execute_result"
    }
   ],
   "source": [
    "import re\n",
    "\n",
    "bar = []\n",
    "with open('foo.txt') as f:\n",
    "    for line in f:\n",
    "        line = line.split('#')[0].strip()\n",
    "        items = re.split(r'[;|:|\\s]', line)\n",
    "        bar.append(items)\n",
    "bar = np.array(bar, dtype='int')\n",
    "bar"
   ]
  },
  {
   "cell_type": "code",
   "execution_count": 11,
   "metadata": {},
   "outputs": [],
   "source": [
    "np.savetxt('bar.txt', bar, fmt='%d')"
   ]
  },
  {
   "cell_type": "code",
   "execution_count": 12,
   "metadata": {},
   "outputs": [
    {
     "name": "stdout",
     "output_type": "stream",
     "text": [
      "1 2 3\r\n",
      "4 5 6\r\n",
      "7 8 9\r\n"
     ]
    }
   ],
   "source": [
    "! cat bar.txt"
   ]
  },
  {
   "cell_type": "markdown",
   "metadata": {},
   "source": [
    "**Alternative solution**: Incredibly, `pandas` can read such files"
   ]
  },
  {
   "cell_type": "code",
   "execution_count": 13,
   "metadata": {},
   "outputs": [],
   "source": [
    "import pandas as pd\n",
    "import warnings\n",
    "warnings.simplefilter('ignore', pd.errors.ParserWarning)"
   ]
  },
  {
   "cell_type": "code",
   "execution_count": 14,
   "metadata": {},
   "outputs": [
    {
     "name": "stdout",
     "output_type": "stream",
     "text": [
      "1 2 3\r\n",
      "4 5 6\r\n",
      "7 8 9\r\n"
     ]
    }
   ],
   "source": [
    "df = pd.read_csv('foo.txt', sep=r'[;|:|\\s]', comment='#', header=None)\n",
    "df.to_csv('bar2.txt', sep=' ', index=False, header=False)\n",
    "! cat bar2.txt"
   ]
  },
  {
   "cell_type": "markdown",
   "metadata": {},
   "source": [
    "**6**. Write a function that returns the number of ones in the binary represenation of a positive integer."
   ]
  },
  {
   "cell_type": "code",
   "execution_count": 15,
   "metadata": {},
   "outputs": [],
   "source": [
    "def one_bits(n):\n",
    "    return bin(n).count('1')"
   ]
  },
  {
   "cell_type": "code",
   "execution_count": 17,
   "metadata": {},
   "outputs": [
    {
     "data": {
      "text/plain": [
       "'0b1111100111'"
      ]
     },
     "execution_count": 17,
     "metadata": {},
     "output_type": "execute_result"
    }
   ],
   "source": [
    "bin(999)"
   ]
  },
  {
   "cell_type": "code",
   "execution_count": 16,
   "metadata": {},
   "outputs": [
    {
     "data": {
      "text/plain": [
       "8"
      ]
     },
     "execution_count": 16,
     "metadata": {},
     "output_type": "execute_result"
    }
   ],
   "source": [
    "one_bits(999)"
   ]
  },
  {
   "cell_type": "markdown",
   "metadata": {},
   "source": [
    "**Alternative solution**"
   ]
  },
  {
   "cell_type": "code",
   "execution_count": 20,
   "metadata": {},
   "outputs": [],
   "source": [
    "def one_bits2(n):\n",
    "    \"\"\"Count the number of 1s in the binary representaiton of n.\"\"\"\n",
    "    \n",
    "    count = 0\n",
    "    while n != 0:\n",
    "        n, r = divmod(n, 2)\n",
    "        count += r\n",
    "    return count"
   ]
  },
  {
   "cell_type": "code",
   "execution_count": 19,
   "metadata": {},
   "outputs": [
    {
     "data": {
      "text/plain": [
       "8"
      ]
     },
     "execution_count": 19,
     "metadata": {},
     "output_type": "execute_result"
    }
   ],
   "source": [
    "one_bits2(999)"
   ]
  },
  {
   "cell_type": "markdown",
   "metadata": {},
   "source": [
    "**7**. Create the following matrix using `numpy` operations and as little typing as possible\n",
    "\n",
    "```\n",
    "array([[1, 1, 0, 0, 0],\n",
    "       [2, 2, 2, 0, 0],\n",
    "       [0, 3, 3, 3, 0],\n",
    "       [0, 0, 4, 4, 4],\n",
    "       [0, 0, 0, 5, 5]])\n",
    "```"
   ]
  },
  {
   "cell_type": "code",
   "execution_count": 21,
   "metadata": {},
   "outputs": [
    {
     "data": {
      "text/plain": [
       "array([[1, 1, 0, 0, 0],\n",
       "       [2, 2, 2, 0, 0],\n",
       "       [0, 3, 3, 3, 0],\n",
       "       [0, 0, 4, 4, 4],\n",
       "       [0, 0, 0, 5, 5]])"
      ]
     },
     "execution_count": 21,
     "metadata": {},
     "output_type": "execute_result"
    }
   ],
   "source": [
    "np.diag(range(1,6)) + np.diag(range(2,6), -1) + np.diag(range(1,5), 1)"
   ]
  },
  {
   "cell_type": "markdown",
   "metadata": {},
   "source": [
    "**Alternative solution**"
   ]
  },
  {
   "cell_type": "code",
   "execution_count": 22,
   "metadata": {},
   "outputs": [
    {
     "data": {
      "text/plain": [
       "array([[1, 1, 0, 0, 0],\n",
       "       [2, 2, 2, 0, 0],\n",
       "       [0, 3, 3, 3, 0],\n",
       "       [0, 0, 4, 4, 4],\n",
       "       [0, 0, 0, 5, 5]])"
      ]
     },
     "execution_count": 22,
     "metadata": {},
     "output_type": "execute_result"
    }
   ],
   "source": [
    "np.fromfunction(lambda i,j: np.where((j<(i+2)) & (i < (j+2)), i+1 , 0), (5,5), dtype='int')"
   ]
  },
  {
   "cell_type": "markdown",
   "metadata": {},
   "source": [
    "**8**. You are given\n",
    "\n",
    "```\n",
    "x = np.array([ 1,  2,  3,  4,  5,  6,  7,  8,  9, 10])\n",
    "y = np.array([  1.32906108,  14.93973105,  35.41812006,  59.36017234,\n",
    "        91.82978278, 125.74882299, 171.15867425, 219.0626794 ,\n",
    "       273.14683574, 335.58388112])\n",
    "```\n",
    "\n",
    "Find the best least-squares quadratic fit to these data points by solving the normal equations\n",
    "$$\n",
    "\\beta = (X^T X)^{-1}X^T y\n",
    "$$\n",
    "\n",
    "Plot the data and fitted curve."
   ]
  },
  {
   "cell_type": "code",
   "execution_count": 23,
   "metadata": {},
   "outputs": [],
   "source": [
    "x = np.array([ 1,  2,  3,  4,  5,  6,  7,  8,  9, 10])\n",
    "y = np.array([  1.32906108,  14.93973105,  35.41812006,  59.36017234,\n",
    "        91.82978278, 125.74882299, 171.15867425, 219.0626794 ,\n",
    "       273.14683574, 335.58388112])"
   ]
  },
  {
   "cell_type": "code",
   "execution_count": 24,
   "metadata": {},
   "outputs": [],
   "source": [
    "X = np.c_[np.ones(10), x, x**2]\n",
    "β = np.linalg.solve(X.T @ X, X.T @ y)"
   ]
  },
  {
   "cell_type": "code",
   "execution_count": 25,
   "metadata": {},
   "outputs": [
    {
     "data": {
      "text/plain": [
       "array([-5.57665374,  4.4354525 ,  2.959466  ])"
      ]
     },
     "execution_count": 25,
     "metadata": {},
     "output_type": "execute_result"
    }
   ],
   "source": [
    "β"
   ]
  },
  {
   "cell_type": "code",
   "execution_count": 26,
   "metadata": {},
   "outputs": [
    {
     "data": {
      "image/png": "[encoded data removed]",
      "text/plain": [
       "<Figure size 432x288 with 1 Axes>"
      ]
     },
     "metadata": {
      "needs_background": "light"
     },
     "output_type": "display_data"
    }
   ],
   "source": [
    "import matplotlib.pyplot as plt\n",
    "\n",
    "plt.plot(x, y, 'o')\n",
    "plt.plot(x, X@β);"
   ]
  },
  {
   "cell_type": "markdown",
   "metadata": {},
   "source": [
    "**9**. Count all unique words in the poem Jabberwocky after removing punctuation and converting to lower case."
   ]
  },
  {
   "cell_type": "code",
   "execution_count": 27,
   "metadata": {},
   "outputs": [],
   "source": [
    "poem = \"\"\"’Twas brillig, and the slithy toves \n",
    "      Did gyre and gimble in the wabe: \n",
    "All mimsy were the borogoves, \n",
    "      And the mome raths outgrabe. \n",
    "\n",
    "“Beware the Jabberwock, my son! \n",
    "      The jaws that bite, the claws that catch! \n",
    "Beware the Jubjub bird, and shun \n",
    "      The frumious Bandersnatch!” \n",
    "\n",
    "He took his vorpal sword in hand; \n",
    "      Long time the manxome foe he sought— \n",
    "So rested he by the Tumtum tree \n",
    "      And stood awhile in thought. \n",
    "\n",
    "And, as in uffish thought he stood, \n",
    "      The Jabberwock, with eyes of flame, \n",
    "Came whiffling through the tulgey wood, \n",
    "      And burbled as it came! \n",
    "\n",
    "One, two! One, two! And through and through \n",
    "      The vorpal blade went snicker-snack! \n",
    "He left it dead, and with its head \n",
    "      He went galumphing back. \n",
    "\n",
    "“And hast thou slain the Jabberwock? \n",
    "      Come to my arms, my beamish boy! \n",
    "O frabjous day! Callooh! Callay!” \n",
    "      He chortled in his joy. \n",
    "\n",
    "’Twas brillig, and the slithy toves \n",
    "      Did gyre and gimble in the wabe: \n",
    "All mimsy were the borogoves, \n",
    "      And the mome raths outgrabe.\"\"\""
   ]
  },
  {
   "cell_type": "code",
   "execution_count": 28,
   "metadata": {},
   "outputs": [
    {
     "data": {
      "text/plain": [
       "[('the', 19), ('and', 14), ('he', 7), ('in', 6), ('jabberwock', 3)]"
      ]
     },
     "execution_count": 28,
     "metadata": {},
     "output_type": "execute_result"
    }
   ],
   "source": [
    "from collections import Counter\n",
    "\n",
    "table = str.maketrans('', '', '’“”—' + string.punctuation)\n",
    "c = Counter(poem.translate(table).lower().split())\n",
    "c.most_common(5)"
   ]
  },
  {
   "cell_type": "markdown",
   "metadata": {},
   "source": [
    "**Alternative**"
   ]
  },
  {
   "cell_type": "code",
   "execution_count": 29,
   "metadata": {},
   "outputs": [
    {
     "data": {
      "text/plain": [
       "[('the', 19), ('and', 14), ('he', 7), ('in', 6), ('jabberwock', 3)]"
      ]
     },
     "execution_count": 29,
     "metadata": {},
     "output_type": "execute_result"
    }
   ],
   "source": [
    "words = ''.join([char.lower() for char in poem \n",
    "                 if char not in '’“”—' + string.punctuation]).split()\n",
    "counts = {}\n",
    "for word in words:\n",
    "    counts[word] = counts.get(word, 0) + 1\n",
    "sorted(counts.items(), key=lambda x: x[1], reverse=True)[:5]"
   ]
  },
  {
   "cell_type": "markdown",
   "metadata": {},
   "source": [
    "**10**. Write a Python script called `greet.py` that when run on command line\n",
    "\n",
    "```\n",
    "python greet.py foo\n",
    "```\n",
    "\n",
    "prints out\n",
    "\n",
    "```\n",
    "hello foo\n",
    "```\n",
    "\n",
    "but can also be used like so in the notebook\n",
    "\n",
    "```python\n",
    "import greet\n",
    "\n",
    "greet.greet('foo')\n",
    "```\n",
    "\n",
    "to print out\n",
    "\n",
    "```\n",
    "'hello foo'\n",
    "```"
   ]
  },
  {
   "cell_type": "code",
   "execution_count": 30,
   "metadata": {},
   "outputs": [
    {
     "name": "stdout",
     "output_type": "stream",
     "text": [
      "Overwriting greet.py\n"
     ]
    }
   ],
   "source": [
    "%%file greet.py\n",
    "\n",
    "def greet(name):\n",
    "    print(f'hello {name}')\n",
    "    \n",
    "if __name__ == '__main__':\n",
    "    import sys\n",
    "    greet(sys.argv[1])"
   ]
  },
  {
   "cell_type": "code",
   "execution_count": 31,
   "metadata": {},
   "outputs": [
    {
     "name": "stdout",
     "output_type": "stream",
     "text": [
      "\r\n",
      "def greet(name):\r\n",
      "    print(f'hello {name}')\r\n",
      "    \r\n",
      "if __name__ == '__main__':\r\n",
      "    import sys\r\n",
      "    greet(sys.argv[1])\r\n"
     ]
    }
   ],
   "source": [
    "! cat greet.py"
   ]
  },
  {
   "cell_type": "code",
   "execution_count": 32,
   "metadata": {},
   "outputs": [
    {
     "name": "stdout",
     "output_type": "stream",
     "text": [
      "hello foo\r\n"
     ]
    }
   ],
   "source": [
    "! python3 greet.py foo"
   ]
  },
  {
   "cell_type": "code",
   "execution_count": 33,
   "metadata": {},
   "outputs": [
    {
     "name": "stdout",
     "output_type": "stream",
     "text": [
      "hello foo\n"
     ]
    }
   ],
   "source": [
    "import greet\n",
    "\n",
    "greet.greet('foo')"
   ]
  },
  {
   "cell_type": "code",
   "execution_count": null,
   "metadata": {},
   "outputs": [],
   "source": []
  }
 ],
 "metadata": {
  "kernelspec": {
   "display_name": "Python 3.8.5 64-bit",
   "language": "python",
   "name": "python38564bit02a66c47ce504b05b2ef5646cfed96c2"
  },
  "language_info": {
   "codemirror_mode": {
    "name": "ipython",
    "version": 3
   },
   "file_extension": ".py",
   "mimetype": "text/x-python",
   "name": "python",
   "nbconvert_exporter": "python",
   "pygments_lexer": "ipython3",
   "version": "3.9.5"
  }
 },
 "nbformat": 4,
 "nbformat_minor": 4
}
