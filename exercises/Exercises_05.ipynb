{
 "cells": [
  {
   "cell_type": "markdown",
   "metadata": {},
   "source": [
    "**1**. This is a longer programming challenge than usual and is the capstone of the basic Python data science stack module. There is only one exercise for this homework.\n",
    "\n",
    "Implement the Drossel and Schwabl forest fire model using the [description](https://en.wikipedia.org/wiki/Forest-fire_model#/media/File:Forest_fire_model.gif) from Wikipedia\n",
    "\n",
    "The model is defined as a cellular automaton on a grid with Ld cells. L is the side length of the grid and d is its dimension. A cell can be empty, occupied by a tree, or burning. The model of Drossel and Schwabl (1992) is defined by four rules which are executed simultaneously:\n",
    "1. A burning cell turns into an empty cell\n",
    "2. A tree will burn if at least one neighbor is burning\n",
    "3. A tree ignites with probability f even if no neighbor is burning\n",
    "4. An empty space fills with a tree with probability p\n",
    "\n",
    "\n",
    "- Parameters for the simulation are\n",
    "```python\n",
    "steps = 200  # Number of steps\n",
    "p = 0.03     # Probability of EMPTY -> TREE\n",
    "f = p * 0.01 # Probability of TREE -> FIRE\n",
    "n = 200      # Length of square grid\n",
    "steps = 200  # Number of simulation steps\n",
    "```\n",
    "- You need to write code create an array named `sim` with shape (steps, n, n)\n",
    "- **Note**: Your code should make use of `numpy` optimizations as much as possible - the simulation itself takes less than a second to complete on my fairly old desktop\n",
    "- Now create a plot as shown from the `sims` array\n",
    "![](./forest_fire.png)\n",
    "- Code to display an animation of the `sims` array is provided\n",
    "- Your animation should be similar to the one shown\n",
    "\n",
    "Hints:\n",
    "\n",
    "- For simplicity, assume that the borders of the simulation grid are fixed so they are always empty (the borders are *outside* the 100 by 100 grid you are saving at each step.\n",
    "- Use marginalization to get the required numbers for the plot of population sizes over time\n",
    "- Use *views* liberally - they do not incur the cost of a copy\n"
   ]
  },
  {
   "cell_type": "code",
   "execution_count": null,
   "metadata": {},
   "outputs": [],
   "source": [
    "from IPython.display import Video\n",
    "\n",
    "Video(\"forest_fire.mp4\")"
   ]
  },
  {
   "cell_type": "code",
   "execution_count": null,
   "metadata": {},
   "outputs": [],
   "source": [
    "\n",
    "\n",
    "\n"
   ]
  },
  {
   "cell_type": "code",
   "execution_count": null,
   "metadata": {},
   "outputs": [],
   "source": [
    "%%capture\n",
    "\n",
    "fig = plt.figure(figsize=(6,6))\n",
    "im = plt.imshow(sim[0], cmap=ListedColormap(['black', 'green', 'red']), vmin=0, vmax=2)\n",
    "\n",
    "def updatefig(j):\n",
    "    im.set_array(sim[j])\n",
    "    return [im]\n",
    "\n",
    "ani = animation.FuncAnimation(fig, updatefig, frames=range(steps), \n",
    "                              interval=50, blit=True);"
   ]
  },
  {
   "cell_type": "code",
   "execution_count": null,
   "metadata": {},
   "outputs": [],
   "source": [
    "%%time\n",
    "HTML(ani.to_jshtml())"
   ]
  },
  {
   "cell_type": "code",
   "execution_count": null,
   "metadata": {},
   "outputs": [],
   "source": [
    "Writer = animation.writers['ffmpeg']\n",
    "writer = Writer(fps=15, metadata=dict(artist='Me'), bitrate=1800)\n",
    "ani.save('forest_fire.mp4', writer=writer)"
   ]
  },
  {
   "cell_type": "code",
   "execution_count": null,
   "metadata": {},
   "outputs": [],
   "source": []
  }
 ],
 "metadata": {
  "kernelspec": {
   "display_name": "Python 3",
   "language": "python",
   "name": "python3"
  },
  "language_info": {
   "codemirror_mode": {
    "name": "ipython",
    "version": 3
   },
   "file_extension": ".py",
   "mimetype": "text/x-python",
   "name": "python",
   "nbconvert_exporter": "python",
   "pygments_lexer": "ipython3",
   "version": "3.8.10"
  }
 },
 "nbformat": 4,
 "nbformat_minor": 2
}
