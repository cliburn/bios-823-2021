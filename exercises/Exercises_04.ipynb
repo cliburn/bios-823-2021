{
 "cells": [
  {
   "cell_type": "markdown",
   "metadata": {},
   "source": [
    "Note: Parts of this homework might be quite challenging as it may not be obvious how to even search for a possible solution. Feel free to collaborate with your classmates to solve these questions."
   ]
  },
  {
   "cell_type": "markdown",
   "metadata": {},
   "source": [
    "**1**. Using `requests`, read text from from \n",
    "\n",
    "`https://archive.ics.uci.edu/ml/machine-learning-databases/iris/iris.names`\n",
    "    \n",
    "and write a regular expression using `re` that returns the following list\n",
    "\n",
    "```python\n",
    "['sepal length in cm',\n",
    " 'sepal width in cm',\n",
    " 'petal length in cm',\n",
    " 'petal width in cm',\n",
    " 'class']\n",
    "```"
   ]
  },
  {
   "cell_type": "code",
   "execution_count": null,
   "metadata": {},
   "outputs": [],
   "source": []
  },
  {
   "cell_type": "markdown",
   "metadata": {},
   "source": [
    "**2**. Using `pandas`, create a DataFrame which looks like the image below (but with all rows) from\n",
    "\n",
    "`https://archive.ics.uci.edu/ml/machine-learning-databases/iris/iris.data'`\n",
    "\n",
    "and the columns variable created in the last question.\n",
    "\n",
    "<img src=\"ex4_q2.png\" alt=\"df\" width=\"400\"/>"
   ]
  },
  {
   "cell_type": "code",
   "execution_count": null,
   "metadata": {},
   "outputs": [],
   "source": []
  },
  {
   "cell_type": "markdown",
   "metadata": {},
   "source": [
    "**3**. Modify the DataFrame so that `iris` is in a column called `genus` and `setosa` etc is in a column named `species` and remove the `class` column."
   ]
  },
  {
   "cell_type": "code",
   "execution_count": null,
   "metadata": {},
   "outputs": [],
   "source": []
  },
  {
   "cell_type": "markdown",
   "metadata": {},
   "source": [
    "**4**. Using `seaborn`, generate this plot from the DataFrame created in Q3.\n",
    "\n",
    "<img src=\"ex4_q4.png\" alt=\"plot\" width=\"400\"/>"
   ]
  },
  {
   "cell_type": "code",
   "execution_count": null,
   "metadata": {},
   "outputs": [],
   "source": []
  },
  {
   "cell_type": "markdown",
   "metadata": {},
   "source": [
    "**5**. Using `joypy`, create the following plot from the `iris` DataFrame from Q2. You may have to pip install `joypy` first.\n",
    "\n",
    "<img src=\"ex4_q5.png\" alt=\"plot\" width=\"400\"/>"
   ]
  },
  {
   "cell_type": "code",
   "execution_count": null,
   "metadata": {},
   "outputs": [],
   "source": []
  }
 ],
 "metadata": {
  "kernelspec": {
   "display_name": "frontiers-env",
   "language": "python",
   "name": "frontiers-env"
  },
  "language_info": {
   "codemirror_mode": {
    "name": "ipython",
    "version": 3
   },
   "file_extension": ".py",
   "mimetype": "text/x-python",
   "name": "python",
   "nbconvert_exporter": "python",
   "pygments_lexer": "ipython3",
   "version": "3.9.5"
  }
 },
 "nbformat": 4,
 "nbformat_minor": 4
}
